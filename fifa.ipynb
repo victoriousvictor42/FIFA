{
  "nbformat": 4,
  "nbformat_minor": 0,
  "metadata": {
    "colab": {
      "name": "fifa.ipynb",
      "provenance": []
    },
    "kernelspec": {
      "name": "python3",
      "display_name": "Python 3"
    }
  },
  "cells": [
    {
      "cell_type": "markdown",
      "metadata": {
        "id": "kLG2VTrnTvYL",
        "colab_type": "text"
      },
      "source": [
        "## 1. Defining the Question"
      ]
    },
    {
      "cell_type": "markdown",
      "metadata": {
        "id": "XecOwPNorl2W",
        "colab_type": "text"
      },
      "source": [
        "### a) Specifying the Question"
      ]
    },
    {
      "cell_type": "markdown",
      "metadata": {
        "id": "8l3-hBO6bODP",
        "colab_type": "text"
      },
      "source": [
        "\n",
        "\n",
        "\n",
        "\n",
        "\n",
        "> Make a prediction to score between team 1 and team 2, based on who's home and who's away, when they are playing a friendly match. Using the ranking from FIFA to assist in making predictions\n"
      ]
    },
    {
      "cell_type": "markdown",
      "metadata": {
        "id": "J4wfHZwQrs-t",
        "colab_type": "text"
      },
      "source": [
        "### b) Defining the Metric for Success"
      ]
    },
    {
      "cell_type": "markdown",
      "metadata": {
        "id": "oHu78nQk6DIl",
        "colab_type": "text"
      },
      "source": [
        "\n",
        "\n",
        "> \n",
        "\n",
        "1.   Do a polynomial regression\n",
        "2.   Do a logistic regression\n",
        "\n",
        "\n",
        "\n"
      ]
    },
    {
      "cell_type": "markdown",
      "metadata": {
        "id": "a9BPYqunry97",
        "colab_type": "text"
      },
      "source": [
        "### c) Understanding the context "
      ]
    },
    {
      "cell_type": "markdown",
      "metadata": {
        "id": "bOcSVcgo6Wc0",
        "colab_type": "text"
      },
      "source": [
        "\n",
        "\n",
        "> Mchezopesa Ltd have just joined the betting booming business and they are curious to know how they will be assigning odds according to how FIFA ranks teams. This will make mchezopesa give out relevant odds so that they can attact more customers.\n",
        "\n"
      ]
    },
    {
      "cell_type": "markdown",
      "metadata": {
        "id": "7KMRBJ7zr9HD",
        "colab_type": "text"
      },
      "source": [
        "### d) Recording the Experimental Design"
      ]
    },
    {
      "cell_type": "markdown",
      "metadata": {
        "id": "Xpf98zNb7R9T",
        "colab_type": "text"
      },
      "source": [
        "\n",
        "\n",
        "1.   Perform EDA\n",
        "2.   Perform Feature Engineering if necessary\n",
        "3.   Check for multicoliinearity\n",
        "4.   build the model\n",
        "5.   Perform cross validation\n",
        "6.   calculate the RMSE\n",
        "7.   Create the residual plots and assess for heteroskedicity\n",
        "\n",
        "\n",
        "\n",
        "\n",
        "\n",
        "\n",
        "\n"
      ]
    },
    {
      "cell_type": "markdown",
      "metadata": {
        "id": "zSGyg6kWsBUl",
        "colab_type": "text"
      },
      "source": [
        "### e) Data Relevance"
      ]
    },
    {
      "cell_type": "markdown",
      "metadata": {
        "id": "QUnI3qpU8Zfq",
        "colab_type": "text"
      },
      "source": [
        "\n",
        "\n",
        "> This data was gotten from FIFA. Its relavant to Mchezopesa since they are a betting firm that want to establish their roots in the Kenyan market. There is no other way to get better other than using the main source of data, ie, the governing body of football, FIFA.\n",
        "\n"
      ]
    },
    {
      "cell_type": "markdown",
      "metadata": {
        "id": "iUNbvIvnT7ep",
        "colab_type": "text"
      },
      "source": [
        "## 2. Reading the Data"
      ]
    },
    {
      "cell_type": "code",
      "metadata": {
        "id": "8S0qY1qn95ra",
        "colab_type": "code",
        "colab": {}
      },
      "source": [
        "# importing the neccessary datasets\n",
        "import pandas as pd\n",
        "import numpy as np\n",
        "import matplotlib.pyplot as plt\n",
        "import seaborn as sns\n"
      ],
      "execution_count": 0,
      "outputs": []
    },
    {
      "cell_type": "code",
      "metadata": {
        "id": "XJn2KjW-WMlG",
        "colab_type": "code",
        "colab": {}
      },
      "source": [
        "# Loading the two Datasets\n",
        "ranking = pd.read_csv('fifa_ranking.csv') \n",
        "results = pd.read_csv('results.csv')"
      ],
      "execution_count": 0,
      "outputs": []
    },
    {
      "cell_type": "markdown",
      "metadata": {
        "id": "OI3P3YnHUEBk",
        "colab_type": "text"
      },
      "source": [
        "## 3. Checking the Data"
      ]
    },
    {
      "cell_type": "code",
      "metadata": {
        "id": "YjSVNwgptHxY",
        "colab_type": "code",
        "colab": {
          "base_uri": "https://localhost:8080/",
          "height": 68
        },
        "outputId": "2d8fa750-9609-43b3-900d-cb467c3f7896"
      },
      "source": [
        "# Determining the no. of records in our dataset\n",
        "\n",
        "print(ranking.shape)\n",
        "print('*'*50)\n",
        "results.shape"
      ],
      "execution_count": 171,
      "outputs": [
        {
          "output_type": "stream",
          "text": [
            "(57793, 16)\n",
            "**************************************************\n"
          ],
          "name": "stdout"
        },
        {
          "output_type": "execute_result",
          "data": {
            "text/plain": [
              "(40839, 9)"
            ]
          },
          "metadata": {
            "tags": []
          },
          "execution_count": 171
        }
      ]
    },
    {
      "cell_type": "markdown",
      "metadata": {
        "id": "sTAC3XR1-hz5",
        "colab_type": "text"
      },
      "source": [
        "Ranking has 57,793 rows and 16 columns\n",
        "******\n",
        "Results has 40,839 rows and 9 columns"
      ]
    },
    {
      "cell_type": "code",
      "metadata": {
        "id": "xHhTw5eKWr0n",
        "colab_type": "code",
        "colab": {
          "base_uri": "https://localhost:8080/",
          "height": 357
        },
        "outputId": "a06f4cfa-1937-418f-d936-f61efef14493"
      },
      "source": [
        "# Previewing the top of our dataset\n",
        "print(ranking.head())\n",
        "print('*'*50)\n",
        "results.head()"
      ],
      "execution_count": 172,
      "outputs": [
        {
          "output_type": "stream",
          "text": [
            "   rank country_full  ... confederation   rank_date\n",
            "0     1      Germany  ...          UEFA  1993-08-08\n",
            "1     2        Italy  ...          UEFA  1993-08-08\n",
            "2     3  Switzerland  ...          UEFA  1993-08-08\n",
            "3     4       Sweden  ...          UEFA  1993-08-08\n",
            "4     5    Argentina  ...      CONMEBOL  1993-08-08\n",
            "\n",
            "[5 rows x 16 columns]\n",
            "**************************************************\n"
          ],
          "name": "stdout"
        },
        {
          "output_type": "execute_result",
          "data": {
            "text/html": [
              "<div>\n",
              "<style scoped>\n",
              "    .dataframe tbody tr th:only-of-type {\n",
              "        vertical-align: middle;\n",
              "    }\n",
              "\n",
              "    .dataframe tbody tr th {\n",
              "        vertical-align: top;\n",
              "    }\n",
              "\n",
              "    .dataframe thead th {\n",
              "        text-align: right;\n",
              "    }\n",
              "</style>\n",
              "<table border=\"1\" class=\"dataframe\">\n",
              "  <thead>\n",
              "    <tr style=\"text-align: right;\">\n",
              "      <th></th>\n",
              "      <th>date</th>\n",
              "      <th>home_team</th>\n",
              "      <th>away_team</th>\n",
              "      <th>home_score</th>\n",
              "      <th>away_score</th>\n",
              "      <th>tournament</th>\n",
              "      <th>city</th>\n",
              "      <th>country</th>\n",
              "      <th>neutral</th>\n",
              "    </tr>\n",
              "  </thead>\n",
              "  <tbody>\n",
              "    <tr>\n",
              "      <th>0</th>\n",
              "      <td>1872-11-30</td>\n",
              "      <td>Scotland</td>\n",
              "      <td>England</td>\n",
              "      <td>0</td>\n",
              "      <td>0</td>\n",
              "      <td>Friendly</td>\n",
              "      <td>Glasgow</td>\n",
              "      <td>Scotland</td>\n",
              "      <td>False</td>\n",
              "    </tr>\n",
              "    <tr>\n",
              "      <th>1</th>\n",
              "      <td>1873-03-08</td>\n",
              "      <td>England</td>\n",
              "      <td>Scotland</td>\n",
              "      <td>4</td>\n",
              "      <td>2</td>\n",
              "      <td>Friendly</td>\n",
              "      <td>London</td>\n",
              "      <td>England</td>\n",
              "      <td>False</td>\n",
              "    </tr>\n",
              "    <tr>\n",
              "      <th>2</th>\n",
              "      <td>1874-03-07</td>\n",
              "      <td>Scotland</td>\n",
              "      <td>England</td>\n",
              "      <td>2</td>\n",
              "      <td>1</td>\n",
              "      <td>Friendly</td>\n",
              "      <td>Glasgow</td>\n",
              "      <td>Scotland</td>\n",
              "      <td>False</td>\n",
              "    </tr>\n",
              "    <tr>\n",
              "      <th>3</th>\n",
              "      <td>1875-03-06</td>\n",
              "      <td>England</td>\n",
              "      <td>Scotland</td>\n",
              "      <td>2</td>\n",
              "      <td>2</td>\n",
              "      <td>Friendly</td>\n",
              "      <td>London</td>\n",
              "      <td>England</td>\n",
              "      <td>False</td>\n",
              "    </tr>\n",
              "    <tr>\n",
              "      <th>4</th>\n",
              "      <td>1876-03-04</td>\n",
              "      <td>Scotland</td>\n",
              "      <td>England</td>\n",
              "      <td>3</td>\n",
              "      <td>0</td>\n",
              "      <td>Friendly</td>\n",
              "      <td>Glasgow</td>\n",
              "      <td>Scotland</td>\n",
              "      <td>False</td>\n",
              "    </tr>\n",
              "  </tbody>\n",
              "</table>\n",
              "</div>"
            ],
            "text/plain": [
              "         date home_team away_team  ...     city   country neutral\n",
              "0  1872-11-30  Scotland   England  ...  Glasgow  Scotland   False\n",
              "1  1873-03-08   England  Scotland  ...   London   England   False\n",
              "2  1874-03-07  Scotland   England  ...  Glasgow  Scotland   False\n",
              "3  1875-03-06   England  Scotland  ...   London   England   False\n",
              "4  1876-03-04  Scotland   England  ...  Glasgow  Scotland   False\n",
              "\n",
              "[5 rows x 9 columns]"
            ]
          },
          "metadata": {
            "tags": []
          },
          "execution_count": 172
        }
      ]
    },
    {
      "cell_type": "code",
      "metadata": {
        "id": "e9AzGcZFrIIr",
        "colab_type": "code",
        "colab": {
          "base_uri": "https://localhost:8080/",
          "height": 357
        },
        "outputId": "053002d8-9073-4e72-c5f7-2d0f61771880"
      },
      "source": [
        "# Previewing the bottom of our dataset\n",
        "print(ranking.tail())\n",
        "print('*'*50)\n",
        "results.tail()"
      ],
      "execution_count": 173,
      "outputs": [
        {
          "output_type": "stream",
          "text": [
            "       rank country_full  ... confederation   rank_date\n",
            "57788   206     Anguilla  ...      CONCACAF  2018-06-07\n",
            "57789   206      Bahamas  ...      CONCACAF  2018-06-07\n",
            "57790   206      Eritrea  ...           CAF  2018-06-07\n",
            "57791   206      Somalia  ...           CAF  2018-06-07\n",
            "57792   206        Tonga  ...           OFC  2018-06-07\n",
            "\n",
            "[5 rows x 16 columns]\n",
            "**************************************************\n"
          ],
          "name": "stdout"
        },
        {
          "output_type": "execute_result",
          "data": {
            "text/html": [
              "<div>\n",
              "<style scoped>\n",
              "    .dataframe tbody tr th:only-of-type {\n",
              "        vertical-align: middle;\n",
              "    }\n",
              "\n",
              "    .dataframe tbody tr th {\n",
              "        vertical-align: top;\n",
              "    }\n",
              "\n",
              "    .dataframe thead th {\n",
              "        text-align: right;\n",
              "    }\n",
              "</style>\n",
              "<table border=\"1\" class=\"dataframe\">\n",
              "  <thead>\n",
              "    <tr style=\"text-align: right;\">\n",
              "      <th></th>\n",
              "      <th>date</th>\n",
              "      <th>home_team</th>\n",
              "      <th>away_team</th>\n",
              "      <th>home_score</th>\n",
              "      <th>away_score</th>\n",
              "      <th>tournament</th>\n",
              "      <th>city</th>\n",
              "      <th>country</th>\n",
              "      <th>neutral</th>\n",
              "    </tr>\n",
              "  </thead>\n",
              "  <tbody>\n",
              "    <tr>\n",
              "      <th>40834</th>\n",
              "      <td>2019-07-18</td>\n",
              "      <td>American Samoa</td>\n",
              "      <td>Tahiti</td>\n",
              "      <td>8</td>\n",
              "      <td>1</td>\n",
              "      <td>Pacific Games</td>\n",
              "      <td>Apia</td>\n",
              "      <td>Samoa</td>\n",
              "      <td>True</td>\n",
              "    </tr>\n",
              "    <tr>\n",
              "      <th>40835</th>\n",
              "      <td>2019-07-18</td>\n",
              "      <td>Fiji</td>\n",
              "      <td>Solomon Islands</td>\n",
              "      <td>4</td>\n",
              "      <td>4</td>\n",
              "      <td>Pacific Games</td>\n",
              "      <td>Apia</td>\n",
              "      <td>Samoa</td>\n",
              "      <td>True</td>\n",
              "    </tr>\n",
              "    <tr>\n",
              "      <th>40836</th>\n",
              "      <td>2019-07-19</td>\n",
              "      <td>Senegal</td>\n",
              "      <td>Algeria</td>\n",
              "      <td>0</td>\n",
              "      <td>1</td>\n",
              "      <td>African Cup of Nations</td>\n",
              "      <td>Cairo</td>\n",
              "      <td>Egypt</td>\n",
              "      <td>True</td>\n",
              "    </tr>\n",
              "    <tr>\n",
              "      <th>40837</th>\n",
              "      <td>2019-07-19</td>\n",
              "      <td>Tajikistan</td>\n",
              "      <td>North Korea</td>\n",
              "      <td>0</td>\n",
              "      <td>1</td>\n",
              "      <td>Intercontinental Cup</td>\n",
              "      <td>Ahmedabad</td>\n",
              "      <td>India</td>\n",
              "      <td>True</td>\n",
              "    </tr>\n",
              "    <tr>\n",
              "      <th>40838</th>\n",
              "      <td>2019-07-20</td>\n",
              "      <td>Papua New Guinea</td>\n",
              "      <td>Fiji</td>\n",
              "      <td>1</td>\n",
              "      <td>1</td>\n",
              "      <td>Pacific Games</td>\n",
              "      <td>Apia</td>\n",
              "      <td>Samoa</td>\n",
              "      <td>True</td>\n",
              "    </tr>\n",
              "  </tbody>\n",
              "</table>\n",
              "</div>"
            ],
            "text/plain": [
              "             date         home_team  ... country  neutral\n",
              "40834  2019-07-18    American Samoa  ...   Samoa     True\n",
              "40835  2019-07-18              Fiji  ...   Samoa     True\n",
              "40836  2019-07-19           Senegal  ...   Egypt     True\n",
              "40837  2019-07-19        Tajikistan  ...   India     True\n",
              "40838  2019-07-20  Papua New Guinea  ...   Samoa     True\n",
              "\n",
              "[5 rows x 9 columns]"
            ]
          },
          "metadata": {
            "tags": []
          },
          "execution_count": 173
        }
      ]
    },
    {
      "cell_type": "code",
      "metadata": {
        "id": "n8-dW4sQWzbc",
        "colab_type": "code",
        "colab": {
          "base_uri": "https://localhost:8080/",
          "height": 646
        },
        "outputId": "51fa2b94-0063-4e75-ba20-ea523abc25d6"
      },
      "source": [
        "# Checking whether each column has an appropriate datatype\n",
        "print(ranking.info())\n",
        "print('*'*50)\n",
        "results.info()"
      ],
      "execution_count": 174,
      "outputs": [
        {
          "output_type": "stream",
          "text": [
            "<class 'pandas.core.frame.DataFrame'>\n",
            "RangeIndex: 57793 entries, 0 to 57792\n",
            "Data columns (total 16 columns):\n",
            "rank                       57793 non-null int64\n",
            "country_full               57793 non-null object\n",
            "country_abrv               57793 non-null object\n",
            "total_points               57793 non-null float64\n",
            "previous_points            57793 non-null int64\n",
            "rank_change                57793 non-null int64\n",
            "cur_year_avg               57793 non-null float64\n",
            "cur_year_avg_weighted      57793 non-null float64\n",
            "last_year_avg              57793 non-null float64\n",
            "last_year_avg_weighted     57793 non-null float64\n",
            "two_year_ago_avg           57793 non-null float64\n",
            "two_year_ago_weighted      57793 non-null float64\n",
            "three_year_ago_avg         57793 non-null float64\n",
            "three_year_ago_weighted    57793 non-null float64\n",
            "confederation              57793 non-null object\n",
            "rank_date                  57793 non-null object\n",
            "dtypes: float64(9), int64(3), object(4)\n",
            "memory usage: 7.1+ MB\n",
            "None\n",
            "**************************************************\n",
            "<class 'pandas.core.frame.DataFrame'>\n",
            "RangeIndex: 40839 entries, 0 to 40838\n",
            "Data columns (total 9 columns):\n",
            "date          40839 non-null object\n",
            "home_team     40839 non-null object\n",
            "away_team     40839 non-null object\n",
            "home_score    40839 non-null int64\n",
            "away_score    40839 non-null int64\n",
            "tournament    40839 non-null object\n",
            "city          40839 non-null object\n",
            "country       40839 non-null object\n",
            "neutral       40839 non-null bool\n",
            "dtypes: bool(1), int64(2), object(6)\n",
            "memory usage: 2.5+ MB\n"
          ],
          "name": "stdout"
        }
      ]
    },
    {
      "cell_type": "markdown",
      "metadata": {
        "id": "-QoVUmdEBCCD",
        "colab_type": "text"
      },
      "source": [
        "There are 4 categorical data and 12 numerical data in rankings\n",
        "*******\n",
        "There are 6 categorical data and 3 numerical data in results"
      ]
    },
    {
      "cell_type": "code",
      "metadata": {
        "id": "9pFcdHn5A-5y",
        "colab_type": "code",
        "colab": {
          "base_uri": "https://localhost:8080/",
          "height": 383
        },
        "outputId": "f9384c6c-e770-42ae-cf16-961a55a4ccf7"
      },
      "source": [
        "#checking for the summary of the numerical data\n",
        "print(ranking.describe().transpose())\n",
        "print('*'*50)\n",
        "results.describe().transpose()"
      ],
      "execution_count": 175,
      "outputs": [
        {
          "output_type": "stream",
          "text": [
            "                           count        mean  ...     75%      max\n",
            "rank                     57793.0  101.628086  ...  152.00   209.00\n",
            "total_points             57793.0  122.068637  ...   92.79  1775.03\n",
            "previous_points          57793.0  332.302926  ...  525.00  1920.00\n",
            "rank_change              57793.0   -0.009897  ...    1.00    92.00\n",
            "cur_year_avg             57793.0   61.798602  ...   32.25  1158.66\n",
            "cur_year_avg_weighted    57793.0   61.798602  ...   32.25  1158.66\n",
            "last_year_avg            57793.0   61.004602  ...   26.66  1169.57\n",
            "last_year_avg_weighted   57793.0   30.502377  ...   13.33   584.79\n",
            "two_year_ago_avg         57793.0   59.777462  ...   21.50  1159.71\n",
            "two_year_ago_weighted    57793.0   17.933277  ...    6.45   347.91\n",
            "three_year_ago_avg       57793.0   59.173916  ...   21.25  1200.77\n",
            "three_year_ago_weighted  57793.0   11.834811  ...    4.25   240.15\n",
            "\n",
            "[12 rows x 8 columns]\n",
            "**************************************************\n"
          ],
          "name": "stdout"
        },
        {
          "output_type": "execute_result",
          "data": {
            "text/html": [
              "<div>\n",
              "<style scoped>\n",
              "    .dataframe tbody tr th:only-of-type {\n",
              "        vertical-align: middle;\n",
              "    }\n",
              "\n",
              "    .dataframe tbody tr th {\n",
              "        vertical-align: top;\n",
              "    }\n",
              "\n",
              "    .dataframe thead th {\n",
              "        text-align: right;\n",
              "    }\n",
              "</style>\n",
              "<table border=\"1\" class=\"dataframe\">\n",
              "  <thead>\n",
              "    <tr style=\"text-align: right;\">\n",
              "      <th></th>\n",
              "      <th>count</th>\n",
              "      <th>mean</th>\n",
              "      <th>std</th>\n",
              "      <th>min</th>\n",
              "      <th>25%</th>\n",
              "      <th>50%</th>\n",
              "      <th>75%</th>\n",
              "      <th>max</th>\n",
              "    </tr>\n",
              "  </thead>\n",
              "  <tbody>\n",
              "    <tr>\n",
              "      <th>home_score</th>\n",
              "      <td>40839.0</td>\n",
              "      <td>1.745709</td>\n",
              "      <td>1.749145</td>\n",
              "      <td>0.0</td>\n",
              "      <td>1.0</td>\n",
              "      <td>1.0</td>\n",
              "      <td>2.0</td>\n",
              "      <td>31.0</td>\n",
              "    </tr>\n",
              "    <tr>\n",
              "      <th>away_score</th>\n",
              "      <td>40839.0</td>\n",
              "      <td>1.188105</td>\n",
              "      <td>1.405120</td>\n",
              "      <td>0.0</td>\n",
              "      <td>0.0</td>\n",
              "      <td>1.0</td>\n",
              "      <td>2.0</td>\n",
              "      <td>21.0</td>\n",
              "    </tr>\n",
              "  </tbody>\n",
              "</table>\n",
              "</div>"
            ],
            "text/plain": [
              "              count      mean       std  min  25%  50%  75%   max\n",
              "home_score  40839.0  1.745709  1.749145  0.0  1.0  1.0  2.0  31.0\n",
              "away_score  40839.0  1.188105  1.405120  0.0  0.0  1.0  2.0  21.0"
            ]
          },
          "metadata": {
            "tags": []
          },
          "execution_count": 175
        }
      ]
    },
    {
      "cell_type": "code",
      "metadata": {
        "id": "hAK6CgM6BmcY",
        "colab_type": "code",
        "colab": {
          "base_uri": "https://localhost:8080/",
          "height": 337
        },
        "outputId": "8e869d93-eac1-490a-b75c-7f8c2fecc767"
      },
      "source": [
        "# checking the summary of the categorical data\n",
        "print(ranking.describe(include='O').transpose())\n",
        "print('*'*50)\n",
        "results.describe(include='O').transpose()"
      ],
      "execution_count": 176,
      "outputs": [
        {
          "output_type": "stream",
          "text": [
            "               count unique         top   freq\n",
            "country_full   57793    216       Sudan    325\n",
            "country_abrv   57793    216         SDN    325\n",
            "confederation  57793      6        UEFA  14933\n",
            "rank_date      57793    286  2017-11-23    211\n",
            "**************************************************\n"
          ],
          "name": "stdout"
        },
        {
          "output_type": "execute_result",
          "data": {
            "text/html": [
              "<div>\n",
              "<style scoped>\n",
              "    .dataframe tbody tr th:only-of-type {\n",
              "        vertical-align: middle;\n",
              "    }\n",
              "\n",
              "    .dataframe tbody tr th {\n",
              "        vertical-align: top;\n",
              "    }\n",
              "\n",
              "    .dataframe thead th {\n",
              "        text-align: right;\n",
              "    }\n",
              "</style>\n",
              "<table border=\"1\" class=\"dataframe\">\n",
              "  <thead>\n",
              "    <tr style=\"text-align: right;\">\n",
              "      <th></th>\n",
              "      <th>count</th>\n",
              "      <th>unique</th>\n",
              "      <th>top</th>\n",
              "      <th>freq</th>\n",
              "    </tr>\n",
              "  </thead>\n",
              "  <tbody>\n",
              "    <tr>\n",
              "      <th>date</th>\n",
              "      <td>40839</td>\n",
              "      <td>15115</td>\n",
              "      <td>2012-02-29</td>\n",
              "      <td>66</td>\n",
              "    </tr>\n",
              "    <tr>\n",
              "      <th>home_team</th>\n",
              "      <td>40839</td>\n",
              "      <td>309</td>\n",
              "      <td>Brazil</td>\n",
              "      <td>563</td>\n",
              "    </tr>\n",
              "    <tr>\n",
              "      <th>away_team</th>\n",
              "      <td>40839</td>\n",
              "      <td>306</td>\n",
              "      <td>Uruguay</td>\n",
              "      <td>536</td>\n",
              "    </tr>\n",
              "    <tr>\n",
              "      <th>tournament</th>\n",
              "      <td>40839</td>\n",
              "      <td>109</td>\n",
              "      <td>Friendly</td>\n",
              "      <td>16911</td>\n",
              "    </tr>\n",
              "    <tr>\n",
              "      <th>city</th>\n",
              "      <td>40839</td>\n",
              "      <td>1960</td>\n",
              "      <td>Kuala Lumpur</td>\n",
              "      <td>581</td>\n",
              "    </tr>\n",
              "    <tr>\n",
              "      <th>country</th>\n",
              "      <td>40839</td>\n",
              "      <td>266</td>\n",
              "      <td>United States</td>\n",
              "      <td>1144</td>\n",
              "    </tr>\n",
              "  </tbody>\n",
              "</table>\n",
              "</div>"
            ],
            "text/plain": [
              "            count unique            top   freq\n",
              "date        40839  15115     2012-02-29     66\n",
              "home_team   40839    309         Brazil    563\n",
              "away_team   40839    306        Uruguay    536\n",
              "tournament  40839    109       Friendly  16911\n",
              "city        40839   1960   Kuala Lumpur    581\n",
              "country     40839    266  United States   1144"
            ]
          },
          "metadata": {
            "tags": []
          },
          "execution_count": 176
        }
      ]
    },
    {
      "cell_type": "markdown",
      "metadata": {
        "id": "ckfufNrcUHeH",
        "colab_type": "text"
      },
      "source": [
        "## 4. External Data Source Validation"
      ]
    },
    {
      "cell_type": "markdown",
      "metadata": {
        "id": "6L4sl_0WXlbg",
        "colab_type": "text"
      },
      "source": [
        "Making sure your data matches something outside of the dataset is very important. It allows you to ensure that the measurements are roughly in line with what they should be and it serves as a check on what other things might be wrong in your dataset. External validation can often be as simple as checking your data against a single number, as we will do here."
      ]
    },
    {
      "cell_type": "markdown",
      "metadata": {
        "id": "6XC_g-zKxe-r",
        "colab_type": "text"
      },
      "source": [
        "### a.Validation"
      ]
    },
    {
      "cell_type": "markdown",
      "metadata": {
        "id": "cbK3oApqCm5U",
        "colab_type": "text"
      },
      "source": [
        "Sportpesa has an issue close to this one. The data we had was less than than this one since FIFA updated their new findings. "
      ]
    },
    {
      "cell_type": "markdown",
      "metadata": {
        "id": "FlBMxEDBUc9B",
        "colab_type": "text"
      },
      "source": [
        "## 5. Tidying the Dataset"
      ]
    },
    {
      "cell_type": "code",
      "metadata": {
        "id": "CnFw3hdaIep8",
        "colab_type": "code",
        "colab": {
          "base_uri": "https://localhost:8080/",
          "height": 68
        },
        "outputId": "e208a1e6-79e8-47dd-8e8f-6846481ba263"
      },
      "source": [
        "print(ranking.isnull().sum().sum())\n",
        "print('*'*50)\n",
        "results.isnull().sum().sum()"
      ],
      "execution_count": 177,
      "outputs": [
        {
          "output_type": "stream",
          "text": [
            "0\n",
            "**************************************************\n"
          ],
          "name": "stdout"
        },
        {
          "output_type": "execute_result",
          "data": {
            "text/plain": [
              "0"
            ]
          },
          "metadata": {
            "tags": []
          },
          "execution_count": 177
        }
      ]
    },
    {
      "cell_type": "markdown",
      "metadata": {
        "id": "DXFH6yvAI5x-",
        "colab_type": "text"
      },
      "source": [
        "there are no null values in both datasets"
      ]
    },
    {
      "cell_type": "code",
      "metadata": {
        "id": "mJu7p425IRe4",
        "colab_type": "code",
        "colab": {
          "base_uri": "https://localhost:8080/",
          "height": 68
        },
        "outputId": "027afb93-01ed-45c0-ad8f-44a8475b84b0"
      },
      "source": [
        "print(ranking.duplicated().sum())\n",
        "print('*'*50)\n",
        "results.duplicated().sum().sum()"
      ],
      "execution_count": 178,
      "outputs": [
        {
          "output_type": "stream",
          "text": [
            "37\n",
            "**************************************************\n"
          ],
          "name": "stdout"
        },
        {
          "output_type": "execute_result",
          "data": {
            "text/plain": [
              "0"
            ]
          },
          "metadata": {
            "tags": []
          },
          "execution_count": 178
        }
      ]
    },
    {
      "cell_type": "markdown",
      "metadata": {
        "id": "9wrM6YutFb_p",
        "colab_type": "text"
      },
      "source": [
        "There are 37 duplicated rows in ranking\n",
        "*****\n",
        "There are no duplicates in results dataset"
      ]
    },
    {
      "cell_type": "markdown",
      "metadata": {
        "id": "5ej5cxbfG03M",
        "colab_type": "text"
      },
      "source": [
        "*Dealing with duplicates*"
      ]
    },
    {
      "cell_type": "code",
      "metadata": {
        "id": "PvCYb6dgW4yh",
        "colab_type": "code",
        "colab": {}
      },
      "source": [
        "ranking.drop_duplicates(inplace= True)"
      ],
      "execution_count": 0,
      "outputs": []
    },
    {
      "cell_type": "code",
      "metadata": {
        "id": "MpsDGKZHsf_W",
        "colab_type": "code",
        "colab": {
          "base_uri": "https://localhost:8080/",
          "height": 34
        },
        "outputId": "779716bb-6116-4926-af3e-c882df77a680"
      },
      "source": [
        "#verifying whether the duplicates have been dropped\n",
        "ranking.duplicated().sum()"
      ],
      "execution_count": 180,
      "outputs": [
        {
          "output_type": "execute_result",
          "data": {
            "text/plain": [
              "0"
            ]
          },
          "metadata": {
            "tags": []
          },
          "execution_count": 180
        }
      ]
    },
    {
      "cell_type": "markdown",
      "metadata": {
        "id": "lDwdSjOCHx6n",
        "colab_type": "text"
      },
      "source": [
        "All duplicates have been dropped."
      ]
    },
    {
      "cell_type": "markdown",
      "metadata": {
        "id": "rF2ABPsHUtbZ",
        "colab_type": "text"
      },
      "source": [
        "## 6. Exploratory Analysis"
      ]
    },
    {
      "cell_type": "markdown",
      "metadata": {
        "id": "v6Pjj1AQOoQu",
        "colab_type": "text"
      },
      "source": [
        "Before we begin, we will need to join our data."
      ]
    },
    {
      "cell_type": "code",
      "metadata": {
        "id": "J5qQrpVkUnTK",
        "colab_type": "code",
        "colab": {
          "base_uri": "https://localhost:8080/",
          "height": 609
        },
        "outputId": "c26e904c-2910-433b-8243-d71f2f027f81"
      },
      "source": [
        "footy = ranking.join(results)\n",
        "footy"
      ],
      "execution_count": 181,
      "outputs": [
        {
          "output_type": "execute_result",
          "data": {
            "text/html": [
              "<div>\n",
              "<style scoped>\n",
              "    .dataframe tbody tr th:only-of-type {\n",
              "        vertical-align: middle;\n",
              "    }\n",
              "\n",
              "    .dataframe tbody tr th {\n",
              "        vertical-align: top;\n",
              "    }\n",
              "\n",
              "    .dataframe thead th {\n",
              "        text-align: right;\n",
              "    }\n",
              "</style>\n",
              "<table border=\"1\" class=\"dataframe\">\n",
              "  <thead>\n",
              "    <tr style=\"text-align: right;\">\n",
              "      <th></th>\n",
              "      <th>rank</th>\n",
              "      <th>country_full</th>\n",
              "      <th>country_abrv</th>\n",
              "      <th>total_points</th>\n",
              "      <th>previous_points</th>\n",
              "      <th>rank_change</th>\n",
              "      <th>cur_year_avg</th>\n",
              "      <th>cur_year_avg_weighted</th>\n",
              "      <th>last_year_avg</th>\n",
              "      <th>last_year_avg_weighted</th>\n",
              "      <th>two_year_ago_avg</th>\n",
              "      <th>two_year_ago_weighted</th>\n",
              "      <th>three_year_ago_avg</th>\n",
              "      <th>three_year_ago_weighted</th>\n",
              "      <th>confederation</th>\n",
              "      <th>rank_date</th>\n",
              "      <th>date</th>\n",
              "      <th>home_team</th>\n",
              "      <th>away_team</th>\n",
              "      <th>home_score</th>\n",
              "      <th>away_score</th>\n",
              "      <th>tournament</th>\n",
              "      <th>city</th>\n",
              "      <th>country</th>\n",
              "      <th>neutral</th>\n",
              "    </tr>\n",
              "  </thead>\n",
              "  <tbody>\n",
              "    <tr>\n",
              "      <th>0</th>\n",
              "      <td>1</td>\n",
              "      <td>Germany</td>\n",
              "      <td>GER</td>\n",
              "      <td>0.0</td>\n",
              "      <td>57</td>\n",
              "      <td>0</td>\n",
              "      <td>0.0</td>\n",
              "      <td>0.0</td>\n",
              "      <td>0.0</td>\n",
              "      <td>0.0</td>\n",
              "      <td>0.0</td>\n",
              "      <td>0.0</td>\n",
              "      <td>0.0</td>\n",
              "      <td>0.0</td>\n",
              "      <td>UEFA</td>\n",
              "      <td>1993-08-08</td>\n",
              "      <td>1872-11-30</td>\n",
              "      <td>Scotland</td>\n",
              "      <td>England</td>\n",
              "      <td>0.0</td>\n",
              "      <td>0.0</td>\n",
              "      <td>Friendly</td>\n",
              "      <td>Glasgow</td>\n",
              "      <td>Scotland</td>\n",
              "      <td>False</td>\n",
              "    </tr>\n",
              "    <tr>\n",
              "      <th>1</th>\n",
              "      <td>2</td>\n",
              "      <td>Italy</td>\n",
              "      <td>ITA</td>\n",
              "      <td>0.0</td>\n",
              "      <td>57</td>\n",
              "      <td>0</td>\n",
              "      <td>0.0</td>\n",
              "      <td>0.0</td>\n",
              "      <td>0.0</td>\n",
              "      <td>0.0</td>\n",
              "      <td>0.0</td>\n",
              "      <td>0.0</td>\n",
              "      <td>0.0</td>\n",
              "      <td>0.0</td>\n",
              "      <td>UEFA</td>\n",
              "      <td>1993-08-08</td>\n",
              "      <td>1873-03-08</td>\n",
              "      <td>England</td>\n",
              "      <td>Scotland</td>\n",
              "      <td>4.0</td>\n",
              "      <td>2.0</td>\n",
              "      <td>Friendly</td>\n",
              "      <td>London</td>\n",
              "      <td>England</td>\n",
              "      <td>False</td>\n",
              "    </tr>\n",
              "    <tr>\n",
              "      <th>2</th>\n",
              "      <td>3</td>\n",
              "      <td>Switzerland</td>\n",
              "      <td>SUI</td>\n",
              "      <td>0.0</td>\n",
              "      <td>50</td>\n",
              "      <td>9</td>\n",
              "      <td>0.0</td>\n",
              "      <td>0.0</td>\n",
              "      <td>0.0</td>\n",
              "      <td>0.0</td>\n",
              "      <td>0.0</td>\n",
              "      <td>0.0</td>\n",
              "      <td>0.0</td>\n",
              "      <td>0.0</td>\n",
              "      <td>UEFA</td>\n",
              "      <td>1993-08-08</td>\n",
              "      <td>1874-03-07</td>\n",
              "      <td>Scotland</td>\n",
              "      <td>England</td>\n",
              "      <td>2.0</td>\n",
              "      <td>1.0</td>\n",
              "      <td>Friendly</td>\n",
              "      <td>Glasgow</td>\n",
              "      <td>Scotland</td>\n",
              "      <td>False</td>\n",
              "    </tr>\n",
              "    <tr>\n",
              "      <th>3</th>\n",
              "      <td>4</td>\n",
              "      <td>Sweden</td>\n",
              "      <td>SWE</td>\n",
              "      <td>0.0</td>\n",
              "      <td>55</td>\n",
              "      <td>0</td>\n",
              "      <td>0.0</td>\n",
              "      <td>0.0</td>\n",
              "      <td>0.0</td>\n",
              "      <td>0.0</td>\n",
              "      <td>0.0</td>\n",
              "      <td>0.0</td>\n",
              "      <td>0.0</td>\n",
              "      <td>0.0</td>\n",
              "      <td>UEFA</td>\n",
              "      <td>1993-08-08</td>\n",
              "      <td>1875-03-06</td>\n",
              "      <td>England</td>\n",
              "      <td>Scotland</td>\n",
              "      <td>2.0</td>\n",
              "      <td>2.0</td>\n",
              "      <td>Friendly</td>\n",
              "      <td>London</td>\n",
              "      <td>England</td>\n",
              "      <td>False</td>\n",
              "    </tr>\n",
              "    <tr>\n",
              "      <th>4</th>\n",
              "      <td>5</td>\n",
              "      <td>Argentina</td>\n",
              "      <td>ARG</td>\n",
              "      <td>0.0</td>\n",
              "      <td>51</td>\n",
              "      <td>5</td>\n",
              "      <td>0.0</td>\n",
              "      <td>0.0</td>\n",
              "      <td>0.0</td>\n",
              "      <td>0.0</td>\n",
              "      <td>0.0</td>\n",
              "      <td>0.0</td>\n",
              "      <td>0.0</td>\n",
              "      <td>0.0</td>\n",
              "      <td>CONMEBOL</td>\n",
              "      <td>1993-08-08</td>\n",
              "      <td>1876-03-04</td>\n",
              "      <td>Scotland</td>\n",
              "      <td>England</td>\n",
              "      <td>3.0</td>\n",
              "      <td>0.0</td>\n",
              "      <td>Friendly</td>\n",
              "      <td>Glasgow</td>\n",
              "      <td>Scotland</td>\n",
              "      <td>False</td>\n",
              "    </tr>\n",
              "    <tr>\n",
              "      <th>...</th>\n",
              "      <td>...</td>\n",
              "      <td>...</td>\n",
              "      <td>...</td>\n",
              "      <td>...</td>\n",
              "      <td>...</td>\n",
              "      <td>...</td>\n",
              "      <td>...</td>\n",
              "      <td>...</td>\n",
              "      <td>...</td>\n",
              "      <td>...</td>\n",
              "      <td>...</td>\n",
              "      <td>...</td>\n",
              "      <td>...</td>\n",
              "      <td>...</td>\n",
              "      <td>...</td>\n",
              "      <td>...</td>\n",
              "      <td>...</td>\n",
              "      <td>...</td>\n",
              "      <td>...</td>\n",
              "      <td>...</td>\n",
              "      <td>...</td>\n",
              "      <td>...</td>\n",
              "      <td>...</td>\n",
              "      <td>...</td>\n",
              "      <td>...</td>\n",
              "    </tr>\n",
              "    <tr>\n",
              "      <th>57788</th>\n",
              "      <td>206</td>\n",
              "      <td>Anguilla</td>\n",
              "      <td>AIA</td>\n",
              "      <td>0.0</td>\n",
              "      <td>0</td>\n",
              "      <td>1</td>\n",
              "      <td>0.0</td>\n",
              "      <td>0.0</td>\n",
              "      <td>0.0</td>\n",
              "      <td>0.0</td>\n",
              "      <td>0.0</td>\n",
              "      <td>0.0</td>\n",
              "      <td>0.0</td>\n",
              "      <td>0.0</td>\n",
              "      <td>CONCACAF</td>\n",
              "      <td>2018-06-07</td>\n",
              "      <td>NaN</td>\n",
              "      <td>NaN</td>\n",
              "      <td>NaN</td>\n",
              "      <td>NaN</td>\n",
              "      <td>NaN</td>\n",
              "      <td>NaN</td>\n",
              "      <td>NaN</td>\n",
              "      <td>NaN</td>\n",
              "      <td>NaN</td>\n",
              "    </tr>\n",
              "    <tr>\n",
              "      <th>57789</th>\n",
              "      <td>206</td>\n",
              "      <td>Bahamas</td>\n",
              "      <td>BAH</td>\n",
              "      <td>0.0</td>\n",
              "      <td>0</td>\n",
              "      <td>1</td>\n",
              "      <td>0.0</td>\n",
              "      <td>0.0</td>\n",
              "      <td>0.0</td>\n",
              "      <td>0.0</td>\n",
              "      <td>0.0</td>\n",
              "      <td>0.0</td>\n",
              "      <td>0.0</td>\n",
              "      <td>0.0</td>\n",
              "      <td>CONCACAF</td>\n",
              "      <td>2018-06-07</td>\n",
              "      <td>NaN</td>\n",
              "      <td>NaN</td>\n",
              "      <td>NaN</td>\n",
              "      <td>NaN</td>\n",
              "      <td>NaN</td>\n",
              "      <td>NaN</td>\n",
              "      <td>NaN</td>\n",
              "      <td>NaN</td>\n",
              "      <td>NaN</td>\n",
              "    </tr>\n",
              "    <tr>\n",
              "      <th>57790</th>\n",
              "      <td>206</td>\n",
              "      <td>Eritrea</td>\n",
              "      <td>ERI</td>\n",
              "      <td>0.0</td>\n",
              "      <td>0</td>\n",
              "      <td>1</td>\n",
              "      <td>0.0</td>\n",
              "      <td>0.0</td>\n",
              "      <td>0.0</td>\n",
              "      <td>0.0</td>\n",
              "      <td>0.0</td>\n",
              "      <td>0.0</td>\n",
              "      <td>0.0</td>\n",
              "      <td>0.0</td>\n",
              "      <td>CAF</td>\n",
              "      <td>2018-06-07</td>\n",
              "      <td>NaN</td>\n",
              "      <td>NaN</td>\n",
              "      <td>NaN</td>\n",
              "      <td>NaN</td>\n",
              "      <td>NaN</td>\n",
              "      <td>NaN</td>\n",
              "      <td>NaN</td>\n",
              "      <td>NaN</td>\n",
              "      <td>NaN</td>\n",
              "    </tr>\n",
              "    <tr>\n",
              "      <th>57791</th>\n",
              "      <td>206</td>\n",
              "      <td>Somalia</td>\n",
              "      <td>SOM</td>\n",
              "      <td>0.0</td>\n",
              "      <td>0</td>\n",
              "      <td>1</td>\n",
              "      <td>0.0</td>\n",
              "      <td>0.0</td>\n",
              "      <td>0.0</td>\n",
              "      <td>0.0</td>\n",
              "      <td>0.0</td>\n",
              "      <td>0.0</td>\n",
              "      <td>0.0</td>\n",
              "      <td>0.0</td>\n",
              "      <td>CAF</td>\n",
              "      <td>2018-06-07</td>\n",
              "      <td>NaN</td>\n",
              "      <td>NaN</td>\n",
              "      <td>NaN</td>\n",
              "      <td>NaN</td>\n",
              "      <td>NaN</td>\n",
              "      <td>NaN</td>\n",
              "      <td>NaN</td>\n",
              "      <td>NaN</td>\n",
              "      <td>NaN</td>\n",
              "    </tr>\n",
              "    <tr>\n",
              "      <th>57792</th>\n",
              "      <td>206</td>\n",
              "      <td>Tonga</td>\n",
              "      <td>TGA</td>\n",
              "      <td>0.0</td>\n",
              "      <td>0</td>\n",
              "      <td>1</td>\n",
              "      <td>0.0</td>\n",
              "      <td>0.0</td>\n",
              "      <td>0.0</td>\n",
              "      <td>0.0</td>\n",
              "      <td>0.0</td>\n",
              "      <td>0.0</td>\n",
              "      <td>0.0</td>\n",
              "      <td>0.0</td>\n",
              "      <td>OFC</td>\n",
              "      <td>2018-06-07</td>\n",
              "      <td>NaN</td>\n",
              "      <td>NaN</td>\n",
              "      <td>NaN</td>\n",
              "      <td>NaN</td>\n",
              "      <td>NaN</td>\n",
              "      <td>NaN</td>\n",
              "      <td>NaN</td>\n",
              "      <td>NaN</td>\n",
              "      <td>NaN</td>\n",
              "    </tr>\n",
              "  </tbody>\n",
              "</table>\n",
              "<p>57756 rows × 25 columns</p>\n",
              "</div>"
            ],
            "text/plain": [
              "       rank country_full country_abrv  ...     city   country  neutral\n",
              "0         1      Germany          GER  ...  Glasgow  Scotland    False\n",
              "1         2        Italy          ITA  ...   London   England    False\n",
              "2         3  Switzerland          SUI  ...  Glasgow  Scotland    False\n",
              "3         4       Sweden          SWE  ...   London   England    False\n",
              "4         5    Argentina          ARG  ...  Glasgow  Scotland    False\n",
              "...     ...          ...          ...  ...      ...       ...      ...\n",
              "57788   206     Anguilla          AIA  ...      NaN       NaN      NaN\n",
              "57789   206      Bahamas          BAH  ...      NaN       NaN      NaN\n",
              "57790   206      Eritrea          ERI  ...      NaN       NaN      NaN\n",
              "57791   206      Somalia          SOM  ...      NaN       NaN      NaN\n",
              "57792   206        Tonga          TGA  ...      NaN       NaN      NaN\n",
              "\n",
              "[57756 rows x 25 columns]"
            ]
          },
          "metadata": {
            "tags": []
          },
          "execution_count": 181
        }
      ]
    },
    {
      "cell_type": "code",
      "metadata": {
        "id": "JMFWePDIO92C",
        "colab_type": "code",
        "colab": {
          "base_uri": "https://localhost:8080/",
          "height": 459
        },
        "outputId": "13c0aa8c-d639-41fb-88fb-6b492aae405d"
      },
      "source": [
        "# checking for null in the dataset\n",
        "footy.isnull().sum()"
      ],
      "execution_count": 182,
      "outputs": [
        {
          "output_type": "execute_result",
          "data": {
            "text/plain": [
              "rank                           0\n",
              "country_full                   0\n",
              "country_abrv                   0\n",
              "total_points                   0\n",
              "previous_points                0\n",
              "rank_change                    0\n",
              "cur_year_avg                   0\n",
              "cur_year_avg_weighted          0\n",
              "last_year_avg                  0\n",
              "last_year_avg_weighted         0\n",
              "two_year_ago_avg               0\n",
              "two_year_ago_weighted          0\n",
              "three_year_ago_avg             0\n",
              "three_year_ago_weighted        0\n",
              "confederation                  0\n",
              "rank_date                      0\n",
              "date                       16917\n",
              "home_team                  16917\n",
              "away_team                  16917\n",
              "home_score                 16917\n",
              "away_score                 16917\n",
              "tournament                 16917\n",
              "city                       16917\n",
              "country                    16917\n",
              "neutral                    16917\n",
              "dtype: int64"
            ]
          },
          "metadata": {
            "tags": []
          },
          "execution_count": 182
        }
      ]
    },
    {
      "cell_type": "code",
      "metadata": {
        "id": "ld9TpCdnSFgo",
        "colab_type": "code",
        "colab": {}
      },
      "source": [
        "#drop null values since filling the null with other means like mean and median will \n",
        "# bias the infomation in the dataset since this were actual games played\n",
        "\n",
        "footy.dropna( inplace=True)"
      ],
      "execution_count": 0,
      "outputs": []
    },
    {
      "cell_type": "code",
      "metadata": {
        "id": "phddldlCFVBu",
        "colab_type": "code",
        "colab": {
          "base_uri": "https://localhost:8080/",
          "height": 459
        },
        "outputId": "73752e5f-49db-49da-f58b-16167ade69b1"
      },
      "source": [
        "# checking whether the missing data has been dropped\n",
        "footy.isnull().sum()"
      ],
      "execution_count": 184,
      "outputs": [
        {
          "output_type": "execute_result",
          "data": {
            "text/plain": [
              "rank                       0\n",
              "country_full               0\n",
              "country_abrv               0\n",
              "total_points               0\n",
              "previous_points            0\n",
              "rank_change                0\n",
              "cur_year_avg               0\n",
              "cur_year_avg_weighted      0\n",
              "last_year_avg              0\n",
              "last_year_avg_weighted     0\n",
              "two_year_ago_avg           0\n",
              "two_year_ago_weighted      0\n",
              "three_year_ago_avg         0\n",
              "three_year_ago_weighted    0\n",
              "confederation              0\n",
              "rank_date                  0\n",
              "date                       0\n",
              "home_team                  0\n",
              "away_team                  0\n",
              "home_score                 0\n",
              "away_score                 0\n",
              "tournament                 0\n",
              "city                       0\n",
              "country                    0\n",
              "neutral                    0\n",
              "dtype: int64"
            ]
          },
          "metadata": {
            "tags": []
          },
          "execution_count": 184
        }
      ]
    },
    {
      "cell_type": "markdown",
      "metadata": {
        "id": "HNbKh5DMGY6D",
        "colab_type": "text"
      },
      "source": [
        "The missing values have finally been dropped"
      ]
    },
    {
      "cell_type": "code",
      "metadata": {
        "id": "gBThsn0UGW-2",
        "colab_type": "code",
        "colab": {
          "base_uri": "https://localhost:8080/",
          "height": 34
        },
        "outputId": "a4831d47-8ec0-4332-eb88-4af2dec74bb8"
      },
      "source": [
        "# checking for duplicates\n",
        "footy.duplicated().sum()"
      ],
      "execution_count": 185,
      "outputs": [
        {
          "output_type": "execute_result",
          "data": {
            "text/plain": [
              "0"
            ]
          },
          "metadata": {
            "tags": []
          },
          "execution_count": 185
        }
      ]
    },
    {
      "cell_type": "markdown",
      "metadata": {
        "id": "wdFxPnaJHI3p",
        "colab_type": "text"
      },
      "source": [
        "There are no duplicates"
      ]
    },
    {
      "cell_type": "markdown",
      "metadata": {
        "id": "CMcv75-r3NHA",
        "colab_type": "text"
      },
      "source": [
        "**Filtering the dataset**"
      ]
    },
    {
      "cell_type": "markdown",
      "metadata": {
        "id": "5BUJVuXH3a2F",
        "colab_type": "text"
      },
      "source": [
        "this  helps us to focus on team that played only friendlies."
      ]
    },
    {
      "cell_type": "code",
      "metadata": {
        "id": "iOvrhuPd2PIU",
        "colab_type": "code",
        "colab": {}
      },
      "source": [
        "footie = footy.loc[footy['tournament'] == 'Friendly']\n"
      ],
      "execution_count": 0,
      "outputs": []
    },
    {
      "cell_type": "code",
      "metadata": {
        "id": "ylp8CHBb34er",
        "colab_type": "code",
        "colab": {
          "base_uri": "https://localhost:8080/",
          "height": 68
        },
        "outputId": "37344547-5a45-4e0e-a098-e8f91fb530e4"
      },
      "source": [
        "#checking where filtering has been a success\n",
        "print(footy.shape)\n",
        "print('*'*50)\n",
        "footie.shape"
      ],
      "execution_count": 187,
      "outputs": [
        {
          "output_type": "stream",
          "text": [
            "(40839, 25)\n",
            "**************************************************\n"
          ],
          "name": "stdout"
        },
        {
          "output_type": "execute_result",
          "data": {
            "text/plain": [
              "(16911, 25)"
            ]
          },
          "metadata": {
            "tags": []
          },
          "execution_count": 187
        }
      ]
    },
    {
      "cell_type": "markdown",
      "metadata": {
        "id": "2D_oLvV44Fvl",
        "colab_type": "text"
      },
      "source": [
        "\n",
        "\n",
        "> There is a decrase in the number of rows. This means that we are now dealing with only friendly matches.\n",
        "\n"
      ]
    },
    {
      "cell_type": "code",
      "metadata": {
        "id": "qdqa94kXqH55",
        "colab_type": "code",
        "colab": {}
      },
      "source": [
        "# resetting the index\n",
        "footie = footie.reset_index()"
      ],
      "execution_count": 0,
      "outputs": []
    },
    {
      "cell_type": "markdown",
      "metadata": {
        "id": "klSoMMVzL6XR",
        "colab_type": "text"
      },
      "source": [
        "**Ploting the univariate summaries and recording our observations**\n"
      ]
    },
    {
      "cell_type": "code",
      "metadata": {
        "id": "a1jNbv-dJ9Z4",
        "colab_type": "code",
        "colab": {
          "base_uri": "https://localhost:8080/",
          "height": 296
        },
        "outputId": "4d92cef4-fe14-4077-eeb2-4d511684d57b"
      },
      "source": [
        "sns.countplot(x='confederation', data=footie)\n"
      ],
      "execution_count": 188,
      "outputs": [
        {
          "output_type": "execute_result",
          "data": {
            "text/plain": [
              "<matplotlib.axes._subplots.AxesSubplot at 0x7f1856334e10>"
            ]
          },
          "metadata": {
            "tags": []
          },
          "execution_count": 188
        },
        {
          "output_type": "display_data",
          "data": {
            "image/png": "[encoded data removed]",
            "text/plain": [
              "<Figure size 432x288 with 1 Axes>"
            ]
          },
          "metadata": {
            "tags": []
          }
        }
      ]
    },
    {
      "cell_type": "markdown",
      "metadata": {
        "id": "DbA1H_uT1ZRp",
        "colab_type": "text"
      },
      "source": [
        "UEFA is the most popularly played competition"
      ]
    },
    {
      "cell_type": "code",
      "metadata": {
        "id": "KywvYjp7Ni80",
        "colab_type": "code",
        "colab": {
          "base_uri": "https://localhost:8080/",
          "height": 265
        },
        "outputId": "6e8b887f-6ec9-466d-bfed-d25724428835"
      },
      "source": [
        "footie.home_team.value_counts().plot.hist()\n",
        "plt.show()"
      ],
      "execution_count": 189,
      "outputs": [
        {
          "output_type": "display_data",
          "data": {
            "image/png": "[encoded data removed]",
            "text/plain": [
              "<Figure size 432x288 with 1 Axes>"
            ]
          },
          "metadata": {
            "tags": []
          }
        }
      ]
    },
    {
      "cell_type": "markdown",
      "metadata": {
        "id": "NZaHz654OMY3",
        "colab_type": "text"
      },
      "source": [
        "The home team distribution is skewed to the right. "
      ]
    },
    {
      "cell_type": "code",
      "metadata": {
        "id": "xnO-f8fiM8AI",
        "colab_type": "code",
        "colab": {
          "base_uri": "https://localhost:8080/",
          "height": 282
        },
        "outputId": "5c85ca1d-0b2d-459d-f834-314c7068d64b"
      },
      "source": [
        "footie.away_team.value_counts().plot.hist()"
      ],
      "execution_count": 190,
      "outputs": [
        {
          "output_type": "execute_result",
          "data": {
            "text/plain": [
              "<matplotlib.axes._subplots.AxesSubplot at 0x7f185613ef98>"
            ]
          },
          "metadata": {
            "tags": []
          },
          "execution_count": 190
        },
        {
          "output_type": "display_data",
          "data": {
            "image/png": "[encoded data removed]",
            "text/plain": [
              "<Figure size 432x288 with 1 Axes>"
            ]
          },
          "metadata": {
            "tags": []
          }
        }
      ]
    },
    {
      "cell_type": "markdown",
      "metadata": {
        "id": "GRxNTCQvOZ0q",
        "colab_type": "text"
      },
      "source": [
        "The away team distribution is also skewed to the right."
      ]
    },
    {
      "cell_type": "markdown",
      "metadata": {
        "id": "y3RoAyynH-u6",
        "colab_type": "text"
      },
      "source": [
        "**Correlation**"
      ]
    },
    {
      "cell_type": "code",
      "metadata": {
        "id": "r3CAXqSLNDAW",
        "colab_type": "code",
        "colab": {
          "base_uri": "https://localhost:8080/",
          "height": 384
        },
        "outputId": "73198a4b-1c0b-4c42-8ab0-24fbbfd25c12"
      },
      "source": [
        "vg_corr = footie.corr()\n",
        "sns.heatmap(vg_corr, \n",
        "            xticklabels = vg_corr.columns.values,\n",
        "            yticklabels = vg_corr.columns.values);"
      ],
      "execution_count": 191,
      "outputs": [
        {
          "output_type": "display_data",
          "data": {
            "image/png": "[encoded data removed]",
            "text/plain": [
              "<Figure size 432x288 with 2 Axes>"
            ]
          },
          "metadata": {
            "tags": []
          }
        }
      ]
    },
    {
      "cell_type": "markdown",
      "metadata": {
        "id": "BRGAP-XC4sUm",
        "colab_type": "text"
      },
      "source": [
        "most of the data seems independent since the color purple is dominant which indicates a covariance of 0."
      ]
    },
    {
      "cell_type": "code",
      "metadata": {
        "id": "6ODj_U-Dj5pW",
        "colab_type": "code",
        "colab": {
          "base_uri": "https://localhost:8080/",
          "height": 296
        },
        "outputId": "6c238c06-ae6f-4434-9dbc-78e46f3bf486"
      },
      "source": [
        "sns.boxplot(x='tournament', y='home_score', data=footie)"
      ],
      "execution_count": 192,
      "outputs": [
        {
          "output_type": "execute_result",
          "data": {
            "text/plain": [
              "<matplotlib.axes._subplots.AxesSubplot at 0x7f185608ccc0>"
            ]
          },
          "metadata": {
            "tags": []
          },
          "execution_count": 192
        },
        {
          "output_type": "display_data",
          "data": {
            "image/png": "[encoded data removed]",
            "text/plain": [
              "<Figure size 432x288 with 1 Axes>"
            ]
          },
          "metadata": {
            "tags": []
          }
        }
      ]
    },
    {
      "cell_type": "markdown",
      "metadata": {
        "id": "SidQibIBlHS5",
        "colab_type": "text"
      },
      "source": [
        "there are outliers as expected since there is a posibility a home team to score more goals than expected in the dataset"
      ]
    },
    {
      "cell_type": "code",
      "metadata": {
        "id": "ozK93xgYk1lq",
        "colab_type": "code",
        "colab": {
          "base_uri": "https://localhost:8080/",
          "height": 296
        },
        "outputId": "9f2a39b4-ced7-4eb7-eae1-5c088f2f0a99"
      },
      "source": [
        "sns.boxplot(x='tournament', y='away_score', data=footie)"
      ],
      "execution_count": 193,
      "outputs": [
        {
          "output_type": "execute_result",
          "data": {
            "text/plain": [
              "<matplotlib.axes._subplots.AxesSubplot at 0x7f1855fc20f0>"
            ]
          },
          "metadata": {
            "tags": []
          },
          "execution_count": 193
        },
        {
          "output_type": "display_data",
          "data": {
            "image/png": "[encoded data removed]",
            "text/plain": [
              "<Figure size 432x288 with 1 Axes>"
            ]
          },
          "metadata": {
            "tags": []
          }
        }
      ]
    },
    {
      "cell_type": "markdown",
      "metadata": {
        "id": "kn0cf4qAlkh7",
        "colab_type": "text"
      },
      "source": [
        "there are outliers as expected since there is a posibility an away team to score more goals than expected in the dataset"
      ]
    },
    {
      "cell_type": "code",
      "metadata": {
        "id": "ipqfsmLIm1bo",
        "colab_type": "code",
        "colab": {
          "base_uri": "https://localhost:8080/",
          "height": 282
        },
        "outputId": "73770047-eedb-4c5b-c556-8cd3f90eaeb9"
      },
      "source": [
        "footie.home_score.plot.hist()"
      ],
      "execution_count": 196,
      "outputs": [
        {
          "output_type": "execute_result",
          "data": {
            "text/plain": [
              "<matplotlib.axes._subplots.AxesSubplot at 0x7f1854df7908>"
            ]
          },
          "metadata": {
            "tags": []
          },
          "execution_count": 196
        },
        {
          "output_type": "display_data",
          "data": {
            "image/png": "[encoded data removed]",
            "text/plain": [
              "<Figure size 432x288 with 1 Axes>"
            ]
          },
          "metadata": {
            "tags": []
          }
        }
      ]
    },
    {
      "cell_type": "markdown",
      "metadata": {
        "id": "JzeLqIvhnhiF",
        "colab_type": "text"
      },
      "source": [
        "The home scores is distributed highly on the left of the histogram. This indicates that there is a high tendancy of home teams to score 0 or 1 goal"
      ]
    },
    {
      "cell_type": "code",
      "metadata": {
        "id": "tnz1BLBRncpB",
        "colab_type": "code",
        "colab": {
          "base_uri": "https://localhost:8080/",
          "height": 285
        },
        "outputId": "fcafa8fa-2304-4f10-a818-b014ac766a6a"
      },
      "source": [
        "footie.away_score.plot.hist()"
      ],
      "execution_count": 197,
      "outputs": [
        {
          "output_type": "execute_result",
          "data": {
            "text/plain": [
              "<matplotlib.axes._subplots.AxesSubplot at 0x7f1854dba9e8>"
            ]
          },
          "metadata": {
            "tags": []
          },
          "execution_count": 197
        },
        {
          "output_type": "display_data",
          "data": {
            "image/png": "[encoded data removed]",
            "text/plain": [
              "<Figure size 432x288 with 1 Axes>"
            ]
          },
          "metadata": {
            "tags": []
          }
        }
      ]
    },
    {
      "cell_type": "markdown",
      "metadata": {
        "id": "WVrzfJEmn41Z",
        "colab_type": "text"
      },
      "source": [
        "The away scores is distributed highly on the left of the histogram. This indicates that there is a high tendancy of away teams to score 0 or 1 goal"
      ]
    },
    {
      "cell_type": "code",
      "metadata": {
        "id": "hYnUFR6kRiEY",
        "colab_type": "code",
        "colab": {
          "base_uri": "https://localhost:8080/",
          "height": 119
        },
        "outputId": "c214cc95-59e6-4a83-d56a-7c043927fb19"
      },
      "source": [
        "#changing categorical data to numercal data\n",
        "from sklearn import preprocessing\n",
        "le = preprocessing.LabelEncoder()\n",
        "\n",
        "footie.country_full = le.fit_transform(footie.country_full)\n",
        "footie.country_abrv = le.fit_transform(footie.country_abrv)\n",
        "footie.confederation  = le.fit_transform(footie.confederation)             \n",
        "footie.rank_date  = le.fit_transform(footie.rank_date)                 \n",
        "footie.date  = le.fit_transform(footie.date)                      \n",
        "footie.home_team = le.fit_transform(footie.home_team)                  \n",
        "footie.away_team = le.fit_transform(footie.away_team) \n",
        "footie.tournament  = le.fit_transform(footie.tournament)                \n",
        "footie.city = le.fit_transform(footie.city)                        \n",
        "footie.country = le.fit_transform(footie.country)                    \n",
        "footie.neutral = le.fit_transform(footie.neutral)   "
      ],
      "execution_count": 198,
      "outputs": [
        {
          "output_type": "stream",
          "text": [
            "/usr/local/lib/python3.6/dist-packages/pandas/core/generic.py:5208: SettingWithCopyWarning: \n",
            "A value is trying to be set on a copy of a slice from a DataFrame.\n",
            "Try using .loc[row_indexer,col_indexer] = value instead\n",
            "\n",
            "See the caveats in the documentation: http://pandas.pydata.org/pandas-docs/stable/user_guide/indexing.html#returning-a-view-versus-a-copy\n",
            "  self[name] = value\n"
          ],
          "name": "stderr"
        }
      ]
    },
    {
      "cell_type": "code",
      "metadata": {
        "id": "SoBN4jfwRoe9",
        "colab_type": "code",
        "colab": {
          "base_uri": "https://localhost:8080/",
          "height": 459
        },
        "outputId": "9407c41c-e8f8-40d8-8841-ed9a1585909d"
      },
      "source": [
        "# checking whether the categorical data has changed to numerical\n",
        "footie.dtypes"
      ],
      "execution_count": 199,
      "outputs": [
        {
          "output_type": "execute_result",
          "data": {
            "text/plain": [
              "rank                         int64\n",
              "country_full                 int64\n",
              "country_abrv                 int64\n",
              "total_points               float64\n",
              "previous_points              int64\n",
              "rank_change                  int64\n",
              "cur_year_avg               float64\n",
              "cur_year_avg_weighted      float64\n",
              "last_year_avg              float64\n",
              "last_year_avg_weighted     float64\n",
              "two_year_ago_avg           float64\n",
              "two_year_ago_weighted      float64\n",
              "three_year_ago_avg         float64\n",
              "three_year_ago_weighted    float64\n",
              "confederation                int64\n",
              "rank_date                    int64\n",
              "date                         int64\n",
              "home_team                    int64\n",
              "away_team                    int64\n",
              "home_score                 float64\n",
              "away_score                 float64\n",
              "tournament                   int64\n",
              "city                         int64\n",
              "country                      int64\n",
              "neutral                      int64\n",
              "dtype: object"
            ]
          },
          "metadata": {
            "tags": []
          },
          "execution_count": 199
        }
      ]
    },
    {
      "cell_type": "markdown",
      "metadata": {
        "id": "Z01NfdNhUFdp",
        "colab_type": "text"
      },
      "source": [
        "**checking for multicollinearity**"
      ]
    },
    {
      "cell_type": "markdown",
      "metadata": {
        "id": "VT4Mm3b6JLSS",
        "colab_type": "text"
      },
      "source": [
        "**Polynomial regression for home team**"
      ]
    },
    {
      "cell_type": "code",
      "metadata": {
        "id": "hIAz2ZLYTHhy",
        "colab_type": "code",
        "colab": {}
      },
      "source": [
        "#removing columns that we consider as dependent variables, so as to focus\n",
        "# on independent variables\n",
        "independent = footie.drop(columns=['home_team', 'tournament'])"
      ],
      "execution_count": 0,
      "outputs": []
    },
    {
      "cell_type": "code",
      "metadata": {
        "id": "IY8cokP1VFZl",
        "colab_type": "code",
        "colab": {
          "base_uri": "https://localhost:8080/",
          "height": 782
        },
        "outputId": "9868758d-412d-46b6-d571-bce98645db37"
      },
      "source": [
        "correlation = independent.corr()\n",
        "correlation"
      ],
      "execution_count": 202,
      "outputs": [
        {
          "output_type": "execute_result",
          "data": {
            "text/html": [
              "<div>\n",
              "<style scoped>\n",
              "    .dataframe tbody tr th:only-of-type {\n",
              "        vertical-align: middle;\n",
              "    }\n",
              "\n",
              "    .dataframe tbody tr th {\n",
              "        vertical-align: top;\n",
              "    }\n",
              "\n",
              "    .dataframe thead th {\n",
              "        text-align: right;\n",
              "    }\n",
              "</style>\n",
              "<table border=\"1\" class=\"dataframe\">\n",
              "  <thead>\n",
              "    <tr style=\"text-align: right;\">\n",
              "      <th></th>\n",
              "      <th>rank</th>\n",
              "      <th>country_full</th>\n",
              "      <th>country_abrv</th>\n",
              "      <th>total_points</th>\n",
              "      <th>previous_points</th>\n",
              "      <th>rank_change</th>\n",
              "      <th>cur_year_avg</th>\n",
              "      <th>cur_year_avg_weighted</th>\n",
              "      <th>last_year_avg</th>\n",
              "      <th>last_year_avg_weighted</th>\n",
              "      <th>two_year_ago_avg</th>\n",
              "      <th>two_year_ago_weighted</th>\n",
              "      <th>three_year_ago_avg</th>\n",
              "      <th>three_year_ago_weighted</th>\n",
              "      <th>confederation</th>\n",
              "      <th>rank_date</th>\n",
              "      <th>date</th>\n",
              "      <th>away_team</th>\n",
              "      <th>home_score</th>\n",
              "      <th>away_score</th>\n",
              "      <th>city</th>\n",
              "      <th>country</th>\n",
              "      <th>neutral</th>\n",
              "    </tr>\n",
              "  </thead>\n",
              "  <tbody>\n",
              "    <tr>\n",
              "      <th>rank</th>\n",
              "      <td>1.000000</td>\n",
              "      <td>-0.040244</td>\n",
              "      <td>0.002600</td>\n",
              "      <td>-0.048439</td>\n",
              "      <td>-0.584794</td>\n",
              "      <td>-0.054329</td>\n",
              "      <td>-0.046255</td>\n",
              "      <td>-0.046255</td>\n",
              "      <td>-0.048748</td>\n",
              "      <td>-0.048748</td>\n",
              "      <td>-0.045613</td>\n",
              "      <td>-0.045613</td>\n",
              "      <td>-0.039904</td>\n",
              "      <td>-0.039904</td>\n",
              "      <td>-0.355831</td>\n",
              "      <td>0.077494</td>\n",
              "      <td>0.096767</td>\n",
              "      <td>-0.002680</td>\n",
              "      <td>-0.029800</td>\n",
              "      <td>-0.022367</td>\n",
              "      <td>-0.005693</td>\n",
              "      <td>-0.003087</td>\n",
              "      <td>0.017119</td>\n",
              "    </tr>\n",
              "    <tr>\n",
              "      <th>country_full</th>\n",
              "      <td>-0.040244</td>\n",
              "      <td>1.000000</td>\n",
              "      <td>0.926465</td>\n",
              "      <td>-0.003634</td>\n",
              "      <td>-0.001099</td>\n",
              "      <td>0.000510</td>\n",
              "      <td>-0.003287</td>\n",
              "      <td>-0.003287</td>\n",
              "      <td>-0.003560</td>\n",
              "      <td>-0.003560</td>\n",
              "      <td>-0.003209</td>\n",
              "      <td>-0.003209</td>\n",
              "      <td>-0.004466</td>\n",
              "      <td>-0.004466</td>\n",
              "      <td>-0.048060</td>\n",
              "      <td>-0.024785</td>\n",
              "      <td>-0.025262</td>\n",
              "      <td>-0.003463</td>\n",
              "      <td>0.002487</td>\n",
              "      <td>0.001997</td>\n",
              "      <td>-0.011924</td>\n",
              "      <td>0.007264</td>\n",
              "      <td>0.016622</td>\n",
              "    </tr>\n",
              "    <tr>\n",
              "      <th>country_abrv</th>\n",
              "      <td>0.002600</td>\n",
              "      <td>0.926465</td>\n",
              "      <td>1.000000</td>\n",
              "      <td>-0.003591</td>\n",
              "      <td>-0.029933</td>\n",
              "      <td>-0.000089</td>\n",
              "      <td>-0.003271</td>\n",
              "      <td>-0.003271</td>\n",
              "      <td>-0.004039</td>\n",
              "      <td>-0.004039</td>\n",
              "      <td>-0.003040</td>\n",
              "      <td>-0.003041</td>\n",
              "      <td>-0.003232</td>\n",
              "      <td>-0.003232</td>\n",
              "      <td>-0.070987</td>\n",
              "      <td>-0.019171</td>\n",
              "      <td>-0.019047</td>\n",
              "      <td>-0.003372</td>\n",
              "      <td>-0.000332</td>\n",
              "      <td>-0.002822</td>\n",
              "      <td>-0.010033</td>\n",
              "      <td>0.006808</td>\n",
              "      <td>0.019654</td>\n",
              "    </tr>\n",
              "    <tr>\n",
              "      <th>total_points</th>\n",
              "      <td>-0.048439</td>\n",
              "      <td>-0.003634</td>\n",
              "      <td>-0.003591</td>\n",
              "      <td>1.000000</td>\n",
              "      <td>0.073966</td>\n",
              "      <td>0.016745</td>\n",
              "      <td>0.974419</td>\n",
              "      <td>0.974419</td>\n",
              "      <td>0.933622</td>\n",
              "      <td>0.933622</td>\n",
              "      <td>0.936087</td>\n",
              "      <td>0.936090</td>\n",
              "      <td>0.913879</td>\n",
              "      <td>0.913878</td>\n",
              "      <td>0.018319</td>\n",
              "      <td>0.122021</td>\n",
              "      <td>0.094650</td>\n",
              "      <td>-0.000672</td>\n",
              "      <td>0.003860</td>\n",
              "      <td>-0.024039</td>\n",
              "      <td>-0.002108</td>\n",
              "      <td>0.019401</td>\n",
              "      <td>0.027714</td>\n",
              "    </tr>\n",
              "    <tr>\n",
              "      <th>previous_points</th>\n",
              "      <td>-0.584794</td>\n",
              "      <td>-0.001099</td>\n",
              "      <td>-0.029933</td>\n",
              "      <td>0.073966</td>\n",
              "      <td>1.000000</td>\n",
              "      <td>-0.013017</td>\n",
              "      <td>0.070433</td>\n",
              "      <td>0.070433</td>\n",
              "      <td>0.073879</td>\n",
              "      <td>0.073879</td>\n",
              "      <td>0.068966</td>\n",
              "      <td>0.068966</td>\n",
              "      <td>0.064340</td>\n",
              "      <td>0.064340</td>\n",
              "      <td>0.246251</td>\n",
              "      <td>0.502394</td>\n",
              "      <td>0.538025</td>\n",
              "      <td>-0.004858</td>\n",
              "      <td>-0.105030</td>\n",
              "      <td>-0.122663</td>\n",
              "      <td>0.007785</td>\n",
              "      <td>0.033625</td>\n",
              "      <td>0.071934</td>\n",
              "    </tr>\n",
              "    <tr>\n",
              "      <th>rank_change</th>\n",
              "      <td>-0.054329</td>\n",
              "      <td>0.000510</td>\n",
              "      <td>-0.000089</td>\n",
              "      <td>0.016745</td>\n",
              "      <td>-0.013017</td>\n",
              "      <td>1.000000</td>\n",
              "      <td>0.021149</td>\n",
              "      <td>0.021149</td>\n",
              "      <td>0.006986</td>\n",
              "      <td>0.006986</td>\n",
              "      <td>0.017699</td>\n",
              "      <td>0.017700</td>\n",
              "      <td>0.009452</td>\n",
              "      <td>0.009452</td>\n",
              "      <td>0.019620</td>\n",
              "      <td>0.003678</td>\n",
              "      <td>0.003134</td>\n",
              "      <td>0.003099</td>\n",
              "      <td>-0.013775</td>\n",
              "      <td>0.004670</td>\n",
              "      <td>-0.004270</td>\n",
              "      <td>0.000526</td>\n",
              "      <td>0.007993</td>\n",
              "    </tr>\n",
              "    <tr>\n",
              "      <th>cur_year_avg</th>\n",
              "      <td>-0.046255</td>\n",
              "      <td>-0.003287</td>\n",
              "      <td>-0.003271</td>\n",
              "      <td>0.974419</td>\n",
              "      <td>0.070433</td>\n",
              "      <td>0.021149</td>\n",
              "      <td>1.000000</td>\n",
              "      <td>1.000000</td>\n",
              "      <td>0.846672</td>\n",
              "      <td>0.846672</td>\n",
              "      <td>0.880801</td>\n",
              "      <td>0.880804</td>\n",
              "      <td>0.845102</td>\n",
              "      <td>0.845102</td>\n",
              "      <td>0.016549</td>\n",
              "      <td>0.120874</td>\n",
              "      <td>0.093772</td>\n",
              "      <td>-0.001374</td>\n",
              "      <td>0.004577</td>\n",
              "      <td>-0.021553</td>\n",
              "      <td>-0.003525</td>\n",
              "      <td>0.018631</td>\n",
              "      <td>0.028063</td>\n",
              "    </tr>\n",
              "    <tr>\n",
              "      <th>cur_year_avg_weighted</th>\n",
              "      <td>-0.046255</td>\n",
              "      <td>-0.003287</td>\n",
              "      <td>-0.003271</td>\n",
              "      <td>0.974419</td>\n",
              "      <td>0.070433</td>\n",
              "      <td>0.021149</td>\n",
              "      <td>1.000000</td>\n",
              "      <td>1.000000</td>\n",
              "      <td>0.846672</td>\n",
              "      <td>0.846672</td>\n",
              "      <td>0.880801</td>\n",
              "      <td>0.880804</td>\n",
              "      <td>0.845102</td>\n",
              "      <td>0.845102</td>\n",
              "      <td>0.016549</td>\n",
              "      <td>0.120874</td>\n",
              "      <td>0.093772</td>\n",
              "      <td>-0.001374</td>\n",
              "      <td>0.004577</td>\n",
              "      <td>-0.021553</td>\n",
              "      <td>-0.003525</td>\n",
              "      <td>0.018631</td>\n",
              "      <td>0.028063</td>\n",
              "    </tr>\n",
              "    <tr>\n",
              "      <th>last_year_avg</th>\n",
              "      <td>-0.048748</td>\n",
              "      <td>-0.003560</td>\n",
              "      <td>-0.004039</td>\n",
              "      <td>0.933622</td>\n",
              "      <td>0.073879</td>\n",
              "      <td>0.006986</td>\n",
              "      <td>0.846672</td>\n",
              "      <td>0.846672</td>\n",
              "      <td>1.000000</td>\n",
              "      <td>1.000000</td>\n",
              "      <td>0.857237</td>\n",
              "      <td>0.857242</td>\n",
              "      <td>0.876694</td>\n",
              "      <td>0.876691</td>\n",
              "      <td>0.018210</td>\n",
              "      <td>0.106949</td>\n",
              "      <td>0.082928</td>\n",
              "      <td>0.001365</td>\n",
              "      <td>0.003764</td>\n",
              "      <td>-0.023096</td>\n",
              "      <td>0.001838</td>\n",
              "      <td>0.018933</td>\n",
              "      <td>0.024943</td>\n",
              "    </tr>\n",
              "    <tr>\n",
              "      <th>last_year_avg_weighted</th>\n",
              "      <td>-0.048748</td>\n",
              "      <td>-0.003560</td>\n",
              "      <td>-0.004039</td>\n",
              "      <td>0.933622</td>\n",
              "      <td>0.073879</td>\n",
              "      <td>0.006986</td>\n",
              "      <td>0.846672</td>\n",
              "      <td>0.846672</td>\n",
              "      <td>1.000000</td>\n",
              "      <td>1.000000</td>\n",
              "      <td>0.857238</td>\n",
              "      <td>0.857242</td>\n",
              "      <td>0.876695</td>\n",
              "      <td>0.876691</td>\n",
              "      <td>0.018210</td>\n",
              "      <td>0.106948</td>\n",
              "      <td>0.082928</td>\n",
              "      <td>0.001366</td>\n",
              "      <td>0.003764</td>\n",
              "      <td>-0.023096</td>\n",
              "      <td>0.001838</td>\n",
              "      <td>0.018932</td>\n",
              "      <td>0.024943</td>\n",
              "    </tr>\n",
              "    <tr>\n",
              "      <th>two_year_ago_avg</th>\n",
              "      <td>-0.045613</td>\n",
              "      <td>-0.003209</td>\n",
              "      <td>-0.003040</td>\n",
              "      <td>0.936087</td>\n",
              "      <td>0.068966</td>\n",
              "      <td>0.017699</td>\n",
              "      <td>0.880801</td>\n",
              "      <td>0.880801</td>\n",
              "      <td>0.857237</td>\n",
              "      <td>0.857238</td>\n",
              "      <td>1.000000</td>\n",
              "      <td>1.000000</td>\n",
              "      <td>0.856118</td>\n",
              "      <td>0.856116</td>\n",
              "      <td>0.019043</td>\n",
              "      <td>0.114129</td>\n",
              "      <td>0.088528</td>\n",
              "      <td>-0.001435</td>\n",
              "      <td>0.000812</td>\n",
              "      <td>-0.025434</td>\n",
              "      <td>-0.004265</td>\n",
              "      <td>0.017337</td>\n",
              "      <td>0.024090</td>\n",
              "    </tr>\n",
              "    <tr>\n",
              "      <th>two_year_ago_weighted</th>\n",
              "      <td>-0.045613</td>\n",
              "      <td>-0.003209</td>\n",
              "      <td>-0.003041</td>\n",
              "      <td>0.936090</td>\n",
              "      <td>0.068966</td>\n",
              "      <td>0.017700</td>\n",
              "      <td>0.880804</td>\n",
              "      <td>0.880804</td>\n",
              "      <td>0.857242</td>\n",
              "      <td>0.857242</td>\n",
              "      <td>1.000000</td>\n",
              "      <td>1.000000</td>\n",
              "      <td>0.856121</td>\n",
              "      <td>0.856120</td>\n",
              "      <td>0.019043</td>\n",
              "      <td>0.114130</td>\n",
              "      <td>0.088529</td>\n",
              "      <td>-0.001435</td>\n",
              "      <td>0.000812</td>\n",
              "      <td>-0.025434</td>\n",
              "      <td>-0.004265</td>\n",
              "      <td>0.017337</td>\n",
              "      <td>0.024090</td>\n",
              "    </tr>\n",
              "    <tr>\n",
              "      <th>three_year_ago_avg</th>\n",
              "      <td>-0.039904</td>\n",
              "      <td>-0.004466</td>\n",
              "      <td>-0.003232</td>\n",
              "      <td>0.913879</td>\n",
              "      <td>0.064340</td>\n",
              "      <td>0.009452</td>\n",
              "      <td>0.845102</td>\n",
              "      <td>0.845102</td>\n",
              "      <td>0.876694</td>\n",
              "      <td>0.876695</td>\n",
              "      <td>0.856118</td>\n",
              "      <td>0.856121</td>\n",
              "      <td>1.000000</td>\n",
              "      <td>1.000000</td>\n",
              "      <td>0.017473</td>\n",
              "      <td>0.118937</td>\n",
              "      <td>0.092275</td>\n",
              "      <td>-0.000669</td>\n",
              "      <td>0.003521</td>\n",
              "      <td>-0.024978</td>\n",
              "      <td>-0.000380</td>\n",
              "      <td>0.018376</td>\n",
              "      <td>0.025300</td>\n",
              "    </tr>\n",
              "    <tr>\n",
              "      <th>three_year_ago_weighted</th>\n",
              "      <td>-0.039904</td>\n",
              "      <td>-0.004466</td>\n",
              "      <td>-0.003232</td>\n",
              "      <td>0.913878</td>\n",
              "      <td>0.064340</td>\n",
              "      <td>0.009452</td>\n",
              "      <td>0.845102</td>\n",
              "      <td>0.845102</td>\n",
              "      <td>0.876691</td>\n",
              "      <td>0.876691</td>\n",
              "      <td>0.856116</td>\n",
              "      <td>0.856120</td>\n",
              "      <td>1.000000</td>\n",
              "      <td>1.000000</td>\n",
              "      <td>0.017473</td>\n",
              "      <td>0.118937</td>\n",
              "      <td>0.092276</td>\n",
              "      <td>-0.000669</td>\n",
              "      <td>0.003521</td>\n",
              "      <td>-0.024978</td>\n",
              "      <td>-0.000381</td>\n",
              "      <td>0.018376</td>\n",
              "      <td>0.025299</td>\n",
              "    </tr>\n",
              "    <tr>\n",
              "      <th>confederation</th>\n",
              "      <td>-0.355831</td>\n",
              "      <td>-0.048060</td>\n",
              "      <td>-0.070987</td>\n",
              "      <td>0.018319</td>\n",
              "      <td>0.246251</td>\n",
              "      <td>0.019620</td>\n",
              "      <td>0.016549</td>\n",
              "      <td>0.016549</td>\n",
              "      <td>0.018210</td>\n",
              "      <td>0.018210</td>\n",
              "      <td>0.019043</td>\n",
              "      <td>0.019043</td>\n",
              "      <td>0.017473</td>\n",
              "      <td>0.017473</td>\n",
              "      <td>1.000000</td>\n",
              "      <td>-0.008825</td>\n",
              "      <td>-0.012759</td>\n",
              "      <td>0.006671</td>\n",
              "      <td>-0.002991</td>\n",
              "      <td>0.005580</td>\n",
              "      <td>-0.011961</td>\n",
              "      <td>0.000916</td>\n",
              "      <td>0.002848</td>\n",
              "    </tr>\n",
              "    <tr>\n",
              "      <th>rank_date</th>\n",
              "      <td>0.077494</td>\n",
              "      <td>-0.024785</td>\n",
              "      <td>-0.019171</td>\n",
              "      <td>0.122021</td>\n",
              "      <td>0.502394</td>\n",
              "      <td>0.003678</td>\n",
              "      <td>0.120874</td>\n",
              "      <td>0.120874</td>\n",
              "      <td>0.106949</td>\n",
              "      <td>0.106948</td>\n",
              "      <td>0.114129</td>\n",
              "      <td>0.114130</td>\n",
              "      <td>0.118937</td>\n",
              "      <td>0.118937</td>\n",
              "      <td>-0.008825</td>\n",
              "      <td>1.000000</td>\n",
              "      <td>0.981013</td>\n",
              "      <td>-0.006604</td>\n",
              "      <td>-0.153228</td>\n",
              "      <td>-0.182448</td>\n",
              "      <td>0.013723</td>\n",
              "      <td>0.061454</td>\n",
              "      <td>0.179582</td>\n",
              "    </tr>\n",
              "    <tr>\n",
              "      <th>date</th>\n",
              "      <td>0.096767</td>\n",
              "      <td>-0.025262</td>\n",
              "      <td>-0.019047</td>\n",
              "      <td>0.094650</td>\n",
              "      <td>0.538025</td>\n",
              "      <td>0.003134</td>\n",
              "      <td>0.093772</td>\n",
              "      <td>0.093772</td>\n",
              "      <td>0.082928</td>\n",
              "      <td>0.082928</td>\n",
              "      <td>0.088528</td>\n",
              "      <td>0.088529</td>\n",
              "      <td>0.092275</td>\n",
              "      <td>0.092276</td>\n",
              "      <td>-0.012759</td>\n",
              "      <td>0.981013</td>\n",
              "      <td>1.000000</td>\n",
              "      <td>-0.002815</td>\n",
              "      <td>-0.176038</td>\n",
              "      <td>-0.203203</td>\n",
              "      <td>0.012300</td>\n",
              "      <td>0.063810</td>\n",
              "      <td>0.173640</td>\n",
              "    </tr>\n",
              "    <tr>\n",
              "      <th>away_team</th>\n",
              "      <td>-0.002680</td>\n",
              "      <td>-0.003463</td>\n",
              "      <td>-0.003372</td>\n",
              "      <td>-0.000672</td>\n",
              "      <td>-0.004858</td>\n",
              "      <td>0.003099</td>\n",
              "      <td>-0.001374</td>\n",
              "      <td>-0.001374</td>\n",
              "      <td>0.001365</td>\n",
              "      <td>0.001366</td>\n",
              "      <td>-0.001435</td>\n",
              "      <td>-0.001435</td>\n",
              "      <td>-0.000669</td>\n",
              "      <td>-0.000669</td>\n",
              "      <td>0.006671</td>\n",
              "      <td>-0.006604</td>\n",
              "      <td>-0.002815</td>\n",
              "      <td>1.000000</td>\n",
              "      <td>0.008170</td>\n",
              "      <td>-0.003831</td>\n",
              "      <td>-0.016912</td>\n",
              "      <td>-0.024063</td>\n",
              "      <td>0.091070</td>\n",
              "    </tr>\n",
              "    <tr>\n",
              "      <th>home_score</th>\n",
              "      <td>-0.029800</td>\n",
              "      <td>0.002487</td>\n",
              "      <td>-0.000332</td>\n",
              "      <td>0.003860</td>\n",
              "      <td>-0.105030</td>\n",
              "      <td>-0.013775</td>\n",
              "      <td>0.004577</td>\n",
              "      <td>0.004577</td>\n",
              "      <td>0.003764</td>\n",
              "      <td>0.003764</td>\n",
              "      <td>0.000812</td>\n",
              "      <td>0.000812</td>\n",
              "      <td>0.003521</td>\n",
              "      <td>0.003521</td>\n",
              "      <td>-0.002991</td>\n",
              "      <td>-0.153228</td>\n",
              "      <td>-0.176038</td>\n",
              "      <td>0.008170</td>\n",
              "      <td>1.000000</td>\n",
              "      <td>-0.050770</td>\n",
              "      <td>0.000858</td>\n",
              "      <td>-0.020418</td>\n",
              "      <td>-0.056925</td>\n",
              "    </tr>\n",
              "    <tr>\n",
              "      <th>away_score</th>\n",
              "      <td>-0.022367</td>\n",
              "      <td>0.001997</td>\n",
              "      <td>-0.002822</td>\n",
              "      <td>-0.024039</td>\n",
              "      <td>-0.122663</td>\n",
              "      <td>0.004670</td>\n",
              "      <td>-0.021553</td>\n",
              "      <td>-0.021553</td>\n",
              "      <td>-0.023096</td>\n",
              "      <td>-0.023096</td>\n",
              "      <td>-0.025434</td>\n",
              "      <td>-0.025434</td>\n",
              "      <td>-0.024978</td>\n",
              "      <td>-0.024978</td>\n",
              "      <td>0.005580</td>\n",
              "      <td>-0.182448</td>\n",
              "      <td>-0.203203</td>\n",
              "      <td>-0.003831</td>\n",
              "      <td>-0.050770</td>\n",
              "      <td>1.000000</td>\n",
              "      <td>0.002605</td>\n",
              "      <td>-0.007770</td>\n",
              "      <td>0.020854</td>\n",
              "    </tr>\n",
              "    <tr>\n",
              "      <th>city</th>\n",
              "      <td>-0.005693</td>\n",
              "      <td>-0.011924</td>\n",
              "      <td>-0.010033</td>\n",
              "      <td>-0.002108</td>\n",
              "      <td>0.007785</td>\n",
              "      <td>-0.004270</td>\n",
              "      <td>-0.003525</td>\n",
              "      <td>-0.003525</td>\n",
              "      <td>0.001838</td>\n",
              "      <td>0.001838</td>\n",
              "      <td>-0.004265</td>\n",
              "      <td>-0.004265</td>\n",
              "      <td>-0.000380</td>\n",
              "      <td>-0.000381</td>\n",
              "      <td>-0.011961</td>\n",
              "      <td>0.013723</td>\n",
              "      <td>0.012300</td>\n",
              "      <td>-0.016912</td>\n",
              "      <td>0.000858</td>\n",
              "      <td>0.002605</td>\n",
              "      <td>1.000000</td>\n",
              "      <td>-0.004664</td>\n",
              "      <td>-0.017004</td>\n",
              "    </tr>\n",
              "    <tr>\n",
              "      <th>country</th>\n",
              "      <td>-0.003087</td>\n",
              "      <td>0.007264</td>\n",
              "      <td>0.006808</td>\n",
              "      <td>0.019401</td>\n",
              "      <td>0.033625</td>\n",
              "      <td>0.000526</td>\n",
              "      <td>0.018631</td>\n",
              "      <td>0.018631</td>\n",
              "      <td>0.018933</td>\n",
              "      <td>0.018932</td>\n",
              "      <td>0.017337</td>\n",
              "      <td>0.017337</td>\n",
              "      <td>0.018376</td>\n",
              "      <td>0.018376</td>\n",
              "      <td>0.000916</td>\n",
              "      <td>0.061454</td>\n",
              "      <td>0.063810</td>\n",
              "      <td>-0.024063</td>\n",
              "      <td>-0.020418</td>\n",
              "      <td>-0.007770</td>\n",
              "      <td>-0.004664</td>\n",
              "      <td>1.000000</td>\n",
              "      <td>0.117026</td>\n",
              "    </tr>\n",
              "    <tr>\n",
              "      <th>neutral</th>\n",
              "      <td>0.017119</td>\n",
              "      <td>0.016622</td>\n",
              "      <td>0.019654</td>\n",
              "      <td>0.027714</td>\n",
              "      <td>0.071934</td>\n",
              "      <td>0.007993</td>\n",
              "      <td>0.028063</td>\n",
              "      <td>0.028063</td>\n",
              "      <td>0.024943</td>\n",
              "      <td>0.024943</td>\n",
              "      <td>0.024090</td>\n",
              "      <td>0.024090</td>\n",
              "      <td>0.025300</td>\n",
              "      <td>0.025299</td>\n",
              "      <td>0.002848</td>\n",
              "      <td>0.179582</td>\n",
              "      <td>0.173640</td>\n",
              "      <td>0.091070</td>\n",
              "      <td>-0.056925</td>\n",
              "      <td>0.020854</td>\n",
              "      <td>-0.017004</td>\n",
              "      <td>0.117026</td>\n",
              "      <td>1.000000</td>\n",
              "    </tr>\n",
              "  </tbody>\n",
              "</table>\n",
              "</div>"
            ],
            "text/plain": [
              "                             rank  country_full  ...   country   neutral\n",
              "rank                     1.000000     -0.040244  ... -0.003087  0.017119\n",
              "country_full            -0.040244      1.000000  ...  0.007264  0.016622\n",
              "country_abrv             0.002600      0.926465  ...  0.006808  0.019654\n",
              "total_points            -0.048439     -0.003634  ...  0.019401  0.027714\n",
              "previous_points         -0.584794     -0.001099  ...  0.033625  0.071934\n",
              "rank_change             -0.054329      0.000510  ...  0.000526  0.007993\n",
              "cur_year_avg            -0.046255     -0.003287  ...  0.018631  0.028063\n",
              "cur_year_avg_weighted   -0.046255     -0.003287  ...  0.018631  0.028063\n",
              "last_year_avg           -0.048748     -0.003560  ...  0.018933  0.024943\n",
              "last_year_avg_weighted  -0.048748     -0.003560  ...  0.018932  0.024943\n",
              "two_year_ago_avg        -0.045613     -0.003209  ...  0.017337  0.024090\n",
              "two_year_ago_weighted   -0.045613     -0.003209  ...  0.017337  0.024090\n",
              "three_year_ago_avg      -0.039904     -0.004466  ...  0.018376  0.025300\n",
              "three_year_ago_weighted -0.039904     -0.004466  ...  0.018376  0.025299\n",
              "confederation           -0.355831     -0.048060  ...  0.000916  0.002848\n",
              "rank_date                0.077494     -0.024785  ...  0.061454  0.179582\n",
              "date                     0.096767     -0.025262  ...  0.063810  0.173640\n",
              "away_team               -0.002680     -0.003463  ... -0.024063  0.091070\n",
              "home_score              -0.029800      0.002487  ... -0.020418 -0.056925\n",
              "away_score              -0.022367      0.001997  ... -0.007770  0.020854\n",
              "city                    -0.005693     -0.011924  ... -0.004664 -0.017004\n",
              "country                 -0.003087      0.007264  ...  1.000000  0.117026\n",
              "neutral                  0.017119      0.016622  ...  0.117026  1.000000\n",
              "\n",
              "[23 rows x 23 columns]"
            ]
          },
          "metadata": {
            "tags": []
          },
          "execution_count": 202
        }
      ]
    },
    {
      "cell_type": "code",
      "metadata": {
        "id": "WB7fR11eVTKI",
        "colab_type": "code",
        "colab": {
          "base_uri": "https://localhost:8080/",
          "height": 782
        },
        "outputId": "5fb3a3a3-efa9-4be7-beeb-e7ab92f36d4f"
      },
      "source": [
        "#computing for the VIF\n",
        "pd.DataFrame(np.linalg.inv(correlation.values), index = correlation.index, columns=correlation.columns)"
      ],
      "execution_count": 203,
      "outputs": [
        {
          "output_type": "execute_result",
          "data": {
            "text/html": [
              "<div>\n",
              "<style scoped>\n",
              "    .dataframe tbody tr th:only-of-type {\n",
              "        vertical-align: middle;\n",
              "    }\n",
              "\n",
              "    .dataframe tbody tr th {\n",
              "        vertical-align: top;\n",
              "    }\n",
              "\n",
              "    .dataframe thead th {\n",
              "        text-align: right;\n",
              "    }\n",
              "</style>\n",
              "<table border=\"1\" class=\"dataframe\">\n",
              "  <thead>\n",
              "    <tr style=\"text-align: right;\">\n",
              "      <th></th>\n",
              "      <th>rank</th>\n",
              "      <th>country_full</th>\n",
              "      <th>country_abrv</th>\n",
              "      <th>total_points</th>\n",
              "      <th>previous_points</th>\n",
              "      <th>rank_change</th>\n",
              "      <th>cur_year_avg</th>\n",
              "      <th>cur_year_avg_weighted</th>\n",
              "      <th>last_year_avg</th>\n",
              "      <th>last_year_avg_weighted</th>\n",
              "      <th>two_year_ago_avg</th>\n",
              "      <th>two_year_ago_weighted</th>\n",
              "      <th>three_year_ago_avg</th>\n",
              "      <th>three_year_ago_weighted</th>\n",
              "      <th>confederation</th>\n",
              "      <th>rank_date</th>\n",
              "      <th>date</th>\n",
              "      <th>away_team</th>\n",
              "      <th>home_score</th>\n",
              "      <th>away_score</th>\n",
              "      <th>city</th>\n",
              "      <th>country</th>\n",
              "      <th>neutral</th>\n",
              "    </tr>\n",
              "  </thead>\n",
              "  <tbody>\n",
              "    <tr>\n",
              "      <th>rank</th>\n",
              "      <td>2.813403</td>\n",
              "      <td>2.376368e-01</td>\n",
              "      <td>-0.157406</td>\n",
              "      <td>-5.128025e+02</td>\n",
              "      <td>2.498011e+00</td>\n",
              "      <td>0.181134</td>\n",
              "      <td>1.029228e+04</td>\n",
              "      <td>-9.085789e+03</td>\n",
              "      <td>1.167143e+02</td>\n",
              "      <td>1.531140e+01</td>\n",
              "      <td>-1.980421e+02</td>\n",
              "      <td>2.831039e+02</td>\n",
              "      <td>2.565818e+01</td>\n",
              "      <td>2.862879e+01</td>\n",
              "      <td>3.512237e-01</td>\n",
              "      <td>2.942591e+00</td>\n",
              "      <td>-4.503289e+00</td>\n",
              "      <td>0.023244</td>\n",
              "      <td>0.008050</td>\n",
              "      <td>-0.012115</td>\n",
              "      <td>1.885809e-02</td>\n",
              "      <td>2.861625e-02</td>\n",
              "      <td>1.764149e-02</td>\n",
              "    </tr>\n",
              "    <tr>\n",
              "      <th>country_full</th>\n",
              "      <td>0.237637</td>\n",
              "      <td>7.156497e+00</td>\n",
              "      <td>-6.633416</td>\n",
              "      <td>-3.984364e+03</td>\n",
              "      <td>-9.101445e-02</td>\n",
              "      <td>0.007232</td>\n",
              "      <td>3.713433e+06</td>\n",
              "      <td>-3.711063e+06</td>\n",
              "      <td>9.073754e+02</td>\n",
              "      <td>1.201377e+02</td>\n",
              "      <td>-3.345747e+02</td>\n",
              "      <td>9.961963e+02</td>\n",
              "      <td>-1.545032e+02</td>\n",
              "      <td>5.765591e+02</td>\n",
              "      <td>-1.897347e-02</td>\n",
              "      <td>-3.585299e-02</td>\n",
              "      <td>1.065504e-01</td>\n",
              "      <td>0.002878</td>\n",
              "      <td>-0.010376</td>\n",
              "      <td>-0.023981</td>\n",
              "      <td>2.027435e-02</td>\n",
              "      <td>-8.616585e-03</td>\n",
              "      <td>2.565422e-03</td>\n",
              "    </tr>\n",
              "    <tr>\n",
              "      <th>country_abrv</th>\n",
              "      <td>-0.157406</td>\n",
              "      <td>-6.633416e+00</td>\n",
              "      <td>7.156478</td>\n",
              "      <td>4.710657e+03</td>\n",
              "      <td>1.426698e-01</td>\n",
              "      <td>-0.003794</td>\n",
              "      <td>-6.006577e+06</td>\n",
              "      <td>6.003848e+06</td>\n",
              "      <td>-1.072799e+03</td>\n",
              "      <td>-1.420389e+02</td>\n",
              "      <td>5.355958e+01</td>\n",
              "      <td>-8.357968e+02</td>\n",
              "      <td>-9.627908e+01</td>\n",
              "      <td>-4.027137e+02</td>\n",
              "      <td>9.686111e-02</td>\n",
              "      <td>1.057183e-01</td>\n",
              "      <td>-1.805528e-01</td>\n",
              "      <td>0.003135</td>\n",
              "      <td>0.013841</td>\n",
              "      <td>0.030432</td>\n",
              "      <td>-7.993016e-03</td>\n",
              "      <td>3.330014e-03</td>\n",
              "      <td>-2.615569e-02</td>\n",
              "    </tr>\n",
              "    <tr>\n",
              "      <th>total_points</th>\n",
              "      <td>-2420.095744</td>\n",
              "      <td>1.485228e+04</td>\n",
              "      <td>9291.821270</td>\n",
              "      <td>-4.312154e+10</td>\n",
              "      <td>2.242807e+04</td>\n",
              "      <td>-5789.386373</td>\n",
              "      <td>1.191232e+18</td>\n",
              "      <td>-1.191232e+18</td>\n",
              "      <td>9.820878e+09</td>\n",
              "      <td>1.300954e+09</td>\n",
              "      <td>-1.124381e+10</td>\n",
              "      <td>1.840472e+10</td>\n",
              "      <td>-5.171423e+10</td>\n",
              "      <td>5.628098e+10</td>\n",
              "      <td>-1.369170e+04</td>\n",
              "      <td>-8.487112e+04</td>\n",
              "      <td>4.937561e+04</td>\n",
              "      <td>175.777393</td>\n",
              "      <td>-7460.294225</td>\n",
              "      <td>-7826.470098</td>\n",
              "      <td>3.738437e+04</td>\n",
              "      <td>1.778525e+04</td>\n",
              "      <td>3.305941e+04</td>\n",
              "    </tr>\n",
              "    <tr>\n",
              "      <th>previous_points</th>\n",
              "      <td>2.498011</td>\n",
              "      <td>-9.101453e-02</td>\n",
              "      <td>0.142670</td>\n",
              "      <td>-1.660245e+03</td>\n",
              "      <td>3.830741e+00</td>\n",
              "      <td>0.192144</td>\n",
              "      <td>-4.623150e+05</td>\n",
              "      <td>4.631895e+05</td>\n",
              "      <td>3.779948e+02</td>\n",
              "      <td>5.005150e+01</td>\n",
              "      <td>-6.438605e+02</td>\n",
              "      <td>9.195642e+02</td>\n",
              "      <td>-2.323879e+02</td>\n",
              "      <td>4.083082e+02</td>\n",
              "      <td>-9.478139e-02</td>\n",
              "      <td>3.784359e+00</td>\n",
              "      <td>-6.023216e+00</td>\n",
              "      <td>0.030889</td>\n",
              "      <td>0.001546</td>\n",
              "      <td>-0.009323</td>\n",
              "      <td>8.529235e-03</td>\n",
              "      <td>2.742227e-02</td>\n",
              "      <td>4.140649e-02</td>\n",
              "    </tr>\n",
              "    <tr>\n",
              "      <th>rank_change</th>\n",
              "      <td>0.181134</td>\n",
              "      <td>7.231680e-03</td>\n",
              "      <td>-0.003794</td>\n",
              "      <td>1.552247e+03</td>\n",
              "      <td>1.921438e-01</td>\n",
              "      <td>1.014089</td>\n",
              "      <td>-7.819012e+05</td>\n",
              "      <td>7.811283e+05</td>\n",
              "      <td>-3.534729e+02</td>\n",
              "      <td>-4.679572e+01</td>\n",
              "      <td>3.200459e+02</td>\n",
              "      <td>-5.778391e+02</td>\n",
              "      <td>6.023339e+01</td>\n",
              "      <td>-2.246226e+02</td>\n",
              "      <td>-4.701209e-03</td>\n",
              "      <td>2.093595e-01</td>\n",
              "      <td>-3.253539e-01</td>\n",
              "      <td>-0.000977</td>\n",
              "      <td>0.013795</td>\n",
              "      <td>-0.004479</td>\n",
              "      <td>4.432160e-03</td>\n",
              "      <td>2.588012e-03</td>\n",
              "      <td>-4.966565e-03</td>\n",
              "    </tr>\n",
              "    <tr>\n",
              "      <th>cur_year_avg</th>\n",
              "      <td>192025.872289</td>\n",
              "      <td>-1.639330e+06</td>\n",
              "      <td>-850448.530918</td>\n",
              "      <td>7.910358e+16</td>\n",
              "      <td>-2.435965e+06</td>\n",
              "      <td>681743.577005</td>\n",
              "      <td>-1.190902e+20</td>\n",
              "      <td>1.190491e+20</td>\n",
              "      <td>-1.155092e+12</td>\n",
              "      <td>-2.039971e+16</td>\n",
              "      <td>1.349226e+12</td>\n",
              "      <td>-1.313710e+16</td>\n",
              "      <td>5.255849e+12</td>\n",
              "      <td>-8.383822e+15</td>\n",
              "      <td>1.331221e+06</td>\n",
              "      <td>9.208236e+06</td>\n",
              "      <td>-5.420512e+06</td>\n",
              "      <td>-65552.937782</td>\n",
              "      <td>689662.648434</td>\n",
              "      <td>825394.012879</td>\n",
              "      <td>-3.867762e+06</td>\n",
              "      <td>-1.770523e+06</td>\n",
              "      <td>-3.397735e+06</td>\n",
              "    </tr>\n",
              "    <tr>\n",
              "      <th>cur_year_avg_weighted</th>\n",
              "      <td>-190766.712261</td>\n",
              "      <td>1.631603e+06</td>\n",
              "      <td>845614.136574</td>\n",
              "      <td>-7.910356e+16</td>\n",
              "      <td>2.424296e+06</td>\n",
              "      <td>-678731.484212</td>\n",
              "      <td>1.184704e+20</td>\n",
              "      <td>-1.184293e+20</td>\n",
              "      <td>1.149982e+12</td>\n",
              "      <td>2.039971e+16</td>\n",
              "      <td>-1.343376e+12</td>\n",
              "      <td>1.313709e+16</td>\n",
              "      <td>-5.228943e+12</td>\n",
              "      <td>8.383793e+15</td>\n",
              "      <td>-1.324097e+06</td>\n",
              "      <td>-9.164079e+06</td>\n",
              "      <td>5.394823e+06</td>\n",
              "      <td>65461.485576</td>\n",
              "      <td>-685781.182807</td>\n",
              "      <td>-821322.024997</td>\n",
              "      <td>3.848311e+06</td>\n",
              "      <td>1.761269e+06</td>\n",
              "      <td>3.380535e+06</td>\n",
              "    </tr>\n",
              "    <tr>\n",
              "      <th>last_year_avg</th>\n",
              "      <td>116.699193</td>\n",
              "      <td>9.074670e+02</td>\n",
              "      <td>-1072.674491</td>\n",
              "      <td>-7.807312e+09</td>\n",
              "      <td>3.781889e+02</td>\n",
              "      <td>-353.518339</td>\n",
              "      <td>9.286685e+12</td>\n",
              "      <td>-9.282623e+12</td>\n",
              "      <td>1.778076e+09</td>\n",
              "      <td>2.354325e+08</td>\n",
              "      <td>-1.673974e+08</td>\n",
              "      <td>1.463870e+09</td>\n",
              "      <td>-1.024649e+08</td>\n",
              "      <td>9.294085e+08</td>\n",
              "      <td>-1.272862e+02</td>\n",
              "      <td>-1.089663e+03</td>\n",
              "      <td>6.634373e+02</td>\n",
              "      <td>172.590311</td>\n",
              "      <td>139.953144</td>\n",
              "      <td>-142.957027</td>\n",
              "      <td>3.085993e+02</td>\n",
              "      <td>-4.628575e+02</td>\n",
              "      <td>3.023019e+02</td>\n",
              "    </tr>\n",
              "    <tr>\n",
              "      <th>last_year_avg_weighted</th>\n",
              "      <td>507.409370</td>\n",
              "      <td>-4.737905e+03</td>\n",
              "      <td>-1323.661721</td>\n",
              "      <td>1.892839e+10</td>\n",
              "      <td>-6.162533e+03</td>\n",
              "      <td>1846.642154</td>\n",
              "      <td>-3.072289e+17</td>\n",
              "      <td>3.072288e+17</td>\n",
              "      <td>-4.310889e+09</td>\n",
              "      <td>-5.709497e+08</td>\n",
              "      <td>3.067193e+09</td>\n",
              "      <td>-6.210470e+09</td>\n",
              "      <td>1.343959e+10</td>\n",
              "      <td>-1.544430e+10</td>\n",
              "      <td>3.658392e+03</td>\n",
              "      <td>2.297808e+04</td>\n",
              "      <td>-1.339743e+04</td>\n",
              "      <td>-217.938798</td>\n",
              "      <td>1784.052884</td>\n",
              "      <td>2161.410407</td>\n",
              "      <td>-9.950073e+03</td>\n",
              "      <td>-4.123976e+03</td>\n",
              "      <td>-8.828350e+03</td>\n",
              "    </tr>\n",
              "    <tr>\n",
              "      <th>two_year_ago_avg</th>\n",
              "      <td>-198.045854</td>\n",
              "      <td>-3.345002e+02</td>\n",
              "      <td>53.508730</td>\n",
              "      <td>7.345019e+08</td>\n",
              "      <td>-6.438173e+02</td>\n",
              "      <td>320.023557</td>\n",
              "      <td>2.371356e+12</td>\n",
              "      <td>-2.371739e+12</td>\n",
              "      <td>-1.672697e+08</td>\n",
              "      <td>-2.214936e+07</td>\n",
              "      <td>8.965280e+08</td>\n",
              "      <td>-1.018517e+09</td>\n",
              "      <td>1.167384e+08</td>\n",
              "      <td>-1.945304e+08</td>\n",
              "      <td>-2.681748e+02</td>\n",
              "      <td>2.468708e+03</td>\n",
              "      <td>-1.698422e+03</td>\n",
              "      <td>-158.152354</td>\n",
              "      <td>-238.371274</td>\n",
              "      <td>110.835693</td>\n",
              "      <td>-3.139724e+02</td>\n",
              "      <td>-3.205869e+01</td>\n",
              "      <td>-1.683268e+02</td>\n",
              "    </tr>\n",
              "    <tr>\n",
              "      <th>two_year_ago_weighted</th>\n",
              "      <td>599.929961</td>\n",
              "      <td>-2.131822e+03</td>\n",
              "      <td>-1596.494631</td>\n",
              "      <td>6.426118e+09</td>\n",
              "      <td>-3.080525e+03</td>\n",
              "      <td>641.317484</td>\n",
              "      <td>-1.978155e+17</td>\n",
              "      <td>1.978155e+17</td>\n",
              "      <td>-1.463553e+09</td>\n",
              "      <td>-1.938828e+08</td>\n",
              "      <td>9.705731e+08</td>\n",
              "      <td>-2.037701e+09</td>\n",
              "      <td>8.470800e+09</td>\n",
              "      <td>-9.151347e+09</td>\n",
              "      <td>2.541780e+03</td>\n",
              "      <td>1.162461e+04</td>\n",
              "      <td>-6.500624e+03</td>\n",
              "      <td>128.971911</td>\n",
              "      <td>1477.236384</td>\n",
              "      <td>1188.829437</td>\n",
              "      <td>-5.893961e+03</td>\n",
              "      <td>-2.921315e+03</td>\n",
              "      <td>-5.321425e+03</td>\n",
              "    </tr>\n",
              "    <tr>\n",
              "      <th>three_year_ago_avg</th>\n",
              "      <td>25.657576</td>\n",
              "      <td>-1.543306e+02</td>\n",
              "      <td>-96.539469</td>\n",
              "      <td>4.480770e+08</td>\n",
              "      <td>-2.323952e+02</td>\n",
              "      <td>60.195229</td>\n",
              "      <td>6.402567e+11</td>\n",
              "      <td>-6.404898e+11</td>\n",
              "      <td>-1.020490e+08</td>\n",
              "      <td>-1.351824e+07</td>\n",
              "      <td>1.168357e+08</td>\n",
              "      <td>-1.912449e+08</td>\n",
              "      <td>5.373645e+08</td>\n",
              "      <td>-5.848177e+08</td>\n",
              "      <td>1.422680e+02</td>\n",
              "      <td>8.878062e+02</td>\n",
              "      <td>-5.192565e+02</td>\n",
              "      <td>-1.801660</td>\n",
              "      <td>77.413447</td>\n",
              "      <td>81.239051</td>\n",
              "      <td>-3.884682e+02</td>\n",
              "      <td>-1.848335e+02</td>\n",
              "      <td>-3.435009e+02</td>\n",
              "    </tr>\n",
              "    <tr>\n",
              "      <th>three_year_ago_weighted</th>\n",
              "      <td>230.692240</td>\n",
              "      <td>-1.418765e+03</td>\n",
              "      <td>-887.685317</td>\n",
              "      <td>4.119304e+09</td>\n",
              "      <td>-2.143094e+03</td>\n",
              "      <td>553.031418</td>\n",
              "      <td>-1.261747e+17</td>\n",
              "      <td>1.261747e+17</td>\n",
              "      <td>-9.381665e+08</td>\n",
              "      <td>-1.242772e+08</td>\n",
              "      <td>1.074103e+09</td>\n",
              "      <td>-1.758168e+09</td>\n",
              "      <td>4.940158e+09</td>\n",
              "      <td>-5.376410e+09</td>\n",
              "      <td>1.307927e+03</td>\n",
              "      <td>8.101274e+03</td>\n",
              "      <td>-4.710274e+03</td>\n",
              "      <td>-16.815601</td>\n",
              "      <td>712.769805</td>\n",
              "      <td>747.745411</td>\n",
              "      <td>-3.571253e+03</td>\n",
              "      <td>-1.698967e+03</td>\n",
              "      <td>-3.158113e+03</td>\n",
              "    </tr>\n",
              "    <tr>\n",
              "      <th>confederation</th>\n",
              "      <td>0.351224</td>\n",
              "      <td>-1.897345e-02</td>\n",
              "      <td>0.096861</td>\n",
              "      <td>5.585393e+02</td>\n",
              "      <td>-9.478143e-02</td>\n",
              "      <td>-0.004701</td>\n",
              "      <td>-1.442754e+06</td>\n",
              "      <td>1.442463e+06</td>\n",
              "      <td>-1.271963e+02</td>\n",
              "      <td>-1.684449e+01</td>\n",
              "      <td>-2.681321e+02</td>\n",
              "      <td>1.753761e+02</td>\n",
              "      <td>1.423388e+02</td>\n",
              "      <td>-2.015144e+02</td>\n",
              "      <td>1.155377e+00</td>\n",
              "      <td>-1.666105e-02</td>\n",
              "      <td>5.216057e-02</td>\n",
              "      <td>-0.005856</td>\n",
              "      <td>0.010125</td>\n",
              "      <td>-0.001775</td>\n",
              "      <td>1.654854e-02</td>\n",
              "      <td>1.531964e-03</td>\n",
              "      <td>-8.983455e-03</td>\n",
              "    </tr>\n",
              "    <tr>\n",
              "      <th>rank_date</th>\n",
              "      <td>2.942591</td>\n",
              "      <td>-3.585265e-02</td>\n",
              "      <td>0.105718</td>\n",
              "      <td>4.782038e+03</td>\n",
              "      <td>3.784359e+00</td>\n",
              "      <td>0.209359</td>\n",
              "      <td>3.894192e+06</td>\n",
              "      <td>-3.896680e+06</td>\n",
              "      <td>-1.088909e+03</td>\n",
              "      <td>-1.442833e+02</td>\n",
              "      <td>2.468847e+03</td>\n",
              "      <td>-3.263112e+03</td>\n",
              "      <td>8.876839e+02</td>\n",
              "      <td>-1.394570e+03</td>\n",
              "      <td>-1.666121e-02</td>\n",
              "      <td>3.182896e+01</td>\n",
              "      <td>-3.364193e+01</td>\n",
              "      <td>0.164996</td>\n",
              "      <td>-0.594134</td>\n",
              "      <td>-0.544037</td>\n",
              "      <td>-3.667001e-02</td>\n",
              "      <td>1.021873e-01</td>\n",
              "      <td>-2.269046e-01</td>\n",
              "    </tr>\n",
              "    <tr>\n",
              "      <th>date</th>\n",
              "      <td>-4.503289</td>\n",
              "      <td>1.065502e-01</td>\n",
              "      <td>-0.180553</td>\n",
              "      <td>-2.911532e+03</td>\n",
              "      <td>-6.023216e+00</td>\n",
              "      <td>-0.325354</td>\n",
              "      <td>-3.051063e+06</td>\n",
              "      <td>3.052578e+06</td>\n",
              "      <td>6.629859e+02</td>\n",
              "      <td>8.790300e+01</td>\n",
              "      <td>-1.698495e+03</td>\n",
              "      <td>2.182127e+03</td>\n",
              "      <td>-5.191510e+02</td>\n",
              "      <td>8.278186e+02</td>\n",
              "      <td>5.216067e-02</td>\n",
              "      <td>-3.364193e+01</td>\n",
              "      <td>3.790899e+01</td>\n",
              "      <td>-0.163510</td>\n",
              "      <td>0.783157</td>\n",
              "      <td>0.782519</td>\n",
              "      <td>1.203688e-02</td>\n",
              "      <td>-1.606484e-01</td>\n",
              "      <td>1.463815e-02</td>\n",
              "    </tr>\n",
              "    <tr>\n",
              "      <th>away_team</th>\n",
              "      <td>0.023244</td>\n",
              "      <td>2.877751e-03</td>\n",
              "      <td>0.003135</td>\n",
              "      <td>-7.579312e+02</td>\n",
              "      <td>3.088949e-02</td>\n",
              "      <td>-0.000977</td>\n",
              "      <td>4.171027e+05</td>\n",
              "      <td>-4.167084e+05</td>\n",
              "      <td>1.725893e+02</td>\n",
              "      <td>2.286622e+01</td>\n",
              "      <td>-1.581583e+02</td>\n",
              "      <td>2.840273e+02</td>\n",
              "      <td>-1.820414e+00</td>\n",
              "      <td>8.210057e+01</td>\n",
              "      <td>-5.855819e-03</td>\n",
              "      <td>1.649958e-01</td>\n",
              "      <td>-1.635102e-01</td>\n",
              "      <td>1.011388</td>\n",
              "      <td>-0.012468</td>\n",
              "      <td>0.006717</td>\n",
              "      <td>1.529656e-02</td>\n",
              "      <td>3.530273e-02</td>\n",
              "      <td>-1.006932e-01</td>\n",
              "    </tr>\n",
              "    <tr>\n",
              "      <th>home_score</th>\n",
              "      <td>0.008050</td>\n",
              "      <td>-1.037570e-02</td>\n",
              "      <td>0.013841</td>\n",
              "      <td>-6.147794e+02</td>\n",
              "      <td>1.545532e-03</td>\n",
              "      <td>0.013795</td>\n",
              "      <td>6.940370e+04</td>\n",
              "      <td>-6.908385e+04</td>\n",
              "      <td>1.400077e+02</td>\n",
              "      <td>1.853584e+01</td>\n",
              "      <td>-2.383583e+02</td>\n",
              "      <td>3.404737e+02</td>\n",
              "      <td>7.741409e+01</td>\n",
              "      <td>-1.230046e+01</td>\n",
              "      <td>1.012485e-02</td>\n",
              "      <td>-5.941345e-01</td>\n",
              "      <td>7.831567e-01</td>\n",
              "      <td>-0.012468</td>\n",
              "      <td>1.054790</td>\n",
              "      <td>0.103956</td>\n",
              "      <td>-2.072570e-03</td>\n",
              "      <td>5.180707e-03</td>\n",
              "      <td>2.872730e-02</td>\n",
              "    </tr>\n",
              "    <tr>\n",
              "      <th>away_score</th>\n",
              "      <td>-0.012115</td>\n",
              "      <td>-2.398147e-02</td>\n",
              "      <td>0.030432</td>\n",
              "      <td>6.273993e+02</td>\n",
              "      <td>-9.323155e-03</td>\n",
              "      <td>-0.004479</td>\n",
              "      <td>-2.957984e+05</td>\n",
              "      <td>2.954719e+05</td>\n",
              "      <td>-1.428956e+02</td>\n",
              "      <td>-1.890918e+01</td>\n",
              "      <td>1.108554e+02</td>\n",
              "      <td>-2.150195e+02</td>\n",
              "      <td>8.125654e+01</td>\n",
              "      <td>-1.476969e+02</td>\n",
              "      <td>-1.775328e-03</td>\n",
              "      <td>-5.440374e-01</td>\n",
              "      <td>7.825192e-01</td>\n",
              "      <td>0.006717</td>\n",
              "      <td>0.103956</td>\n",
              "      <td>1.065590</td>\n",
              "      <td>-5.908795e-03</td>\n",
              "      <td>3.592995e-04</td>\n",
              "      <td>-5.504541e-02</td>\n",
              "    </tr>\n",
              "    <tr>\n",
              "      <th>city</th>\n",
              "      <td>0.018858</td>\n",
              "      <td>2.027423e-02</td>\n",
              "      <td>-0.007993</td>\n",
              "      <td>-1.353785e+03</td>\n",
              "      <td>8.529251e-03</td>\n",
              "      <td>0.004432</td>\n",
              "      <td>5.574698e+04</td>\n",
              "      <td>-5.504262e+04</td>\n",
              "      <td>3.082985e+02</td>\n",
              "      <td>4.082335e+01</td>\n",
              "      <td>-3.140500e+02</td>\n",
              "      <td>5.388819e+02</td>\n",
              "      <td>-3.884914e+02</td>\n",
              "      <td>5.318752e+02</td>\n",
              "      <td>1.654858e-02</td>\n",
              "      <td>-3.667014e-02</td>\n",
              "      <td>1.203698e-02</td>\n",
              "      <td>0.015297</td>\n",
              "      <td>-0.002073</td>\n",
              "      <td>-0.005909</td>\n",
              "      <td>1.001893e+00</td>\n",
              "      <td>3.964602e-03</td>\n",
              "      <td>1.859379e-02</td>\n",
              "    </tr>\n",
              "    <tr>\n",
              "      <th>country</th>\n",
              "      <td>0.028616</td>\n",
              "      <td>-8.616682e-03</td>\n",
              "      <td>0.003330</td>\n",
              "      <td>2.032987e+03</td>\n",
              "      <td>2.742221e-02</td>\n",
              "      <td>0.002588</td>\n",
              "      <td>-3.000158e+06</td>\n",
              "      <td>2.999100e+06</td>\n",
              "      <td>-4.630246e+02</td>\n",
              "      <td>-6.129124e+01</td>\n",
              "      <td>-3.206006e+01</td>\n",
              "      <td>-3.055307e+02</td>\n",
              "      <td>-1.847107e+02</td>\n",
              "      <td>-3.062729e+01</td>\n",
              "      <td>1.532019e-03</td>\n",
              "      <td>1.021875e-01</td>\n",
              "      <td>-1.606485e-01</td>\n",
              "      <td>0.035303</td>\n",
              "      <td>0.005181</td>\n",
              "      <td>0.000359</td>\n",
              "      <td>3.964503e-03</td>\n",
              "      <td>1.018044e+00</td>\n",
              "      <td>-1.143892e-01</td>\n",
              "    </tr>\n",
              "    <tr>\n",
              "      <th>neutral</th>\n",
              "      <td>0.017641</td>\n",
              "      <td>2.565325e-03</td>\n",
              "      <td>-0.026156</td>\n",
              "      <td>-1.325770e+03</td>\n",
              "      <td>4.140651e-02</td>\n",
              "      <td>-0.004967</td>\n",
              "      <td>5.974359e+05</td>\n",
              "      <td>-5.967462e+05</td>\n",
              "      <td>3.020429e+02</td>\n",
              "      <td>3.986780e+01</td>\n",
              "      <td>-1.684012e+02</td>\n",
              "      <td>3.885697e+02</td>\n",
              "      <td>-3.435455e+02</td>\n",
              "      <td>4.839729e+02</td>\n",
              "      <td>-8.983421e-03</td>\n",
              "      <td>-2.269047e-01</td>\n",
              "      <td>1.463826e-02</td>\n",
              "      <td>-0.100693</td>\n",
              "      <td>0.028727</td>\n",
              "      <td>-0.055045</td>\n",
              "      <td>1.859380e-02</td>\n",
              "      <td>-1.143891e-01</td>\n",
              "      <td>1.061479e+00</td>\n",
              "    </tr>\n",
              "  </tbody>\n",
              "</table>\n",
              "</div>"
            ],
            "text/plain": [
              "                                  rank  ...       neutral\n",
              "rank                          2.813403  ...  1.764149e-02\n",
              "country_full                  0.237637  ...  2.565422e-03\n",
              "country_abrv                 -0.157406  ... -2.615569e-02\n",
              "total_points              -2420.095744  ...  3.305941e+04\n",
              "previous_points               2.498011  ...  4.140649e-02\n",
              "rank_change                   0.181134  ... -4.966565e-03\n",
              "cur_year_avg             192025.872289  ... -3.397735e+06\n",
              "cur_year_avg_weighted   -190766.712261  ...  3.380535e+06\n",
              "last_year_avg               116.699193  ...  3.023019e+02\n",
              "last_year_avg_weighted      507.409370  ... -8.828350e+03\n",
              "two_year_ago_avg           -198.045854  ... -1.683268e+02\n",
              "two_year_ago_weighted       599.929961  ... -5.321425e+03\n",
              "three_year_ago_avg           25.657576  ... -3.435009e+02\n",
              "three_year_ago_weighted     230.692240  ... -3.158113e+03\n",
              "confederation                 0.351224  ... -8.983455e-03\n",
              "rank_date                     2.942591  ... -2.269046e-01\n",
              "date                         -4.503289  ...  1.463815e-02\n",
              "away_team                     0.023244  ... -1.006932e-01\n",
              "home_score                    0.008050  ...  2.872730e-02\n",
              "away_score                   -0.012115  ... -5.504541e-02\n",
              "city                          0.018858  ...  1.859379e-02\n",
              "country                       0.028616  ... -1.143892e-01\n",
              "neutral                       0.017641  ...  1.061479e+00\n",
              "\n",
              "[23 rows x 23 columns]"
            ]
          },
          "metadata": {
            "tags": []
          },
          "execution_count": 203
        }
      ]
    },
    {
      "cell_type": "markdown",
      "metadata": {
        "id": "Pz_PLSMh0kac",
        "colab_type": "text"
      },
      "source": [
        "country_abrv has a VIF of 7, this poses a potential problem. The column has to be removed."
      ]
    },
    {
      "cell_type": "code",
      "metadata": {
        "id": "VpY4iFdD7jSI",
        "colab_type": "code",
        "colab": {
          "base_uri": "https://localhost:8080/",
          "height": 751
        },
        "outputId": "3ded5089-91fb-43b2-ba33-d8e65a43172c"
      },
      "source": [
        "revised = independent.drop(columns=['country_abrv'])\n",
        "correlation = revised.corr()\n",
        "\n",
        "pd.DataFrame(np.linalg.inv(correlation.values), index = correlation.index, columns=correlation.columns)"
      ],
      "execution_count": 204,
      "outputs": [
        {
          "output_type": "execute_result",
          "data": {
            "text/html": [
              "<div>\n",
              "<style scoped>\n",
              "    .dataframe tbody tr th:only-of-type {\n",
              "        vertical-align: middle;\n",
              "    }\n",
              "\n",
              "    .dataframe tbody tr th {\n",
              "        vertical-align: top;\n",
              "    }\n",
              "\n",
              "    .dataframe thead th {\n",
              "        text-align: right;\n",
              "    }\n",
              "</style>\n",
              "<table border=\"1\" class=\"dataframe\">\n",
              "  <thead>\n",
              "    <tr style=\"text-align: right;\">\n",
              "      <th></th>\n",
              "      <th>rank</th>\n",
              "      <th>country_full</th>\n",
              "      <th>total_points</th>\n",
              "      <th>previous_points</th>\n",
              "      <th>rank_change</th>\n",
              "      <th>cur_year_avg</th>\n",
              "      <th>cur_year_avg_weighted</th>\n",
              "      <th>last_year_avg</th>\n",
              "      <th>last_year_avg_weighted</th>\n",
              "      <th>two_year_ago_avg</th>\n",
              "      <th>two_year_ago_weighted</th>\n",
              "      <th>three_year_ago_avg</th>\n",
              "      <th>three_year_ago_weighted</th>\n",
              "      <th>confederation</th>\n",
              "      <th>rank_date</th>\n",
              "      <th>date</th>\n",
              "      <th>away_team</th>\n",
              "      <th>home_score</th>\n",
              "      <th>away_score</th>\n",
              "      <th>city</th>\n",
              "      <th>country</th>\n",
              "      <th>neutral</th>\n",
              "    </tr>\n",
              "  </thead>\n",
              "  <tbody>\n",
              "    <tr>\n",
              "      <th>rank</th>\n",
              "      <td>2.809941</td>\n",
              "      <td>0.091736</td>\n",
              "      <td>-3.181648e+02</td>\n",
              "      <td>2.501149</td>\n",
              "      <td>0.181050</td>\n",
              "      <td>-2.466199e+04</td>\n",
              "      <td>2.477851e+04</td>\n",
              "      <td>9.311862e+01</td>\n",
              "      <td>-1.102628e+01</td>\n",
              "      <td>-1.968647e+02</td>\n",
              "      <td>2.496582e+02</td>\n",
              "      <td>2.353676e+01</td>\n",
              "      <td>1.019500e+01</td>\n",
              "      <td>0.353354</td>\n",
              "      <td>2.944916e+00</td>\n",
              "      <td>-4.507260</td>\n",
              "      <td>0.023313</td>\n",
              "      <td>0.008354</td>\n",
              "      <td>-0.011445</td>\n",
              "      <td>0.018682</td>\n",
              "      <td>0.028689</td>\n",
              "      <td>0.017066</td>\n",
              "    </tr>\n",
              "    <tr>\n",
              "      <th>country_full</th>\n",
              "      <td>0.091736</td>\n",
              "      <td>1.007912</td>\n",
              "      <td>2.971490e+02</td>\n",
              "      <td>0.041228</td>\n",
              "      <td>0.003715</td>\n",
              "      <td>-1.598241e+05</td>\n",
              "      <td>1.596630e+05</td>\n",
              "      <td>-8.699994e+01</td>\n",
              "      <td>1.036924e+01</td>\n",
              "      <td>-2.849455e+02</td>\n",
              "      <td>2.356065e+02</td>\n",
              "      <td>-2.438167e+02</td>\n",
              "      <td>2.123444e+02</td>\n",
              "      <td>0.070808</td>\n",
              "      <td>6.213831e-02</td>\n",
              "      <td>-0.060806</td>\n",
              "      <td>0.005783</td>\n",
              "      <td>0.002453</td>\n",
              "      <td>0.004226</td>\n",
              "      <td>0.012866</td>\n",
              "      <td>-0.005530</td>\n",
              "      <td>-0.021679</td>\n",
              "    </tr>\n",
              "    <tr>\n",
              "      <th>total_points</th>\n",
              "      <td>-283.920920</td>\n",
              "      <td>2978.776975</td>\n",
              "      <td>-4.258901e+09</td>\n",
              "      <td>2820.972424</td>\n",
              "      <td>-734.338255</td>\n",
              "      <td>1.133839e+17</td>\n",
              "      <td>-1.133839e+17</td>\n",
              "      <td>1.246937e+09</td>\n",
              "      <td>-1.484677e+08</td>\n",
              "      <td>-1.427355e+09</td>\n",
              "      <td>2.134609e+09</td>\n",
              "      <td>-6.565006e+09</td>\n",
              "      <td>7.016023e+09</td>\n",
              "      <td>-1754.261504</td>\n",
              "      <td>-1.084170e+04</td>\n",
              "      <td>6347.353015</td>\n",
              "      <td>21.651234</td>\n",
              "      <td>-948.658444</td>\n",
              "      <td>-997.644615</td>\n",
              "      <td>4746.977648</td>\n",
              "      <td>2257.738054</td>\n",
              "      <td>4200.327211</td>\n",
              "    </tr>\n",
              "    <tr>\n",
              "      <th>previous_points</th>\n",
              "      <td>2.501149</td>\n",
              "      <td>0.041228</td>\n",
              "      <td>-1.364671e+03</td>\n",
              "      <td>3.827896</td>\n",
              "      <td>0.192219</td>\n",
              "      <td>-9.157683e+04</td>\n",
              "      <td>9.228695e+04</td>\n",
              "      <td>3.993822e+02</td>\n",
              "      <td>-4.756309e+01</td>\n",
              "      <td>-6.449292e+02</td>\n",
              "      <td>8.715479e+02</td>\n",
              "      <td>-2.304776e+02</td>\n",
              "      <td>3.750931e+02</td>\n",
              "      <td>-0.096712</td>\n",
              "      <td>3.782251e+00</td>\n",
              "      <td>-6.019617</td>\n",
              "      <td>0.030827</td>\n",
              "      <td>0.001270</td>\n",
              "      <td>-0.009930</td>\n",
              "      <td>0.008689</td>\n",
              "      <td>0.027356</td>\n",
              "      <td>0.041928</td>\n",
              "    </tr>\n",
              "    <tr>\n",
              "      <th>rank_change</th>\n",
              "      <td>0.181050</td>\n",
              "      <td>0.003715</td>\n",
              "      <td>1.209380e+03</td>\n",
              "      <td>0.192219</td>\n",
              "      <td>1.014087</td>\n",
              "      <td>-2.009478e+04</td>\n",
              "      <td>1.946682e+04</td>\n",
              "      <td>-3.540342e+02</td>\n",
              "      <td>4.217233e+01</td>\n",
              "      <td>3.200661e+02</td>\n",
              "      <td>-5.209037e+02</td>\n",
              "      <td>6.014902e+01</td>\n",
              "      <td>-1.882188e+02</td>\n",
              "      <td>-0.004650</td>\n",
              "      <td>2.094155e-01</td>\n",
              "      <td>-0.325450</td>\n",
              "      <td>-0.000975</td>\n",
              "      <td>0.013803</td>\n",
              "      <td>-0.004463</td>\n",
              "      <td>0.004428</td>\n",
              "      <td>0.002590</td>\n",
              "      <td>-0.004980</td>\n",
              "    </tr>\n",
              "    <tr>\n",
              "      <th>cur_year_avg</th>\n",
              "      <td>15683.493600</td>\n",
              "      <td>288602.495817</td>\n",
              "      <td>-6.152914e+16</td>\n",
              "      <td>365086.304097</td>\n",
              "      <td>-135736.842365</td>\n",
              "      <td>8.620116e+18</td>\n",
              "      <td>-8.588103e+18</td>\n",
              "      <td>2.323685e+11</td>\n",
              "      <td>1.586817e+16</td>\n",
              "      <td>-2.815829e+11</td>\n",
              "      <td>1.021766e+16</td>\n",
              "      <td>-5.644206e+11</td>\n",
              "      <td>6.517665e+15</td>\n",
              "      <td>-103790.050828</td>\n",
              "      <td>-1.380108e+06</td>\n",
              "      <td>853661.479444</td>\n",
              "      <td>38956.754049</td>\n",
              "      <td>-28398.000688</td>\n",
              "      <td>-108804.638866</td>\n",
              "      <td>461076.518930</td>\n",
              "      <td>164379.285328</td>\n",
              "      <td>390514.600177</td>\n",
              "    </tr>\n",
              "    <tr>\n",
              "      <th>cur_year_avg_weighted</th>\n",
              "      <td>-15535.754883</td>\n",
              "      <td>-290152.313965</td>\n",
              "      <td>6.152914e+16</td>\n",
              "      <td>-366554.024414</td>\n",
              "      <td>136118.865234</td>\n",
              "      <td>-8.679108e+18</td>\n",
              "      <td>8.647095e+18</td>\n",
              "      <td>-2.330172e+11</td>\n",
              "      <td>-1.586817e+16</td>\n",
              "      <td>2.823255e+11</td>\n",
              "      <td>-1.021766e+16</td>\n",
              "      <td>5.678363e+11</td>\n",
              "      <td>-6.517669e+15</td>\n",
              "      <td>104702.781738</td>\n",
              "      <td>1.385748e+06</td>\n",
              "      <td>-856963.544922</td>\n",
              "      <td>-38968.016602</td>\n",
              "      <td>28891.554443</td>\n",
              "      <td>109323.685547</td>\n",
              "      <td>-463546.297852</td>\n",
              "      <td>-165553.958496</td>\n",
              "      <td>-392699.986328</td>\n",
              "    </tr>\n",
              "    <tr>\n",
              "      <th>last_year_avg</th>\n",
              "      <td>93.120438</td>\n",
              "      <td>-86.975593</td>\n",
              "      <td>-6.072270e+09</td>\n",
              "      <td>399.410082</td>\n",
              "      <td>-354.043145</td>\n",
              "      <td>5.944807e+11</td>\n",
              "      <td>-5.913214e+11</td>\n",
              "      <td>1.777840e+09</td>\n",
              "      <td>-2.117999e+08</td>\n",
              "      <td>-1.673040e+08</td>\n",
              "      <td>1.175659e+09</td>\n",
              "      <td>-1.021086e+08</td>\n",
              "      <td>7.452784e+08</td>\n",
              "      <td>-112.670120</td>\n",
              "      <td>-1.073194e+03</td>\n",
              "      <td>636.009573</td>\n",
              "      <td>173.057724</td>\n",
              "      <td>142.079623</td>\n",
              "      <td>-138.338514</td>\n",
              "      <td>307.131476</td>\n",
              "      <td>-462.484590</td>\n",
              "      <td>298.143202</td>\n",
              "    </tr>\n",
              "    <tr>\n",
              "      <th>last_year_avg_weighted</th>\n",
              "      <td>-19.932019</td>\n",
              "      <td>-681.250967</td>\n",
              "      <td>7.170651e+09</td>\n",
              "      <td>-1127.071932</td>\n",
              "      <td>543.466939</td>\n",
              "      <td>-2.924236e+16</td>\n",
              "      <td>2.924236e+16</td>\n",
              "      <td>-2.099428e+09</td>\n",
              "      <td>2.500901e+08</td>\n",
              "      <td>5.354291e+08</td>\n",
              "      <td>-1.726187e+09</td>\n",
              "      <td>1.795220e+09</td>\n",
              "      <td>-2.554708e+09</td>\n",
              "      <td>565.101707</td>\n",
              "      <td>3.869374e+03</td>\n",
              "      <td>-2272.992108</td>\n",
              "      <td>-178.656993</td>\n",
              "      <td>102.571451</td>\n",
              "      <td>395.633448</td>\n",
              "      <td>-1531.400100</td>\n",
              "      <td>-119.794756</td>\n",
              "      <td>-1381.416332</td>\n",
              "    </tr>\n",
              "    <tr>\n",
              "      <th>two_year_ago_avg</th>\n",
              "      <td>-196.865016</td>\n",
              "      <td>-284.942575</td>\n",
              "      <td>5.713770e+08</td>\n",
              "      <td>-644.921754</td>\n",
              "      <td>320.061554</td>\n",
              "      <td>2.436907e+11</td>\n",
              "      <td>-2.439880e+11</td>\n",
              "      <td>-1.672777e+08</td>\n",
              "      <td>1.992861e+07</td>\n",
              "      <td>8.965464e+08</td>\n",
              "      <td>-9.914471e+08</td>\n",
              "      <td>1.168277e+08</td>\n",
              "      <td>-1.773417e+08</td>\n",
              "      <td>-268.875311</td>\n",
              "      <td>2.468062e+03</td>\n",
              "      <td>-1697.155883</td>\n",
              "      <td>-158.175945</td>\n",
              "      <td>-238.461769</td>\n",
              "      <td>110.621542</td>\n",
              "      <td>-313.976540</td>\n",
              "      <td>-32.114267</td>\n",
              "      <td>-168.187819</td>\n",
              "    </tr>\n",
              "    <tr>\n",
              "      <th>two_year_ago_weighted</th>\n",
              "      <td>244.020897</td>\n",
              "      <td>-209.702577</td>\n",
              "      <td>1.358158e+08</td>\n",
              "      <td>176.486932</td>\n",
              "      <td>-198.149620</td>\n",
              "      <td>-1.882850e+16</td>\n",
              "      <td>1.882850e+16</td>\n",
              "      <td>-3.977701e+07</td>\n",
              "      <td>4.724535e+06</td>\n",
              "      <td>-6.595425e+08</td>\n",
              "      <td>6.370032e+08</td>\n",
              "      <td>9.733387e+08</td>\n",
              "      <td>-9.877165e+08</td>\n",
              "      <td>560.177590</td>\n",
              "      <td>-6.678861e+02</td>\n",
              "      <td>643.278901</td>\n",
              "      <td>154.589324</td>\n",
              "      <td>396.020357</td>\n",
              "      <td>55.065329</td>\n",
              "      <td>-474.269540</td>\n",
              "      <td>-342.798100</td>\n",
              "      <td>-529.294039</td>\n",
              "    </tr>\n",
              "    <tr>\n",
              "      <th>three_year_ago_avg</th>\n",
              "      <td>23.535268</td>\n",
              "      <td>-243.824593</td>\n",
              "      <td>3.486104e+08</td>\n",
              "      <td>-230.480308</td>\n",
              "      <td>60.146493</td>\n",
              "      <td>7.781478e+10</td>\n",
              "      <td>-7.799615e+10</td>\n",
              "      <td>-1.020675e+08</td>\n",
              "      <td>1.215276e+07</td>\n",
              "      <td>1.168412e+08</td>\n",
              "      <td>-1.747332e+08</td>\n",
              "      <td>5.373863e+08</td>\n",
              "      <td>-5.743042e+08</td>\n",
              "      <td>143.580865</td>\n",
              "      <td>8.892696e+02</td>\n",
              "      <td>-521.713748</td>\n",
              "      <td>-1.759373</td>\n",
              "      <td>77.603612</td>\n",
              "      <td>81.653046</td>\n",
              "      <td>-388.592673</td>\n",
              "      <td>-184.796652</td>\n",
              "      <td>-343.868480</td>\n",
              "    </tr>\n",
              "    <tr>\n",
              "      <th>three_year_ago_weighted</th>\n",
              "      <td>6.552201</td>\n",
              "      <td>-71.684435</td>\n",
              "      <td>1.024829e+08</td>\n",
              "      <td>-68.244556</td>\n",
              "      <td>17.654829</td>\n",
              "      <td>-1.200958e+16</td>\n",
              "      <td>1.200958e+16</td>\n",
              "      <td>-3.000533e+07</td>\n",
              "      <td>3.572611e+06</td>\n",
              "      <td>3.434837e+07</td>\n",
              "      <td>-5.136719e+07</td>\n",
              "      <td>1.579787e+08</td>\n",
              "      <td>-1.688316e+08</td>\n",
              "      <td>42.213516</td>\n",
              "      <td>2.586948e+02</td>\n",
              "      <td>-150.311050</td>\n",
              "      <td>-0.532991</td>\n",
              "      <td>22.874214</td>\n",
              "      <td>24.029699</td>\n",
              "      <td>-114.209889</td>\n",
              "      <td>-54.346714</td>\n",
              "      <td>-101.022647</td>\n",
              "    </tr>\n",
              "    <tr>\n",
              "      <th>confederation</th>\n",
              "      <td>0.353354</td>\n",
              "      <td>0.070808</td>\n",
              "      <td>3.848432e+02</td>\n",
              "      <td>-0.096712</td>\n",
              "      <td>-0.004650</td>\n",
              "      <td>-1.078524e+05</td>\n",
              "      <td>1.076522e+05</td>\n",
              "      <td>-1.126660e+02</td>\n",
              "      <td>1.342112e+01</td>\n",
              "      <td>-2.688688e+02</td>\n",
              "      <td>2.049565e+02</td>\n",
              "      <td>1.435889e+02</td>\n",
              "      <td>-1.843662e+02</td>\n",
              "      <td>1.154066</td>\n",
              "      <td>-1.809201e-02</td>\n",
              "      <td>0.054604</td>\n",
              "      <td>-0.005898</td>\n",
              "      <td>0.009938</td>\n",
              "      <td>-0.002187</td>\n",
              "      <td>0.016657</td>\n",
              "      <td>0.001487</td>\n",
              "      <td>-0.008629</td>\n",
              "    </tr>\n",
              "    <tr>\n",
              "      <th>rank_date</th>\n",
              "      <td>2.944916</td>\n",
              "      <td>0.062138</td>\n",
              "      <td>3.664741e+03</td>\n",
              "      <td>3.782251</td>\n",
              "      <td>0.209416</td>\n",
              "      <td>5.305291e+05</td>\n",
              "      <td>-5.324363e+05</td>\n",
              "      <td>-1.073084e+03</td>\n",
              "      <td>1.280430e+02</td>\n",
              "      <td>2.468084e+03</td>\n",
              "      <td>-3.076813e+03</td>\n",
              "      <td>8.892471e+02</td>\n",
              "      <td>-1.277789e+03</td>\n",
              "      <td>-0.018092</td>\n",
              "      <td>3.182740e+01</td>\n",
              "      <td>-33.639266</td>\n",
              "      <td>0.164950</td>\n",
              "      <td>-0.594339</td>\n",
              "      <td>-0.544487</td>\n",
              "      <td>-0.036552</td>\n",
              "      <td>0.102138</td>\n",
              "      <td>-0.226518</td>\n",
              "    </tr>\n",
              "    <tr>\n",
              "      <th>date</th>\n",
              "      <td>-4.507260</td>\n",
              "      <td>-0.060806</td>\n",
              "      <td>-2.171232e+03</td>\n",
              "      <td>-6.019617</td>\n",
              "      <td>-0.325450</td>\n",
              "      <td>-3.921072e+05</td>\n",
              "      <td>3.932372e+05</td>\n",
              "      <td>6.359395e+02</td>\n",
              "      <td>-7.597366e+01</td>\n",
              "      <td>-1.697167e+03</td>\n",
              "      <td>2.057866e+03</td>\n",
              "      <td>-5.216956e+02</td>\n",
              "      <td>7.519503e+02</td>\n",
              "      <td>0.054604</td>\n",
              "      <td>-3.363927e+01</td>\n",
              "      <td>37.904433</td>\n",
              "      <td>-0.163431</td>\n",
              "      <td>0.783506</td>\n",
              "      <td>0.783287</td>\n",
              "      <td>0.011835</td>\n",
              "      <td>-0.160564</td>\n",
              "      <td>0.013978</td>\n",
              "    </tr>\n",
              "    <tr>\n",
              "      <th>away_team</th>\n",
              "      <td>0.023313</td>\n",
              "      <td>0.005783</td>\n",
              "      <td>-5.911296e+02</td>\n",
              "      <td>0.030827</td>\n",
              "      <td>-0.000975</td>\n",
              "      <td>1.333529e+04</td>\n",
              "      <td>-1.302774e+04</td>\n",
              "      <td>1.730553e+02</td>\n",
              "      <td>-2.061807e+01</td>\n",
              "      <td>-1.581775e+02</td>\n",
              "      <td>2.563478e+02</td>\n",
              "      <td>-1.760589e+00</td>\n",
              "      <td>6.437331e+01</td>\n",
              "      <td>-0.005898</td>\n",
              "      <td>1.649495e-01</td>\n",
              "      <td>-0.163431</td>\n",
              "      <td>1.011386</td>\n",
              "      <td>-0.012474</td>\n",
              "      <td>0.006704</td>\n",
              "      <td>0.015300</td>\n",
              "      <td>0.035301</td>\n",
              "      <td>-0.100682</td>\n",
              "    </tr>\n",
              "    <tr>\n",
              "      <th>home_score</th>\n",
              "      <td>0.008354</td>\n",
              "      <td>0.002453</td>\n",
              "      <td>-4.852905e+02</td>\n",
              "      <td>0.001270</td>\n",
              "      <td>0.013803</td>\n",
              "      <td>-1.274707e+04</td>\n",
              "      <td>1.299954e+04</td>\n",
              "      <td>1.420812e+02</td>\n",
              "      <td>-1.693295e+01</td>\n",
              "      <td>-2.384606e+02</td>\n",
              "      <td>3.190734e+02</td>\n",
              "      <td>7.760472e+01</td>\n",
              "      <td>-2.620633e+01</td>\n",
              "      <td>0.009938</td>\n",
              "      <td>-5.943389e-01</td>\n",
              "      <td>0.783506</td>\n",
              "      <td>-0.012474</td>\n",
              "      <td>1.054763</td>\n",
              "      <td>0.103897</td>\n",
              "      <td>-0.002057</td>\n",
              "      <td>0.005174</td>\n",
              "      <td>0.028778</td>\n",
              "    </tr>\n",
              "    <tr>\n",
              "      <th>away_score</th>\n",
              "      <td>-0.011445</td>\n",
              "      <td>0.004226</td>\n",
              "      <td>4.724949e+02</td>\n",
              "      <td>-0.009930</td>\n",
              "      <td>-0.004463</td>\n",
              "      <td>-4.076340e+03</td>\n",
              "      <td>3.830494e+03</td>\n",
              "      <td>-1.383311e+02</td>\n",
              "      <td>1.647613e+01</td>\n",
              "      <td>1.106248e+02</td>\n",
              "      <td>-1.890657e+02</td>\n",
              "      <td>8.165429e+01</td>\n",
              "      <td>-1.316872e+02</td>\n",
              "      <td>-0.002187</td>\n",
              "      <td>-5.444869e-01</td>\n",
              "      <td>0.783287</td>\n",
              "      <td>0.006704</td>\n",
              "      <td>0.103897</td>\n",
              "      <td>1.065461</td>\n",
              "      <td>-0.005875</td>\n",
              "      <td>0.000345</td>\n",
              "      <td>-0.054934</td>\n",
              "    </tr>\n",
              "    <tr>\n",
              "      <th>city</th>\n",
              "      <td>0.018682</td>\n",
              "      <td>0.012866</td>\n",
              "      <td>-1.048987e+03</td>\n",
              "      <td>0.008689</td>\n",
              "      <td>0.004428</td>\n",
              "      <td>-4.322637e+04</td>\n",
              "      <td>4.377215e+04</td>\n",
              "      <td>3.070984e+02</td>\n",
              "      <td>-3.658412e+01</td>\n",
              "      <td>-3.139883e+02</td>\n",
              "      <td>4.882061e+02</td>\n",
              "      <td>-3.885940e+02</td>\n",
              "      <td>4.996938e+02</td>\n",
              "      <td>0.016657</td>\n",
              "      <td>-3.655205e-02</td>\n",
              "      <td>0.011835</td>\n",
              "      <td>0.015300</td>\n",
              "      <td>-0.002057</td>\n",
              "      <td>-0.005875</td>\n",
              "      <td>1.001884</td>\n",
              "      <td>0.003968</td>\n",
              "      <td>0.018565</td>\n",
              "    </tr>\n",
              "    <tr>\n",
              "      <th>country</th>\n",
              "      <td>0.028689</td>\n",
              "      <td>-0.005530</td>\n",
              "      <td>1.579650e+03</td>\n",
              "      <td>0.027356</td>\n",
              "      <td>0.002590</td>\n",
              "      <td>-2.097768e+05</td>\n",
              "      <td>2.089549e+05</td>\n",
              "      <td>-4.625016e+02</td>\n",
              "      <td>5.510173e+01</td>\n",
              "      <td>-3.211200e+01</td>\n",
              "      <td>-2.301986e+02</td>\n",
              "      <td>-1.847844e+02</td>\n",
              "      <td>1.746341e+01</td>\n",
              "      <td>0.001487</td>\n",
              "      <td>1.021381e-01</td>\n",
              "      <td>-0.160564</td>\n",
              "      <td>0.035301</td>\n",
              "      <td>0.005174</td>\n",
              "      <td>0.000345</td>\n",
              "      <td>0.003968</td>\n",
              "      <td>1.018043</td>\n",
              "      <td>-0.114377</td>\n",
              "    </tr>\n",
              "    <tr>\n",
              "      <th>neutral</th>\n",
              "      <td>0.017066</td>\n",
              "      <td>-0.021679</td>\n",
              "      <td>-1.018269e+03</td>\n",
              "      <td>0.041928</td>\n",
              "      <td>-0.004980</td>\n",
              "      <td>6.965261e+03</td>\n",
              "      <td>-6.435486e+03</td>\n",
              "      <td>2.981164e+02</td>\n",
              "      <td>-3.551043e+01</td>\n",
              "      <td>-1.681992e+02</td>\n",
              "      <td>3.373048e+02</td>\n",
              "      <td>-3.438725e+02</td>\n",
              "      <td>4.517294e+02</td>\n",
              "      <td>-0.008629</td>\n",
              "      <td>-2.265183e-01</td>\n",
              "      <td>0.013978</td>\n",
              "      <td>-0.100682</td>\n",
              "      <td>0.028778</td>\n",
              "      <td>-0.054934</td>\n",
              "      <td>0.018565</td>\n",
              "      <td>-0.114377</td>\n",
              "      <td>1.061384</td>\n",
              "    </tr>\n",
              "  </tbody>\n",
              "</table>\n",
              "</div>"
            ],
            "text/plain": [
              "                                 rank  ...        neutral\n",
              "rank                         2.809941  ...       0.017066\n",
              "country_full                 0.091736  ...      -0.021679\n",
              "total_points              -283.920920  ...    4200.327211\n",
              "previous_points              2.501149  ...       0.041928\n",
              "rank_change                  0.181050  ...      -0.004980\n",
              "cur_year_avg             15683.493600  ...  390514.600177\n",
              "cur_year_avg_weighted   -15535.754883  ... -392699.986328\n",
              "last_year_avg               93.120438  ...     298.143202\n",
              "last_year_avg_weighted     -19.932019  ...   -1381.416332\n",
              "two_year_ago_avg          -196.865016  ...    -168.187819\n",
              "two_year_ago_weighted      244.020897  ...    -529.294039\n",
              "three_year_ago_avg          23.535268  ...    -343.868480\n",
              "three_year_ago_weighted      6.552201  ...    -101.022647\n",
              "confederation                0.353354  ...      -0.008629\n",
              "rank_date                    2.944916  ...      -0.226518\n",
              "date                        -4.507260  ...       0.013978\n",
              "away_team                    0.023313  ...      -0.100682\n",
              "home_score                   0.008354  ...       0.028778\n",
              "away_score                  -0.011445  ...      -0.054934\n",
              "city                         0.018682  ...       0.018565\n",
              "country                      0.028689  ...      -0.114377\n",
              "neutral                      0.017066  ...       1.061384\n",
              "\n",
              "[22 rows x 22 columns]"
            ]
          },
          "metadata": {
            "tags": []
          },
          "execution_count": 204
        }
      ]
    },
    {
      "cell_type": "markdown",
      "metadata": {
        "id": "x1EYrlcERNYO",
        "colab_type": "text"
      },
      "source": [
        "#polynomial regression\n"
      ]
    },
    {
      "cell_type": "markdown",
      "metadata": {
        "id": "xWAR1gG1zdfB",
        "colab_type": "text"
      },
      "source": [
        "Model 1: predict how many goals the home team scores"
      ]
    },
    {
      "cell_type": "markdown",
      "metadata": {
        "id": "UKJdPIr89T9W",
        "colab_type": "text"
      },
      "source": [
        "\n",
        "\n",
        "> the predictions are for only friendly games only, we will just drop the tournament column since it does not provide any more relevance.\n",
        "\n"
      ]
    },
    {
      "cell_type": "code",
      "metadata": {
        "id": "enRP-wLk-D0S",
        "colab_type": "code",
        "colab": {}
      },
      "source": [
        "footly = footie.drop(columns=['tournament'])"
      ],
      "execution_count": 0,
      "outputs": []
    },
    {
      "cell_type": "code",
      "metadata": {
        "id": "aTbNvEj9-sVN",
        "colab_type": "code",
        "colab": {
          "base_uri": "https://localhost:8080/",
          "height": 153
        },
        "outputId": "b4ac8256-fdf1-428e-fb4c-31756d635d89"
      },
      "source": [
        "#checking whether the column has been droped\n",
        "footly.columns"
      ],
      "execution_count": 206,
      "outputs": [
        {
          "output_type": "execute_result",
          "data": {
            "text/plain": [
              "Index(['rank', 'country_full', 'country_abrv', 'total_points',\n",
              "       'previous_points', 'rank_change', 'cur_year_avg',\n",
              "       'cur_year_avg_weighted', 'last_year_avg', 'last_year_avg_weighted',\n",
              "       'two_year_ago_avg', 'two_year_ago_weighted', 'three_year_ago_avg',\n",
              "       'three_year_ago_weighted', 'confederation', 'rank_date', 'date',\n",
              "       'home_team', 'away_team', 'home_score', 'away_score', 'city', 'country',\n",
              "       'neutral'],\n",
              "      dtype='object')"
            ]
          },
          "metadata": {
            "tags": []
          },
          "execution_count": 206
        }
      ]
    },
    {
      "cell_type": "markdown",
      "metadata": {
        "id": "Bzlu9dQq-0zS",
        "colab_type": "text"
      },
      "source": [
        "Tournament is missing. Deleting was a success"
      ]
    },
    {
      "cell_type": "code",
      "metadata": {
        "id": "hq6r1fSRjkQQ",
        "colab_type": "code",
        "colab": {
          "base_uri": "https://localhost:8080/",
          "height": 442
        },
        "outputId": "6efac132-5d74-4cf9-ae31-bb48830acb6f"
      },
      "source": [
        "footly.dtypes"
      ],
      "execution_count": 207,
      "outputs": [
        {
          "output_type": "execute_result",
          "data": {
            "text/plain": [
              "rank                         int64\n",
              "country_full                 int64\n",
              "country_abrv                 int64\n",
              "total_points               float64\n",
              "previous_points              int64\n",
              "rank_change                  int64\n",
              "cur_year_avg               float64\n",
              "cur_year_avg_weighted      float64\n",
              "last_year_avg              float64\n",
              "last_year_avg_weighted     float64\n",
              "two_year_ago_avg           float64\n",
              "two_year_ago_weighted      float64\n",
              "three_year_ago_avg         float64\n",
              "three_year_ago_weighted    float64\n",
              "confederation                int64\n",
              "rank_date                    int64\n",
              "date                         int64\n",
              "home_team                    int64\n",
              "away_team                    int64\n",
              "home_score                 float64\n",
              "away_score                 float64\n",
              "city                         int64\n",
              "country                      int64\n",
              "neutral                      int64\n",
              "dtype: object"
            ]
          },
          "metadata": {
            "tags": []
          },
          "execution_count": 207
        }
      ]
    },
    {
      "cell_type": "code",
      "metadata": {
        "id": "klRlQPQAzOgV",
        "colab_type": "code",
        "colab": {}
      },
      "source": [
        "# preparing data for polynomial regression\n",
        "x = footly['home_score'].values.reshape(-1,1)\n",
        "y = footly.home_team.values"
      ],
      "execution_count": 0,
      "outputs": []
    },
    {
      "cell_type": "code",
      "metadata": {
        "id": "Jh0LVUP-_L_u",
        "colab_type": "code",
        "colab": {
          "base_uri": "https://localhost:8080/",
          "height": 295
        },
        "outputId": "add61602-ccc8-4c3b-db5d-0278a9ffe5ae"
      },
      "source": [
        "# making a scatter plot between home team and home scores\n",
        "plt.scatter(x,y, color='blue')\n",
        "plt.xlabel('Home team')\n",
        "plt.ylabel('Home score')\n",
        "plt.title('Home team vs Home score')\n",
        "plt.show()"
      ],
      "execution_count": 252,
      "outputs": [
        {
          "output_type": "display_data",
          "data": {
            "image/png": "[encoded data removed]",
            "text/plain": [
              "<Figure size 432x288 with 1 Axes>"
            ]
          },
          "metadata": {
            "tags": []
          }
        }
      ]
    },
    {
      "cell_type": "code",
      "metadata": {
        "id": "pYjPeeOC_VvP",
        "colab_type": "code",
        "colab": {
          "base_uri": "https://localhost:8080/",
          "height": 34
        },
        "outputId": "43a7f944-6632-4f02-c56b-8f3a78f32251"
      },
      "source": [
        "# split the dataset into train and test sets\n",
        "from sklearn.model_selection import train_test_split\n",
        "x_train, x_test, y_train,y_test = train_test_split(x,y, test_size=0.2, random_state=0)\n",
        "\n",
        "#train the Linear Regression\n",
        "from sklearn.linear_model import LinearRegression\n",
        "reg_line = LinearRegression()\n",
        "reg_line.fit(x,y)"
      ],
      "execution_count": 232,
      "outputs": [
        {
          "output_type": "execute_result",
          "data": {
            "text/plain": [
              "LinearRegression(copy_X=True, fit_intercept=True, n_jobs=None, normalize=False)"
            ]
          },
          "metadata": {
            "tags": []
          },
          "execution_count": 232
        }
      ]
    },
    {
      "cell_type": "code",
      "metadata": {
        "id": "vUdsvxZ7Bk40",
        "colab_type": "code",
        "colab": {
          "base_uri": "https://localhost:8080/",
          "height": 295
        },
        "outputId": "6027b5cc-e050-4dfa-9e52-a2c27917849f"
      },
      "source": [
        "#visualise the linear regression\n",
        "plt.scatter(x,y, color='blue')\n",
        "plt.plot(x, reg_line.predict(x), color='red')\n",
        "plt.xlabel('Home team')\n",
        "plt.ylabel('Home score')\n",
        "plt.title('Home team vs Home score(regression)')\n",
        "plt.show()"
      ],
      "execution_count": 256,
      "outputs": [
        {
          "output_type": "display_data",
          "data": {
            "image/png": "[encoded data removed]",
            "text/plain": [
              "<Figure size 432x288 with 1 Axes>"
            ]
          },
          "metadata": {
            "tags": []
          }
        }
      ]
    },
    {
      "cell_type": "code",
      "metadata": {
        "id": "2iQ7T5_OC0jo",
        "colab_type": "code",
        "colab": {
          "base_uri": "https://localhost:8080/",
          "height": 295
        },
        "outputId": "d6e24b70-7871-42dc-fc43-edc4636921c4"
      },
      "source": [
        "# fit polynomial regression to the dataset\n",
        "from sklearn.preprocessing import PolynomialFeatures\n",
        "poly_reg = PolynomialFeatures(degree = 2)\n",
        "x_poly = poly_reg.fit_transform(x)\n",
        "\n",
        "pol_reg = LinearRegression()\n",
        "pol_reg.fit(x_poly, y)\n",
        "\n",
        "plt.scatter(x,y, color='blue')\n",
        "plt.plot(x, pol_reg.predict(x_poly), color='red')\n",
        "plt.xlabel('Home team')\n",
        "plt.ylabel('Home score')\n",
        "plt.title('Home team vs Home score(prediction)')\n",
        "plt.show()"
      ],
      "execution_count": 255,
      "outputs": [
        {
          "output_type": "display_data",
          "data": {
            "image/png": "[encoded data removed]",
            "text/plain": [
              "<Figure size 432x288 with 1 Axes>"
            ]
          },
          "metadata": {
            "tags": []
          }
        }
      ]
    },
    {
      "cell_type": "code",
      "metadata": {
        "id": "tajkMdU4E_BG",
        "colab_type": "code",
        "colab": {
          "base_uri": "https://localhost:8080/",
          "height": 51
        },
        "outputId": "d4df4691-47f4-477f-812e-fd85d6effa38"
      },
      "source": [
        "# making predictions\n",
        "lin_pred = reg_line.predict([[3]])\n",
        "print('Linear prediction: %d' %lin_pred)\n",
        "poly_pred = pol_reg.predict(poly_reg.fit_transform([[3]]))\n",
        "print('Polynomial prediction: %d' %poly_pred)\n"
      ],
      "execution_count": 240,
      "outputs": [
        {
          "output_type": "stream",
          "text": [
            "Linear prediction: 126\n",
            "Polynomial prediction: 126\n"
          ],
          "name": "stdout"
        }
      ]
    },
    {
      "cell_type": "markdown",
      "metadata": {
        "id": "mugtmVDbTLmg",
        "colab_type": "text"
      },
      "source": [
        "**Cross validation**"
      ]
    },
    {
      "cell_type": "code",
      "metadata": {
        "id": "LVKVZvnaSPWI",
        "colab_type": "code",
        "colab": {}
      },
      "source": [
        "# we are just going to use just one independent variable\n",
        "x = footie.home_score.values.reshape(-1,1)\n",
        "y = footie.home_team"
      ],
      "execution_count": 0,
      "outputs": []
    },
    {
      "cell_type": "code",
      "metadata": {
        "id": "WosWF1iCTX4f",
        "colab_type": "code",
        "colab": {
          "base_uri": "https://localhost:8080/",
          "height": 34
        },
        "outputId": "00745edf-c726-4190-ab8b-adc9cf77c1cd"
      },
      "source": [
        "# applying folds\n",
        "from sklearn.model_selection import KFold\n",
        "from sklearn import metrics\n",
        "folds = KFold(n_splits=5)\n",
        "folds"
      ],
      "execution_count": 245,
      "outputs": [
        {
          "output_type": "execute_result",
          "data": {
            "text/plain": [
              "KFold(n_splits=5, random_state=None, shuffle=False)"
            ]
          },
          "metadata": {
            "tags": []
          },
          "execution_count": 245
        }
      ]
    },
    {
      "cell_type": "code",
      "metadata": {
        "id": "s07W4cKETwYA",
        "colab_type": "code",
        "colab": {
          "base_uri": "https://localhost:8080/",
          "height": 272
        },
        "outputId": "407051fc-b71f-4816-fa54-e13cb98b19fc"
      },
      "source": [
        "RMSES = [] \n",
        "count = 1 \n",
        "for train_index, test_index in folds.split(x):\n",
        "  print('\\nTraining model ' + str(count))\n",
        "\n",
        "  # train the model\n",
        "\n",
        "  x_train, x_test = x[train_index], x[test_index]\n",
        "  y_train, y_test = y[train_index], y[test_index]\n",
        "\n",
        "  # fit a model\n",
        "  regressor = LinearRegression()  \n",
        "  regressor.fit(x_train, y_train)\n",
        "\n",
        "  # make a prediction\n",
        "  y_pred = regressor.predict(x_test)\n",
        "\n",
        "  # assessing the accuracy of the model\n",
        "  rmse_value =  np.sqrt(metrics.mean_squared_error(y_test, y_pred))\n",
        "\n",
        "  RMSES.append(rmse_value)\n",
        "  \n",
        "  print('Model ' + str(count) + ' Root Mean Squared Error:',rmse_value)\n",
        "  count = count + 1"
      ],
      "execution_count": 246,
      "outputs": [
        {
          "output_type": "stream",
          "text": [
            "\n",
            "Training model 1\n",
            "Model 1 Root Mean Squared Error: 70.44319109914605\n",
            "\n",
            "Training model 2\n",
            "Model 2 Root Mean Squared Error: 68.47891489646871\n",
            "\n",
            "Training model 3\n",
            "Model 3 Root Mean Squared Error: 70.52692363046536\n",
            "\n",
            "Training model 4\n",
            "Model 4 Root Mean Squared Error: 70.41400936673925\n",
            "\n",
            "Training model 5\n",
            "Model 5 Root Mean Squared Error: 70.96338268119847\n"
          ],
          "name": "stdout"
        }
      ]
    },
    {
      "cell_type": "markdown",
      "metadata": {
        "id": "bpLe2OcfuKT2",
        "colab_type": "text"
      },
      "source": [
        "Model 5 had a larger RMSE compared to the rest."
      ]
    },
    {
      "cell_type": "code",
      "metadata": {
        "id": "tnxMFV_9rWl0",
        "colab_type": "code",
        "colab": {
          "base_uri": "https://localhost:8080/",
          "height": 34
        },
        "outputId": "ce3a2176-3a95-4317-eee0-7493cdd5dc5a"
      },
      "source": [
        "# getting an analysis of the RMSE values othe five models\n",
        "np.mean(RMSES)"
      ],
      "execution_count": 247,
      "outputs": [
        {
          "output_type": "execute_result",
          "data": {
            "text/plain": [
              "70.16528433480357"
            ]
          },
          "metadata": {
            "tags": []
          },
          "execution_count": 247
        }
      ]
    },
    {
      "cell_type": "markdown",
      "metadata": {
        "id": "mCtOO1r_wAmB",
        "colab_type": "text"
      },
      "source": [
        "*Residual plots*"
      ]
    },
    {
      "cell_type": "code",
      "metadata": {
        "id": "y58wzd9OruqY",
        "colab_type": "code",
        "colab": {
          "base_uri": "https://localhost:8080/",
          "height": 34
        },
        "outputId": "6de257ff-7f17-44da-f5a1-116354133a05"
      },
      "source": [
        "# preparing data for crating residual plots\n",
        "\n",
        "x = footie.home_score.values.reshape(-1,1)\n",
        "y = footie.home_team\n",
        "\n",
        "x_train, x_test, admit_train, admit_test = train_test_split(x, y, test_size=0.2, random_state=0)\n",
        "\n",
        "regressor = LinearRegression()\n",
        "regressor.fit(x_train, admit_train)\n",
        "\n",
        "# This is our prediction for admission based on our model\n",
        "admit_predict = regressor.predict(x_test)\n",
        "\n",
        "# We now create the residual by substracting the test value from the predicted \n",
        "# value for each row in our dataset\n",
        "\n",
        "residuals = np.subtract(admit_predict, admit_test)\n",
        "\n",
        "# Let's describe our residual:\n",
        "pd.DataFrame(residuals).describe()\n",
        "\n",
        "residuals.mean()"
      ],
      "execution_count": 261,
      "outputs": [
        {
          "output_type": "execute_result",
          "data": {
            "text/plain": [
              "-1.5600824484826328"
            ]
          },
          "metadata": {
            "tags": []
          },
          "execution_count": 261
        }
      ]
    },
    {
      "cell_type": "markdown",
      "metadata": {
        "id": "cKrt7FqLySEV",
        "colab_type": "text"
      },
      "source": [
        "home team team scores at an average of -1.56"
      ]
    },
    {
      "cell_type": "code",
      "metadata": {
        "id": "x1C2oNqJxD5Y",
        "colab_type": "code",
        "colab": {
          "base_uri": "https://localhost:8080/",
          "height": 279
        },
        "outputId": "307f7968-a02c-46a3-b06b-ec33f7d73ca1"
      },
      "source": [
        "plt.scatter(admit_predict, residuals, color='brown')\n",
        "plt.ylabel('residual')\n",
        "plt.xlabel('fitted values')\n",
        "plt.axhline(y= residuals.mean(), color='red', linewidth=1)\n",
        "plt.show()"
      ],
      "execution_count": 263,
      "outputs": [
        {
          "output_type": "display_data",
          "data": {
            "image/png": "[encoded data removed]",
            "text/plain": [
              "<Figure size 432x288 with 1 Axes>"
            ]
          },
          "metadata": {
            "tags": []
          }
        }
      ]
    },
    {
      "cell_type": "markdown",
      "metadata": {
        "id": "XT9AR3dPy5bZ",
        "colab_type": "text"
      },
      "source": [
        "Our data is not badly off. The residuals are centred around the mean."
      ]
    },
    {
      "cell_type": "markdown",
      "metadata": {
        "id": "l_IlztVexTcL",
        "colab_type": "text"
      },
      "source": [
        "**Heteroskedasticity test**"
      ]
    },
    {
      "cell_type": "code",
      "metadata": {
        "id": "FM0P8jZ_xaSV",
        "colab_type": "code",
        "colab": {
          "base_uri": "https://localhost:8080/",
          "height": 68
        },
        "outputId": "73f7c5f0-7afc-4cf4-f0e0-8a00dcb4fa5c"
      },
      "source": [
        "import scipy as sp\n",
        "\n",
        "test_result, p_value = sp.stats.bartlett(admit_predict, residuals)\n",
        "\n",
        "# To interpret the results we must also compute a critical value of the chi squared distribution\n",
        "degree_of_freedom = len(admit_predict)-1\n",
        "probability = 1 - p_value\n",
        "\n",
        "critical_value = sp.stats.chi2.ppf(probability, degree_of_freedom)\n",
        "print(critical_value)\n",
        "print('*'*50)\n",
        "\n",
        "#we conduct a hypothesis\n",
        "#null hypothesis: variance is homogeneous\n",
        "#alternate hypothesis : variance is not homogeneous\n",
        "\n",
        "\n",
        "if (test_result > critical_value):\n",
        "  print('the variances are unequal, and the model should be reassessed')\n",
        "else:\n",
        "  print('the variances are homogeneous!')\n"
      ],
      "execution_count": 266,
      "outputs": [
        {
          "output_type": "stream",
          "text": [
            "inf\n",
            "**************************************************\n",
            "the variances are homogeneous!\n"
          ],
          "name": "stdout"
        }
      ]
    },
    {
      "cell_type": "markdown",
      "metadata": {
        "id": "LBHPZsG-I_AG",
        "colab_type": "text"
      },
      "source": [
        "**polynomial regression for away team**"
      ]
    },
    {
      "cell_type": "code",
      "metadata": {
        "id": "ESHr_qQYIm_0",
        "colab_type": "code",
        "colab": {}
      },
      "source": [
        "# preparing the data\n",
        "x = footie.away_score.values.reshape(-1,1)\n",
        "y = footie.away_team"
      ],
      "execution_count": 0,
      "outputs": []
    },
    {
      "cell_type": "code",
      "metadata": {
        "id": "kHh6G0qZJbdy",
        "colab_type": "code",
        "colab": {}
      },
      "source": [
        "plt.scatter(x,y, color='blue')\n",
        "\n",
        "# split the dataset into train and test sets\n",
        "from sklearn.model_selection import train_test_split\n",
        "x_train, x_test, y_train,y_test = train_test_split(x,y, test_size=0.2, random_state=0)\n",
        "\n",
        "#train the Linear Regression\n",
        "from sklearn.linear_model import LinearRegression\n",
        "reg_line = LinearRegression()\n",
        "reg_line.fit(x,y)\n",
        "\n",
        "plt.scatter(x,y, color='blue')\n",
        "plt.plot(x, reg_line.predict(x), color='red')\n",
        "plt.show()"
      ],
      "execution_count": 0,
      "outputs": []
    },
    {
      "cell_type": "code",
      "metadata": {
        "id": "q1uQdi3fJeSZ",
        "colab_type": "code",
        "colab": {}
      },
      "source": [
        "# fit polynomial regression to the dataset\n",
        "from sklearn.preprocessing import PolynomialFeatures\n",
        "poly_reg = PolynomialFeatures(degree = 2)\n",
        "x_poly = poly_reg.fit_transform(x)\n",
        "\n",
        "pol_reg = LinearRegression()\n",
        "pol_reg.fit(x_poly, y)\n",
        "\n",
        "plt.scatter(x,y, color='blue')\n",
        "plt.plot(x, pol_reg.predict(x_poly), color='red')\n",
        "plt.title('')\n",
        "plt.xlabel('')\n",
        "plt.ylabel('')\n",
        "plt.show()"
      ],
      "execution_count": 0,
      "outputs": []
    },
    {
      "cell_type": "code",
      "metadata": {
        "id": "8b17bSnyJvZB",
        "colab_type": "code",
        "colab": {}
      },
      "source": [
        "# making predictions\n",
        "lin_pred = reg_line.predict([[3]])\n",
        "print('Linear prediction: %d' %lin_pred)\n",
        "poly_pred = pol_reg.predict(poly_reg.fit_transform([[3]]))\n",
        "print('Polynomial prediction: %d' %poly_pred)"
      ],
      "execution_count": 0,
      "outputs": []
    },
    {
      "cell_type": "markdown",
      "metadata": {
        "id": "qz4tRaFdVjGb",
        "colab_type": "text"
      },
      "source": [
        "**Cross validation**"
      ]
    },
    {
      "cell_type": "code",
      "metadata": {
        "id": "RaiSbXVGVUsr",
        "colab_type": "code",
        "colab": {}
      },
      "source": [
        "# we are just going to use just one independent variable\n",
        "x = footie.away_score.values.reshape(-1,1)\n",
        "y = footie.away_team"
      ],
      "execution_count": 0,
      "outputs": []
    },
    {
      "cell_type": "code",
      "metadata": {
        "colab_type": "code",
        "id": "YAO1Q6mbVVBc",
        "colab": {}
      },
      "source": [
        "# applying folds\n",
        "from sklearn.model_selection import KFold\n",
        "folds = KFold(n_splits=5)\n",
        "folds"
      ],
      "execution_count": 0,
      "outputs": []
    },
    {
      "cell_type": "code",
      "metadata": {
        "colab_type": "code",
        "outputId": "4356badd-de2b-4938-d422-2a5c3ce71fda",
        "id": "cKW3s2S7Va0g",
        "colab": {
          "base_uri": "https://localhost:8080/",
          "height": 272
        }
      },
      "source": [
        "RMSES = [] \n",
        "count = 1 \n",
        "for train_index, test_index in folds.split(x):\n",
        "  print('\\nTraining model ' + str(count))\n",
        "\n",
        "  # splitting the data\n",
        "  x_train, x_test = x[train_index], x[test_index]\n",
        "  y_train, y_test = y[train_index], y[test_index]\n",
        "\n",
        "  # training the model\n",
        "  regressor = LinearRegression()  \n",
        "  regressor.fit(x_train, y_train)\n",
        "\n",
        "  # predictions\n",
        "  y_pred = regressor.predict(x_test)\n",
        "\n",
        "  # assessing the accuracy of the model\n",
        "  rmse_value =  np.sqrt(metrics.mean_squared_error(y_test, y_pred))\n",
        "  RMSES.append(rmse_value)\n",
        "  print('Model ' + str(count) + ' Root Mean Squared Error:',rmse_value)\n",
        "  count = count + 1"
      ],
      "execution_count": 248,
      "outputs": [
        {
          "output_type": "stream",
          "text": [
            "\n",
            "Training model 1\n",
            "Model 1 Root Mean Squared Error: 70.44319109914605\n",
            "\n",
            "Training model 2\n",
            "Model 2 Root Mean Squared Error: 68.47891489646871\n",
            "\n",
            "Training model 3\n",
            "Model 3 Root Mean Squared Error: 70.52692363046536\n",
            "\n",
            "Training model 4\n",
            "Model 4 Root Mean Squared Error: 70.41400936673925\n",
            "\n",
            "Training model 5\n",
            "Model 5 Root Mean Squared Error: 70.96338268119847\n"
          ],
          "name": "stdout"
        }
      ]
    },
    {
      "cell_type": "markdown",
      "metadata": {
        "id": "ghEXcFhQ0fW7",
        "colab_type": "text"
      },
      "source": [
        "The fifth model is the highest."
      ]
    },
    {
      "cell_type": "code",
      "metadata": {
        "id": "On2OwQNSrm0h",
        "colab_type": "code",
        "colab": {
          "base_uri": "https://localhost:8080/",
          "height": 34
        },
        "outputId": "00bc19e9-ec23-44f5-aeb9-f963f949a3b9"
      },
      "source": [
        "# getting the average of the RMSE values\n",
        "np.mean(RMSES)"
      ],
      "execution_count": 249,
      "outputs": [
        {
          "output_type": "execute_result",
          "data": {
            "text/plain": [
              "70.16528433480357"
            ]
          },
          "metadata": {
            "tags": []
          },
          "execution_count": 249
        }
      ]
    },
    {
      "cell_type": "markdown",
      "metadata": {
        "id": "0HUMHPqX0qOM",
        "colab_type": "text"
      },
      "source": [
        "**Residual Plot**"
      ]
    },
    {
      "cell_type": "code",
      "metadata": {
        "id": "YmMOf1KAzYpK",
        "colab_type": "code",
        "colab": {
          "base_uri": "https://localhost:8080/",
          "height": 34
        },
        "outputId": "ae5faf6b-2803-47f7-f9b1-325c799e30b8"
      },
      "source": [
        "# preparing the data\n",
        "x = footie.away_score.values.reshape(-1,1)\n",
        "y = footie.away_team\n",
        "\n",
        "x_train, x_test, admit_train, admit_test = train_test_split(x, y, test_size=0.2, random_state=0)\n",
        "\n",
        "\n",
        "regressor = LinearRegression()\n",
        "regressor.fit(x_train, admit_train)\n",
        "\n",
        "# This is our prediction for admission based on our model\n",
        "admit_predict = regressor.predict(x_test)\n",
        "\n",
        "# We now create the residual by substracting the test value from the predicted \n",
        "# value for each row in our dataset\n",
        "\n",
        "residuals = np.subtract(admit_predict, admit_test)\n",
        "\n",
        "# Let's describe our residual:\n",
        "pd.DataFrame(residuals).describe()\n",
        "\n",
        "residuals.mean()"
      ],
      "execution_count": 267,
      "outputs": [
        {
          "output_type": "execute_result",
          "data": {
            "text/plain": [
              "0.5813056230681558"
            ]
          },
          "metadata": {
            "tags": []
          },
          "execution_count": 267
        }
      ]
    },
    {
      "cell_type": "markdown",
      "metadata": {
        "id": "6sY_ETbM0Xtv",
        "colab_type": "text"
      },
      "source": [
        "we can say that the mean is fairly close to 0."
      ]
    },
    {
      "cell_type": "code",
      "metadata": {
        "id": "EgX7XmA0zpHa",
        "colab_type": "code",
        "colab": {
          "base_uri": "https://localhost:8080/",
          "height": 279
        },
        "outputId": "a3f99a88-ef9f-4b00-f73e-fc86e982e305"
      },
      "source": [
        "plt.scatter(admit_predict, residuals, color='brown')\n",
        "plt.ylabel('residual')\n",
        "plt.xlabel('fitted values')\n",
        "plt.axhline(y= residuals.mean(), color='red', linewidth=1)\n",
        "plt.show()"
      ],
      "execution_count": 268,
      "outputs": [
        {
          "output_type": "display_data",
          "data": {
            "image/png": "[encoded data removed]",
            "text/plain": [
              "<Figure size 432x288 with 1 Axes>"
            ]
          },
          "metadata": {
            "tags": []
          }
        }
      ]
    },
    {
      "cell_type": "markdown",
      "metadata": {
        "id": "BePF4WM5z56O",
        "colab_type": "text"
      },
      "source": [
        "The residuals are centered around the mean. Its not that bad. A heteroskedasticity test will prove if we are on the right direction."
      ]
    },
    {
      "cell_type": "markdown",
      "metadata": {
        "id": "xVGU3rUJ0vo-",
        "colab_type": "text"
      },
      "source": [
        "**Heteroskedasticity test**"
      ]
    },
    {
      "cell_type": "code",
      "metadata": {
        "id": "Cxn1Q-G7zvng",
        "colab_type": "code",
        "colab": {
          "base_uri": "https://localhost:8080/",
          "height": 68
        },
        "outputId": "e751b91a-1d1a-41b1-d6b6-5a4473541d8e"
      },
      "source": [
        "import scipy as sp\n",
        "\n",
        "test_result, p_value = sp.stats.bartlett(admit_predict, residuals)\n",
        "\n",
        "# To interpret the results we must also compute a critical value of the chi squared distribution\n",
        "degree_of_freedom = len(admit_predict)-1\n",
        "probability = 1 - p_value\n",
        "\n",
        "critical_value = sp.stats.chi2.ppf(probability, degree_of_freedom)\n",
        "print(critical_value)\n",
        "print('*'*50)\n",
        "\n",
        "#we conduct a hypothesis\n",
        "#null hypothesis: variance is homogeneous\n",
        "#alternate hypothesis : variance is not homogeneous\n",
        "\n",
        "\n",
        "if (test_result > critical_value):\n",
        "  print('the variances are unequal, and the model should be reassessed')\n",
        "else:\n",
        "  print('the variances are homogeneous!')"
      ],
      "execution_count": 269,
      "outputs": [
        {
          "output_type": "stream",
          "text": [
            "inf\n",
            "**************************************************\n",
            "the variances are homogeneous!\n"
          ],
          "name": "stdout"
        }
      ]
    },
    {
      "cell_type": "markdown",
      "metadata": {
        "id": "pCiz92pKJ1Ru",
        "colab_type": "text"
      },
      "source": [
        "#Logistic regression"
      ]
    },
    {
      "cell_type": "code",
      "metadata": {
        "id": "YbZWjVbNLHwf",
        "colab_type": "code",
        "colab": {
          "base_uri": "https://localhost:8080/",
          "height": 204
        },
        "outputId": "de48ebbf-0782-4e90-b57b-6cc518fe802a"
      },
      "source": [
        "results.head()"
      ],
      "execution_count": 108,
      "outputs": [
        {
          "output_type": "execute_result",
          "data": {
            "text/html": [
              "<div>\n",
              "<style scoped>\n",
              "    .dataframe tbody tr th:only-of-type {\n",
              "        vertical-align: middle;\n",
              "    }\n",
              "\n",
              "    .dataframe tbody tr th {\n",
              "        vertical-align: top;\n",
              "    }\n",
              "\n",
              "    .dataframe thead th {\n",
              "        text-align: right;\n",
              "    }\n",
              "</style>\n",
              "<table border=\"1\" class=\"dataframe\">\n",
              "  <thead>\n",
              "    <tr style=\"text-align: right;\">\n",
              "      <th></th>\n",
              "      <th>date</th>\n",
              "      <th>home_team</th>\n",
              "      <th>away_team</th>\n",
              "      <th>home_score</th>\n",
              "      <th>away_score</th>\n",
              "      <th>tournament</th>\n",
              "      <th>city</th>\n",
              "      <th>country</th>\n",
              "      <th>neutral</th>\n",
              "    </tr>\n",
              "  </thead>\n",
              "  <tbody>\n",
              "    <tr>\n",
              "      <th>0</th>\n",
              "      <td>1872-11-30</td>\n",
              "      <td>Scotland</td>\n",
              "      <td>England</td>\n",
              "      <td>0</td>\n",
              "      <td>0</td>\n",
              "      <td>Friendly</td>\n",
              "      <td>Glasgow</td>\n",
              "      <td>Scotland</td>\n",
              "      <td>False</td>\n",
              "    </tr>\n",
              "    <tr>\n",
              "      <th>1</th>\n",
              "      <td>1873-03-08</td>\n",
              "      <td>England</td>\n",
              "      <td>Scotland</td>\n",
              "      <td>4</td>\n",
              "      <td>2</td>\n",
              "      <td>Friendly</td>\n",
              "      <td>London</td>\n",
              "      <td>England</td>\n",
              "      <td>False</td>\n",
              "    </tr>\n",
              "    <tr>\n",
              "      <th>2</th>\n",
              "      <td>1874-03-07</td>\n",
              "      <td>Scotland</td>\n",
              "      <td>England</td>\n",
              "      <td>2</td>\n",
              "      <td>1</td>\n",
              "      <td>Friendly</td>\n",
              "      <td>Glasgow</td>\n",
              "      <td>Scotland</td>\n",
              "      <td>False</td>\n",
              "    </tr>\n",
              "    <tr>\n",
              "      <th>3</th>\n",
              "      <td>1875-03-06</td>\n",
              "      <td>England</td>\n",
              "      <td>Scotland</td>\n",
              "      <td>2</td>\n",
              "      <td>2</td>\n",
              "      <td>Friendly</td>\n",
              "      <td>London</td>\n",
              "      <td>England</td>\n",
              "      <td>False</td>\n",
              "    </tr>\n",
              "    <tr>\n",
              "      <th>4</th>\n",
              "      <td>1876-03-04</td>\n",
              "      <td>Scotland</td>\n",
              "      <td>England</td>\n",
              "      <td>3</td>\n",
              "      <td>0</td>\n",
              "      <td>Friendly</td>\n",
              "      <td>Glasgow</td>\n",
              "      <td>Scotland</td>\n",
              "      <td>False</td>\n",
              "    </tr>\n",
              "  </tbody>\n",
              "</table>\n",
              "</div>"
            ],
            "text/plain": [
              "         date home_team away_team  ...     city   country neutral\n",
              "0  1872-11-30  Scotland   England  ...  Glasgow  Scotland   False\n",
              "1  1873-03-08   England  Scotland  ...   London   England   False\n",
              "2  1874-03-07  Scotland   England  ...  Glasgow  Scotland   False\n",
              "3  1875-03-06   England  Scotland  ...   London   England   False\n",
              "4  1876-03-04  Scotland   England  ...  Glasgow  Scotland   False\n",
              "\n",
              "[5 rows x 9 columns]"
            ]
          },
          "metadata": {
            "tags": []
          },
          "execution_count": 108
        }
      ]
    },
    {
      "cell_type": "markdown",
      "metadata": {
        "id": "StyrS24jMa0L",
        "colab_type": "text"
      },
      "source": [
        "Creating a column for status"
      ]
    },
    {
      "cell_type": "code",
      "metadata": {
        "id": "PYKi-TIJLnna",
        "colab_type": "code",
        "colab": {}
      },
      "source": [
        "results['goal_difference'] = results['home_score'] - results['away_score']"
      ],
      "execution_count": 0,
      "outputs": []
    },
    {
      "cell_type": "code",
      "metadata": {
        "id": "RJ7OE72cM5CC",
        "colab_type": "code",
        "colab": {
          "base_uri": "https://localhost:8080/",
          "height": 204
        },
        "outputId": "863e8118-2473-4787-f1ce-739f226edd90"
      },
      "source": [
        "results.head()"
      ],
      "execution_count": 110,
      "outputs": [
        {
          "output_type": "execute_result",
          "data": {
            "text/html": [
              "<div>\n",
              "<style scoped>\n",
              "    .dataframe tbody tr th:only-of-type {\n",
              "        vertical-align: middle;\n",
              "    }\n",
              "\n",
              "    .dataframe tbody tr th {\n",
              "        vertical-align: top;\n",
              "    }\n",
              "\n",
              "    .dataframe thead th {\n",
              "        text-align: right;\n",
              "    }\n",
              "</style>\n",
              "<table border=\"1\" class=\"dataframe\">\n",
              "  <thead>\n",
              "    <tr style=\"text-align: right;\">\n",
              "      <th></th>\n",
              "      <th>date</th>\n",
              "      <th>home_team</th>\n",
              "      <th>away_team</th>\n",
              "      <th>home_score</th>\n",
              "      <th>away_score</th>\n",
              "      <th>tournament</th>\n",
              "      <th>city</th>\n",
              "      <th>country</th>\n",
              "      <th>neutral</th>\n",
              "      <th>goal_difference</th>\n",
              "    </tr>\n",
              "  </thead>\n",
              "  <tbody>\n",
              "    <tr>\n",
              "      <th>0</th>\n",
              "      <td>1872-11-30</td>\n",
              "      <td>Scotland</td>\n",
              "      <td>England</td>\n",
              "      <td>0</td>\n",
              "      <td>0</td>\n",
              "      <td>Friendly</td>\n",
              "      <td>Glasgow</td>\n",
              "      <td>Scotland</td>\n",
              "      <td>False</td>\n",
              "      <td>0</td>\n",
              "    </tr>\n",
              "    <tr>\n",
              "      <th>1</th>\n",
              "      <td>1873-03-08</td>\n",
              "      <td>England</td>\n",
              "      <td>Scotland</td>\n",
              "      <td>4</td>\n",
              "      <td>2</td>\n",
              "      <td>Friendly</td>\n",
              "      <td>London</td>\n",
              "      <td>England</td>\n",
              "      <td>False</td>\n",
              "      <td>2</td>\n",
              "    </tr>\n",
              "    <tr>\n",
              "      <th>2</th>\n",
              "      <td>1874-03-07</td>\n",
              "      <td>Scotland</td>\n",
              "      <td>England</td>\n",
              "      <td>2</td>\n",
              "      <td>1</td>\n",
              "      <td>Friendly</td>\n",
              "      <td>Glasgow</td>\n",
              "      <td>Scotland</td>\n",
              "      <td>False</td>\n",
              "      <td>1</td>\n",
              "    </tr>\n",
              "    <tr>\n",
              "      <th>3</th>\n",
              "      <td>1875-03-06</td>\n",
              "      <td>England</td>\n",
              "      <td>Scotland</td>\n",
              "      <td>2</td>\n",
              "      <td>2</td>\n",
              "      <td>Friendly</td>\n",
              "      <td>London</td>\n",
              "      <td>England</td>\n",
              "      <td>False</td>\n",
              "      <td>0</td>\n",
              "    </tr>\n",
              "    <tr>\n",
              "      <th>4</th>\n",
              "      <td>1876-03-04</td>\n",
              "      <td>Scotland</td>\n",
              "      <td>England</td>\n",
              "      <td>3</td>\n",
              "      <td>0</td>\n",
              "      <td>Friendly</td>\n",
              "      <td>Glasgow</td>\n",
              "      <td>Scotland</td>\n",
              "      <td>False</td>\n",
              "      <td>3</td>\n",
              "    </tr>\n",
              "  </tbody>\n",
              "</table>\n",
              "</div>"
            ],
            "text/plain": [
              "         date home_team away_team  ...   country  neutral goal_difference\n",
              "0  1872-11-30  Scotland   England  ...  Scotland    False               0\n",
              "1  1873-03-08   England  Scotland  ...   England    False               2\n",
              "2  1874-03-07  Scotland   England  ...  Scotland    False               1\n",
              "3  1875-03-06   England  Scotland  ...   England    False               0\n",
              "4  1876-03-04  Scotland   England  ...  Scotland    False               3\n",
              "\n",
              "[5 rows x 10 columns]"
            ]
          },
          "metadata": {
            "tags": []
          },
          "execution_count": 110
        }
      ]
    },
    {
      "cell_type": "code",
      "metadata": {
        "id": "kdwh-27SMTss",
        "colab_type": "code",
        "colab": {}
      },
      "source": [
        "# conveting the data in goal differeance to either a win ,draw or a loss\n",
        "results.loc[results.goal_difference > 0, 'status']= 'Win'\n",
        "results.loc[results.goal_difference == 0, 'status']= 'Draw'\n",
        "results.loc[results.goal_difference < 0, 'status']= 'Loss'"
      ],
      "execution_count": 0,
      "outputs": []
    },
    {
      "cell_type": "code",
      "metadata": {
        "id": "LurvZrGKM1B4",
        "colab_type": "code",
        "colab": {
          "base_uri": "https://localhost:8080/",
          "height": 359
        },
        "outputId": "bc1f5eb0-53b1-4bc9-ef15-f7d6352e637f"
      },
      "source": [
        "results.head(10)"
      ],
      "execution_count": 112,
      "outputs": [
        {
          "output_type": "execute_result",
          "data": {
            "text/html": [
              "<div>\n",
              "<style scoped>\n",
              "    .dataframe tbody tr th:only-of-type {\n",
              "        vertical-align: middle;\n",
              "    }\n",
              "\n",
              "    .dataframe tbody tr th {\n",
              "        vertical-align: top;\n",
              "    }\n",
              "\n",
              "    .dataframe thead th {\n",
              "        text-align: right;\n",
              "    }\n",
              "</style>\n",
              "<table border=\"1\" class=\"dataframe\">\n",
              "  <thead>\n",
              "    <tr style=\"text-align: right;\">\n",
              "      <th></th>\n",
              "      <th>date</th>\n",
              "      <th>home_team</th>\n",
              "      <th>away_team</th>\n",
              "      <th>home_score</th>\n",
              "      <th>away_score</th>\n",
              "      <th>tournament</th>\n",
              "      <th>city</th>\n",
              "      <th>country</th>\n",
              "      <th>neutral</th>\n",
              "      <th>goal_difference</th>\n",
              "      <th>status</th>\n",
              "    </tr>\n",
              "  </thead>\n",
              "  <tbody>\n",
              "    <tr>\n",
              "      <th>0</th>\n",
              "      <td>1872-11-30</td>\n",
              "      <td>Scotland</td>\n",
              "      <td>England</td>\n",
              "      <td>0</td>\n",
              "      <td>0</td>\n",
              "      <td>Friendly</td>\n",
              "      <td>Glasgow</td>\n",
              "      <td>Scotland</td>\n",
              "      <td>False</td>\n",
              "      <td>0</td>\n",
              "      <td>Draw</td>\n",
              "    </tr>\n",
              "    <tr>\n",
              "      <th>1</th>\n",
              "      <td>1873-03-08</td>\n",
              "      <td>England</td>\n",
              "      <td>Scotland</td>\n",
              "      <td>4</td>\n",
              "      <td>2</td>\n",
              "      <td>Friendly</td>\n",
              "      <td>London</td>\n",
              "      <td>England</td>\n",
              "      <td>False</td>\n",
              "      <td>2</td>\n",
              "      <td>Win</td>\n",
              "    </tr>\n",
              "    <tr>\n",
              "      <th>2</th>\n",
              "      <td>1874-03-07</td>\n",
              "      <td>Scotland</td>\n",
              "      <td>England</td>\n",
              "      <td>2</td>\n",
              "      <td>1</td>\n",
              "      <td>Friendly</td>\n",
              "      <td>Glasgow</td>\n",
              "      <td>Scotland</td>\n",
              "      <td>False</td>\n",
              "      <td>1</td>\n",
              "      <td>Win</td>\n",
              "    </tr>\n",
              "    <tr>\n",
              "      <th>3</th>\n",
              "      <td>1875-03-06</td>\n",
              "      <td>England</td>\n",
              "      <td>Scotland</td>\n",
              "      <td>2</td>\n",
              "      <td>2</td>\n",
              "      <td>Friendly</td>\n",
              "      <td>London</td>\n",
              "      <td>England</td>\n",
              "      <td>False</td>\n",
              "      <td>0</td>\n",
              "      <td>Draw</td>\n",
              "    </tr>\n",
              "    <tr>\n",
              "      <th>4</th>\n",
              "      <td>1876-03-04</td>\n",
              "      <td>Scotland</td>\n",
              "      <td>England</td>\n",
              "      <td>3</td>\n",
              "      <td>0</td>\n",
              "      <td>Friendly</td>\n",
              "      <td>Glasgow</td>\n",
              "      <td>Scotland</td>\n",
              "      <td>False</td>\n",
              "      <td>3</td>\n",
              "      <td>Win</td>\n",
              "    </tr>\n",
              "    <tr>\n",
              "      <th>5</th>\n",
              "      <td>1876-03-25</td>\n",
              "      <td>Scotland</td>\n",
              "      <td>Wales</td>\n",
              "      <td>4</td>\n",
              "      <td>0</td>\n",
              "      <td>Friendly</td>\n",
              "      <td>Glasgow</td>\n",
              "      <td>Scotland</td>\n",
              "      <td>False</td>\n",
              "      <td>4</td>\n",
              "      <td>Win</td>\n",
              "    </tr>\n",
              "    <tr>\n",
              "      <th>6</th>\n",
              "      <td>1877-03-03</td>\n",
              "      <td>England</td>\n",
              "      <td>Scotland</td>\n",
              "      <td>1</td>\n",
              "      <td>3</td>\n",
              "      <td>Friendly</td>\n",
              "      <td>London</td>\n",
              "      <td>England</td>\n",
              "      <td>False</td>\n",
              "      <td>-2</td>\n",
              "      <td>Loss</td>\n",
              "    </tr>\n",
              "    <tr>\n",
              "      <th>7</th>\n",
              "      <td>1877-03-05</td>\n",
              "      <td>Wales</td>\n",
              "      <td>Scotland</td>\n",
              "      <td>0</td>\n",
              "      <td>2</td>\n",
              "      <td>Friendly</td>\n",
              "      <td>Wrexham</td>\n",
              "      <td>Wales</td>\n",
              "      <td>False</td>\n",
              "      <td>-2</td>\n",
              "      <td>Loss</td>\n",
              "    </tr>\n",
              "    <tr>\n",
              "      <th>8</th>\n",
              "      <td>1878-03-02</td>\n",
              "      <td>Scotland</td>\n",
              "      <td>England</td>\n",
              "      <td>7</td>\n",
              "      <td>2</td>\n",
              "      <td>Friendly</td>\n",
              "      <td>Glasgow</td>\n",
              "      <td>Scotland</td>\n",
              "      <td>False</td>\n",
              "      <td>5</td>\n",
              "      <td>Win</td>\n",
              "    </tr>\n",
              "    <tr>\n",
              "      <th>9</th>\n",
              "      <td>1878-03-23</td>\n",
              "      <td>Scotland</td>\n",
              "      <td>Wales</td>\n",
              "      <td>9</td>\n",
              "      <td>0</td>\n",
              "      <td>Friendly</td>\n",
              "      <td>Glasgow</td>\n",
              "      <td>Scotland</td>\n",
              "      <td>False</td>\n",
              "      <td>9</td>\n",
              "      <td>Win</td>\n",
              "    </tr>\n",
              "  </tbody>\n",
              "</table>\n",
              "</div>"
            ],
            "text/plain": [
              "         date home_team away_team  ...  neutral  goal_difference status\n",
              "0  1872-11-30  Scotland   England  ...    False                0   Draw\n",
              "1  1873-03-08   England  Scotland  ...    False                2    Win\n",
              "2  1874-03-07  Scotland   England  ...    False                1    Win\n",
              "3  1875-03-06   England  Scotland  ...    False                0   Draw\n",
              "4  1876-03-04  Scotland   England  ...    False                3    Win\n",
              "5  1876-03-25  Scotland     Wales  ...    False                4    Win\n",
              "6  1877-03-03   England  Scotland  ...    False               -2   Loss\n",
              "7  1877-03-05     Wales  Scotland  ...    False               -2   Loss\n",
              "8  1878-03-02  Scotland   England  ...    False                5    Win\n",
              "9  1878-03-23  Scotland     Wales  ...    False                9    Win\n",
              "\n",
              "[10 rows x 11 columns]"
            ]
          },
          "metadata": {
            "tags": []
          },
          "execution_count": 112
        }
      ]
    },
    {
      "cell_type": "markdown",
      "metadata": {
        "id": "lEK5FAfKa70u",
        "colab_type": "text"
      },
      "source": [
        "Implementation of status column was a success"
      ]
    },
    {
      "cell_type": "code",
      "metadata": {
        "colab_type": "code",
        "outputId": "2d7ae95e-cd77-4e13-c8f1-d0c6330858d8",
        "id": "SaZPEYnmv4nP",
        "colab": {
          "base_uri": "https://localhost:8080/",
          "height": 221
        }
      },
      "source": [
        "results.dtypes"
      ],
      "execution_count": 0,
      "outputs": [
        {
          "output_type": "execute_result",
          "data": {
            "text/plain": [
              "date               object\n",
              "home_team          object\n",
              "away_team          object\n",
              "home_score          int64\n",
              "away_score          int64\n",
              "tournament         object\n",
              "city               object\n",
              "country            object\n",
              "neutral              bool\n",
              "goal_difference     int64\n",
              "status             object\n",
              "dtype: object"
            ]
          },
          "metadata": {
            "tags": []
          },
          "execution_count": 113
        }
      ]
    },
    {
      "cell_type": "markdown",
      "metadata": {
        "id": "abIow0UfbSH4",
        "colab_type": "text"
      },
      "source": [
        "there are 7 categorical data that needs to be converted to numerical data.\n",
        "*******\n",
        "also goal_difference column needs to be dropped since it will not be relevant anymore"
      ]
    },
    {
      "cell_type": "code",
      "metadata": {
        "id": "GLzv3amIbOq9",
        "colab_type": "code",
        "colab": {}
      },
      "source": [
        "results.date = le.fit_transform(results.date)\n",
        "results.home_team = le.fit_transform(results.home_team)         \n",
        "results.away_team = le.fit_transform(results.away_team)\n",
        "results.tournament = le.fit_transform(results.tournament)        \n",
        "results.city  = le.fit_transform(results.city)             \n",
        "results.country = le.fit_transform(results.country)\n",
        "results.status = le.fit_transform(results.status)"
      ],
      "execution_count": 0,
      "outputs": []
    },
    {
      "cell_type": "markdown",
      "metadata": {
        "id": "Hz__PoPjcbE_",
        "colab_type": "text"
      },
      "source": [
        "conversion of the categorical data was a success"
      ]
    },
    {
      "cell_type": "code",
      "metadata": {
        "id": "gakp85KqcZfL",
        "colab_type": "code",
        "colab": {}
      },
      "source": [
        "# dropping of the goal_difference column\n",
        "results.drop(columns=['goal_difference'], inplace=True)"
      ],
      "execution_count": 0,
      "outputs": []
    },
    {
      "cell_type": "code",
      "metadata": {
        "id": "TWPKGXdHdzEA",
        "colab_type": "code",
        "colab": {
          "base_uri": "https://localhost:8080/",
          "height": 68
        },
        "outputId": "3a09b199-5374-4564-8e06-a673795f93e8"
      },
      "source": [
        "results.columns"
      ],
      "execution_count": 116,
      "outputs": [
        {
          "output_type": "execute_result",
          "data": {
            "text/plain": [
              "Index(['date', 'home_team', 'away_team', 'home_score', 'away_score',\n",
              "       'tournament', 'city', 'country', 'neutral', 'status'],\n",
              "      dtype='object')"
            ]
          },
          "metadata": {
            "tags": []
          },
          "execution_count": 116
        }
      ]
    },
    {
      "cell_type": "code",
      "metadata": {
        "id": "fCagTvWFc0ot",
        "colab_type": "code",
        "colab": {}
      },
      "source": [
        "# preparing data\n",
        "X = results.iloc[:,:8].values\n",
        "y = results.iloc[:,-1].values\n"
      ],
      "execution_count": 0,
      "outputs": []
    },
    {
      "cell_type": "code",
      "metadata": {
        "id": "l5Ol_5EieIci",
        "colab_type": "code",
        "colab": {}
      },
      "source": [
        "# spliting data\n",
        "from sklearn.model_selection import train_test_split\n",
        "X_train, X_test, y_train, y_test = train_test_split(X, y, test_size = .2, random_state=0)"
      ],
      "execution_count": 0,
      "outputs": []
    },
    {
      "cell_type": "code",
      "metadata": {
        "id": "X3GCObBQeLsD",
        "colab_type": "code",
        "colab": {
          "base_uri": "https://localhost:8080/",
          "height": 238
        },
        "outputId": "9cdbd198-cca8-4d9d-b025-f62fb455be9f"
      },
      "source": [
        "# training the dataset\n",
        "from sklearn.linear_model import LogisticRegression\n",
        "\n",
        "LogReg = LogisticRegression()\n",
        "LogReg.fit(X_train, y_train)"
      ],
      "execution_count": 123,
      "outputs": [
        {
          "output_type": "stream",
          "text": [
            "/usr/local/lib/python3.6/dist-packages/sklearn/linear_model/_logistic.py:940: ConvergenceWarning: lbfgs failed to converge (status=1):\n",
            "STOP: TOTAL NO. of ITERATIONS REACHED LIMIT.\n",
            "\n",
            "Increase the number of iterations (max_iter) or scale the data as shown in:\n",
            "    https://scikit-learn.org/stable/modules/preprocessing.html\n",
            "Please also refer to the documentation for alternative solver options:\n",
            "    https://scikit-learn.org/stable/modules/linear_model.html#logistic-regression\n",
            "  extra_warning_msg=_LOGISTIC_SOLVER_CONVERGENCE_MSG)\n"
          ],
          "name": "stderr"
        },
        {
          "output_type": "execute_result",
          "data": {
            "text/plain": [
              "LogisticRegression(C=1.0, class_weight=None, dual=False, fit_intercept=True,\n",
              "                   intercept_scaling=1, l1_ratio=None, max_iter=100,\n",
              "                   multi_class='auto', n_jobs=None, penalty='l2',\n",
              "                   random_state=None, solver='lbfgs', tol=0.0001, verbose=0,\n",
              "                   warm_start=False)"
            ]
          },
          "metadata": {
            "tags": []
          },
          "execution_count": 123
        }
      ]
    },
    {
      "cell_type": "code",
      "metadata": {
        "id": "rCQfWDcpeOsZ",
        "colab_type": "code",
        "colab": {}
      },
      "source": [
        "# making predictions\n",
        "y_pred = LogReg.predict(X_test)"
      ],
      "execution_count": 0,
      "outputs": []
    },
    {
      "cell_type": "code",
      "metadata": {
        "id": "M9CWzG76eQoW",
        "colab_type": "code",
        "colab": {
          "base_uri": "https://localhost:8080/",
          "height": 68
        },
        "outputId": "7b1fba11-2d55-47a2-90c3-0e9f1105a07e"
      },
      "source": [
        "# evaluating the model\n",
        "from sklearn.metrics import confusion_matrix\n",
        "confusion_matrix = confusion_matrix(y_test, y_pred)\n",
        "confusion_matrix\n"
      ],
      "execution_count": 125,
      "outputs": [
        {
          "output_type": "execute_result",
          "data": {
            "text/plain": [
              "array([[   0,   20, 1864],\n",
              "       [   0,   52, 2291],\n",
              "       [   0,   49, 3892]])"
            ]
          },
          "metadata": {
            "tags": []
          },
          "execution_count": 125
        }
      ]
    },
    {
      "cell_type": "markdown",
      "metadata": {
        "id": "qb8P15_whd0f",
        "colab_type": "text"
      },
      "source": [
        "0, 52, 3892 are the correct number of predictions, whereas the rest are false number of predictions"
      ]
    },
    {
      "cell_type": "markdown",
      "metadata": {
        "id": "lQ2G4ZPDVOXE",
        "colab_type": "text"
      },
      "source": [
        "## 8. Challenging the solution"
      ]
    },
    {
      "cell_type": "markdown",
      "metadata": {
        "id": "sIylvmvshwKo",
        "colab_type": "text"
      },
      "source": [
        "A better data cleaning must be done so as to get the best prediction."
      ]
    }
  ]
}